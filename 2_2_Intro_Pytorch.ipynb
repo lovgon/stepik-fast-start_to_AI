{
  "nbformat": 4,
  "nbformat_minor": 0,
  "metadata": {
    "colab": {
      "name": "2_2_Intro_Pytorch.ipynb",
      "provenance": [],
      "collapsed_sections": [
        "uc0Z_a-A8Osz",
        "KffQsYwWYJ_D",
        "kepFeTZ0YKBV",
        "gZitrCN6YKCL",
        "Al73RqKSYKCR",
        "MzLVLQ2GYKCa",
        "iFg82MJIYKCl",
        "J094WEHQYKCv"
      ],
      "toc_visible": true,
      "include_colab_link": true
    },
    "kernelspec": {
      "display_name": "Python 3",
      "language": "python",
      "name": "python3"
    },
    "language_info": {
      "codemirror_mode": {
        "name": "ipython",
        "version": 3
      },
      "file_extension": ".py",
      "mimetype": "text/x-python",
      "name": "python",
      "nbconvert_exporter": "python",
      "pygments_lexer": "ipython3",
      "version": "3.6.5"
    },
    "accelerator": "GPU"
  },
  "cells": [
    {
      "cell_type": "markdown",
      "metadata": {
        "id": "view-in-github",
        "colab_type": "text"
      },
      "source": [
        "<a href=\"https://colab.research.google.com/github/lovgon/stepik-fast-start_to_AI/blob/main/2_2_Intro_Pytorch.ipynb\" target=\"_parent\"><img src=\"https://colab.research.google.com/assets/colab-badge.svg\" alt=\"Open In Colab\"/></a>"
      ]
    },
    {
      "cell_type": "markdown",
      "metadata": {
        "id": "vcnGdgw_YJ8u"
      },
      "source": [
        "# PyTorch. Основы: синтаксис, torch.cuda и torch.autograd"
      ]
    },
    {
      "cell_type": "markdown",
      "metadata": {
        "id": "X7dUo206p9CA"
      },
      "source": [
        "---"
      ]
    },
    {
      "cell_type": "markdown",
      "metadata": {
        "id": "-Iv1eX2mYJ8v"
      },
      "source": [
        "<p style=\"align: center;\"><img src=\"https://upload.wikimedia.org/wikipedia/commons/9/96/Pytorch_logo.png\" width=1205 height=205></p>"
      ]
    },
    {
      "cell_type": "markdown",
      "metadata": {
        "id": "JwiKExhuYJ8w"
      },
      "source": [
        "На этом занятии мы рассмотрим основы фреймворка глубокого обучения PyTorch.  \n",
        "\n",
        "Когда хочется написать какую-нибудь нейросеть, решающую определённую задачу, будь то какая-нибудь простая классификация чего-либо или обнаружение лиц людей на видео. Всё, конечно, всегда начинается со **сбора данных**, а уже потом реализуются модели и проводятся эксперименты.  \n",
        "\n",
        "Однако люди быстро поняли, что писать свои нейронные сети каждый раз с нуля ну очень уж долго и неразумно, поэтому придумали так называемые **фреймворки** - модули, в которых есть функционал, с помощью которого можно быстро и просто решать типовые задачи, и уже с помощью этих средств писать решения к более сложным задачам."
      ]
    },
    {
      "cell_type": "markdown",
      "metadata": {
        "id": "tQoex-sZYJ8x"
      },
      "source": [
        "Есть много различных фремворков глубокого обучения. Разница между ними прежде всего в том, каков общий принцип вычислений. \n",
        "Например, в **Caffe и Caffe2** вы пишете код, по сути, составляя его из готовых \"кусочков\", как в Lego, в **TensorFlow и Theano** вы сначала объявляете вычислительный граф, потом компилируете его и запускаете (sees.run()), в то время как в **Torch и PyTorch** вы пишете почти точно так же, как на NumPy, а граф вычислений создаётся только при запуске (то есть существует только во время выполнения, потом он \"разрушается\"). **Keras** позволяет как строить блоки, так и компилировать свой граф:"
      ]
    },
    {
      "cell_type": "markdown",
      "metadata": {
        "id": "97MX7yrBYJ8y"
      },
      "source": [
        "<p style=\"align: center;\"><img src=\"https://habrastorage.org/web/e3e/c3e/b78/e3ec3eb78d714a7993a6b922911c0866.png\" width=500></p>  \n",
        "<p style=\"text-align: center;\"><i>Картинка взята из этой [статьи на Хабре](https://habr.com/post/334380/)</i><p>"
      ]
    },
    {
      "cell_type": "markdown",
      "metadata": {
        "id": "J74O-qdJYJ80"
      },
      "source": [
        "## Установка"
      ]
    },
    {
      "cell_type": "markdown",
      "metadata": {
        "id": "WpXxZ4-4YJ83"
      },
      "source": [
        "Инструкция по установке PyTorch есть на [официальном сайте PyTorch](https://pytorch.org/)."
      ]
    },
    {
      "cell_type": "markdown",
      "metadata": {
        "id": "uxdjjnqIYJ86"
      },
      "source": [
        "## Синтаксис"
      ]
    },
    {
      "cell_type": "code",
      "metadata": {
        "id": "RtyozNmmYJ89"
      },
      "source": [
        "import torch"
      ],
      "execution_count": 1,
      "outputs": []
    },
    {
      "cell_type": "markdown",
      "metadata": {
        "id": "zjfLQzEPYJ9B"
      },
      "source": [
        "Сначала немного фактов про PyTorch:  \n",
        "- динамический граф вычислений\n",
        "- удобные модули `torch.nn` и `torchvision` для написания нейросетей с минимальными усилиями\n",
        "- в некоторых задачах даже быстрее TensorFlow\n",
        "- легко проводить вычисления на GPU"
      ]
    },
    {
      "cell_type": "markdown",
      "metadata": {
        "id": "0AL-T8TMYJ9D"
      },
      "source": [
        "Если PyTorch представить формулой, то она будет такой:  \n",
        "\n",
        "$$PyTorch = NumPy + CUDA + Autograd$$"
      ]
    },
    {
      "cell_type": "markdown",
      "metadata": {
        "id": "X_O59VXWYJ9E"
      },
      "source": [
        "(CUDA - [wiki](https://ru.wikipedia.org/wiki/CUDA))"
      ]
    },
    {
      "cell_type": "markdown",
      "metadata": {
        "id": "lWIeTFxSYJ9F"
      },
      "source": [
        "Посмотрим, как в PyTorch выполняются операции с векторами.  \n",
        "\n",
        "Напоминание: **тензором** называется многомерный вектор, то есть:  \n",
        "\n",
        "x = np.array([1,2,3]) - вектор = тензор размерности 1 (то есть (1,))  \n",
        "y = np.array([[1, 2, 3], [4, 5, 6]]) - матрица = тензор размерности 2 (в данном случае тензор (2, 3))  \n",
        "z = np.array([[[1, 2, 3], [4, 5, 6], [7, 8, 9]],  \n",
        "    [[1, 2, 3], [4, 5, 6], [7, 8, 9]],  \n",
        "              [[1, 2, 3], [4, 5, 6], [7, 8, 9]]]) - \"кубик\" (3, 3, 3) = тензор размерности 3 (в данном случае (3, 3, 3))"
      ]
    },
    {
      "cell_type": "markdown",
      "metadata": {
        "id": "hS97vo7mYJ9G"
      },
      "source": [
        "Простейшим примером 3-мерного тензора является **картинка** - это \"параллелепипед\" из чисел, у которого три размерности - высота, ширина и количество каналов, значит это тензор размерности 3."
      ]
    },
    {
      "cell_type": "markdown",
      "metadata": {
        "id": "tEeGGtRiYJ9H"
      },
      "source": [
        "Понятие тензора нужно знать потому, что в PyTorch мы оперируем переменными типа `torch.Tensor` (`FloatTensor`, `IntTensor`, `ByteTensor`), и пугаться их названий совершенно не нужно - это просто векторы, у которых несколько размерностей."
      ]
    },
    {
      "cell_type": "markdown",
      "metadata": {
        "id": "byu7xZtLYJ9J"
      },
      "source": [
        "Типы тензоров, которые мы будем использовать:"
      ]
    },
    {
      "cell_type": "code",
      "metadata": {
        "id": "lPIaCLY3YJ9K",
        "colab": {
          "base_uri": "https://localhost:8080/"
        },
        "outputId": "ad92d5cb-fd35-42aa-b6a8-53f9d22953cc"
      },
      "source": [
        "torch.FloatTensor     # 32 бита,  с плавающей точкой\n",
        "torch.IntTensor       # 32 бита, целочисленный, знаковый"
      ],
      "execution_count": 2,
      "outputs": [
        {
          "output_type": "execute_result",
          "data": {
            "text/plain": [
              "torch.IntTensor"
            ]
          },
          "metadata": {
            "tags": []
          },
          "execution_count": 2
        }
      ]
    },
    {
      "cell_type": "markdown",
      "metadata": {
        "id": "NWk2gidNYJ9P"
      },
      "source": [
        "Мы будем использовать только `torch.FloatTensor()` и `torch.IntTensor()`. "
      ]
    },
    {
      "cell_type": "markdown",
      "metadata": {
        "id": "G3HRja4t7tjX"
      },
      "source": [
        "**Когда мы работаем с обучения нейросети, все данные для обучения и все слои нейронных сетей представляются в виде тензоров.**\n",
        "\n",
        "Поэтому важно научиться работать с тензорами."
      ]
    },
    {
      "cell_type": "markdown",
      "metadata": {
        "id": "CllyEKvVYJ9Q"
      },
      "source": [
        "Перейдём к делу:"
      ]
    },
    {
      "cell_type": "markdown",
      "metadata": {
        "id": "uc0Z_a-A8Osz"
      },
      "source": [
        "### Базовые операции с тензорами"
      ]
    },
    {
      "cell_type": "markdown",
      "metadata": {
        "id": "R4HEetsxYJ9Q"
      },
      "source": [
        "* Создание тензоров:"
      ]
    },
    {
      "cell_type": "code",
      "metadata": {
        "id": "MVawE9lRYJ9R",
        "colab": {
          "base_uri": "https://localhost:8080/"
        },
        "outputId": "e5efbc30-5642-466c-f837-724a3fc73bd8"
      },
      "source": [
        "a = torch.FloatTensor([1, 2])\n",
        "a"
      ],
      "execution_count": 3,
      "outputs": [
        {
          "output_type": "execute_result",
          "data": {
            "text/plain": [
              "tensor([1., 2.])"
            ]
          },
          "metadata": {
            "tags": []
          },
          "execution_count": 3
        }
      ]
    },
    {
      "cell_type": "code",
      "metadata": {
        "id": "ARjaPS_GYJ9W",
        "colab": {
          "base_uri": "https://localhost:8080/"
        },
        "outputId": "5cbe48fa-2f0b-4506-8304-1dd89cba593e"
      },
      "source": [
        "a.shape"
      ],
      "execution_count": 4,
      "outputs": [
        {
          "output_type": "execute_result",
          "data": {
            "text/plain": [
              "torch.Size([2])"
            ]
          },
          "metadata": {
            "tags": []
          },
          "execution_count": 4
        }
      ]
    },
    {
      "cell_type": "code",
      "metadata": {
        "id": "4gXf0akDYJ9Z",
        "colab": {
          "base_uri": "https://localhost:8080/"
        },
        "outputId": "b41c0cd1-e627-498c-a75c-756e978648d1"
      },
      "source": [
        "b = torch.FloatTensor([[1,2,3], [4,5,6]])\n",
        "b"
      ],
      "execution_count": 5,
      "outputs": [
        {
          "output_type": "execute_result",
          "data": {
            "text/plain": [
              "tensor([[1., 2., 3.],\n",
              "        [4., 5., 6.]])"
            ]
          },
          "metadata": {
            "tags": []
          },
          "execution_count": 5
        }
      ]
    },
    {
      "cell_type": "code",
      "metadata": {
        "id": "0HTkoIzpYJ9e",
        "colab": {
          "base_uri": "https://localhost:8080/"
        },
        "outputId": "c36d3561-4885-45a5-8ff8-56466989c66c"
      },
      "source": [
        "b.shape"
      ],
      "execution_count": 6,
      "outputs": [
        {
          "output_type": "execute_result",
          "data": {
            "text/plain": [
              "torch.Size([2, 3])"
            ]
          },
          "metadata": {
            "tags": []
          },
          "execution_count": 6
        }
      ]
    },
    {
      "cell_type": "code",
      "metadata": {
        "id": "WYJ9L-yFYJ9j"
      },
      "source": [
        "x = torch.FloatTensor(2,3,4)"
      ],
      "execution_count": 7,
      "outputs": []
    },
    {
      "cell_type": "code",
      "metadata": {
        "id": "qWAEP27IYJ9m",
        "colab": {
          "base_uri": "https://localhost:8080/"
        },
        "outputId": "b8791305-02c2-46b5-b47e-093dbfcdabf2"
      },
      "source": [
        "x"
      ],
      "execution_count": 8,
      "outputs": [
        {
          "output_type": "execute_result",
          "data": {
            "text/plain": [
              "tensor([[[1.5012e-35, 0.0000e+00, 7.0065e-44, 6.7262e-44],\n",
              "         [6.3058e-44, 6.8664e-44, 7.0065e-44, 6.3058e-44],\n",
              "         [6.7262e-44, 7.4269e-44, 1.1771e-43, 7.0065e-44]],\n",
              "\n",
              "        [[7.1466e-44, 8.1275e-44, 7.4269e-44, 7.1466e-44],\n",
              "         [8.1275e-44, 7.1466e-44, 7.1466e-44, 6.4460e-44],\n",
              "         [7.8473e-44, 6.8664e-44, 7.7071e-44, 7.8473e-44]]])"
            ]
          },
          "metadata": {
            "tags": []
          },
          "execution_count": 8
        }
      ]
    },
    {
      "cell_type": "code",
      "metadata": {
        "id": "o5CsOJ_xYJ9s",
        "scrolled": true,
        "colab": {
          "base_uri": "https://localhost:8080/"
        },
        "outputId": "8c545034-df2a-4e4a-86b2-ec86e5c1f610"
      },
      "source": [
        "x = torch.FloatTensor(100).zero_()\n",
        "x"
      ],
      "execution_count": 9,
      "outputs": [
        {
          "output_type": "execute_result",
          "data": {
            "text/plain": [
              "tensor([0., 0., 0., 0., 0., 0., 0., 0., 0., 0., 0., 0., 0., 0., 0., 0., 0., 0., 0., 0., 0., 0., 0., 0.,\n",
              "        0., 0., 0., 0., 0., 0., 0., 0., 0., 0., 0., 0., 0., 0., 0., 0., 0., 0., 0., 0., 0., 0., 0., 0.,\n",
              "        0., 0., 0., 0., 0., 0., 0., 0., 0., 0., 0., 0., 0., 0., 0., 0., 0., 0., 0., 0., 0., 0., 0., 0.,\n",
              "        0., 0., 0., 0., 0., 0., 0., 0., 0., 0., 0., 0., 0., 0., 0., 0., 0., 0., 0., 0., 0., 0., 0., 0.,\n",
              "        0., 0., 0., 0.])"
            ]
          },
          "metadata": {
            "tags": []
          },
          "execution_count": 9
        }
      ]
    },
    {
      "cell_type": "code",
      "metadata": {
        "id": "uIVhvmzZYJ91",
        "colab": {
          "base_uri": "https://localhost:8080/"
        },
        "outputId": "6acca066-3d56-4128-9493-ececc1c0d3c6"
      },
      "source": [
        "x = torch.IntTensor(45, 57, 14, 2)\n",
        "x.shape"
      ],
      "execution_count": 10,
      "outputs": [
        {
          "output_type": "execute_result",
          "data": {
            "text/plain": [
              "torch.Size([45, 57, 14, 2])"
            ]
          },
          "metadata": {
            "tags": []
          },
          "execution_count": 10
        }
      ]
    },
    {
      "cell_type": "markdown",
      "metadata": {
        "id": "cUzl8DFRYJ95"
      },
      "source": [
        "**Обратите внимание** - если вы создаёте тензор через задание размерностей (как в примере выше), то он изначально заполняюстя случайным \"мусором\". Что инициализировать нулями, нужно написать .zero_() в конце:"
      ]
    },
    {
      "cell_type": "code",
      "metadata": {
        "id": "QX0QcIOzYJ96",
        "colab": {
          "base_uri": "https://localhost:8080/"
        },
        "outputId": "f4a682ec-901f-406d-bad1-9caed4fcb266"
      },
      "source": [
        "x = torch.IntTensor(3, 2, 4)\n",
        "x"
      ],
      "execution_count": 11,
      "outputs": [
        {
          "output_type": "execute_result",
          "data": {
            "text/plain": [
              "tensor([[[94347776,        0,       50,       48],\n",
              "         [      45,       49,       50,       45]],\n",
              "\n",
              "        [[      48,       53,       84,       50],\n",
              "         [      51,       58,       53,       51]],\n",
              "\n",
              "        [[      58,       51,       51,       46],\n",
              "         [      56,       50,       52,       55]]], dtype=torch.int32)"
            ]
          },
          "metadata": {
            "tags": []
          },
          "execution_count": 11
        }
      ]
    },
    {
      "cell_type": "code",
      "metadata": {
        "id": "XV3w9lVwYJ-A",
        "colab": {
          "base_uri": "https://localhost:8080/"
        },
        "outputId": "7085edeb-bd44-4aa1-b722-9499b60d3040"
      },
      "source": [
        "x = torch.IntTensor(3, 2, 4).zero_()\n",
        "x"
      ],
      "execution_count": 12,
      "outputs": [
        {
          "output_type": "execute_result",
          "data": {
            "text/plain": [
              "tensor([[[0, 0, 0, 0],\n",
              "         [0, 0, 0, 0]],\n",
              "\n",
              "        [[0, 0, 0, 0],\n",
              "         [0, 0, 0, 0]],\n",
              "\n",
              "        [[0, 0, 0, 0],\n",
              "         [0, 0, 0, 0]]], dtype=torch.int32)"
            ]
          },
          "metadata": {
            "tags": []
          },
          "execution_count": 12
        }
      ]
    },
    {
      "cell_type": "markdown",
      "metadata": {
        "id": "SAAmLRwzYJ-E"
      },
      "source": [
        "Аналог функции `np.reshape()` == `torch.view()`:"
      ]
    },
    {
      "cell_type": "code",
      "metadata": {
        "id": "ePjL3X3GYJ-H",
        "colab": {
          "base_uri": "https://localhost:8080/"
        },
        "outputId": "76c8a827-ac89-4b0e-e408-f1c75197b828"
      },
      "source": [
        "b.view(3, 2)"
      ],
      "execution_count": 13,
      "outputs": [
        {
          "output_type": "execute_result",
          "data": {
            "text/plain": [
              "tensor([[1., 2.],\n",
              "        [3., 4.],\n",
              "        [5., 6.]])"
            ]
          },
          "metadata": {
            "tags": []
          },
          "execution_count": 13
        }
      ]
    },
    {
      "cell_type": "code",
      "metadata": {
        "id": "spMYG2xXYJ-L",
        "colab": {
          "base_uri": "https://localhost:8080/"
        },
        "outputId": "b7fd0beb-e2e6-4c4f-820b-7ce7edc0cd5d"
      },
      "source": [
        "b"
      ],
      "execution_count": 14,
      "outputs": [
        {
          "output_type": "execute_result",
          "data": {
            "text/plain": [
              "tensor([[1., 2., 3.],\n",
              "        [4., 5., 6.]])"
            ]
          },
          "metadata": {
            "tags": []
          },
          "execution_count": 14
        }
      ]
    },
    {
      "cell_type": "markdown",
      "metadata": {
        "id": "amVu0N1zYJ-O"
      },
      "source": [
        "**Обратите внимание** - torch.view() создаёт новый тензор, а не изменяет старый!"
      ]
    },
    {
      "cell_type": "code",
      "metadata": {
        "id": "hWqyugOSYJ-Q",
        "colab": {
          "base_uri": "https://localhost:8080/"
        },
        "outputId": "615ef252-e21a-4872-bdc3-1dd1cebce849"
      },
      "source": [
        "b.view(-1)"
      ],
      "execution_count": 15,
      "outputs": [
        {
          "output_type": "execute_result",
          "data": {
            "text/plain": [
              "tensor([1., 2., 3., 4., 5., 6.])"
            ]
          },
          "metadata": {
            "tags": []
          },
          "execution_count": 15
        }
      ]
    },
    {
      "cell_type": "code",
      "metadata": {
        "id": "S9CvF56uYJ-U",
        "colab": {
          "base_uri": "https://localhost:8080/"
        },
        "outputId": "6ce326ea-ef6a-4f3b-90d1-058d7e50cc09"
      },
      "source": [
        "b"
      ],
      "execution_count": 16,
      "outputs": [
        {
          "output_type": "execute_result",
          "data": {
            "text/plain": [
              "tensor([[1., 2., 3.],\n",
              "        [4., 5., 6.]])"
            ]
          },
          "metadata": {
            "tags": []
          },
          "execution_count": 16
        }
      ]
    },
    {
      "cell_type": "markdown",
      "metadata": {
        "id": "t401j1E2YJ-Z"
      },
      "source": [
        "* Изменение типа тензора:"
      ]
    },
    {
      "cell_type": "code",
      "metadata": {
        "id": "F9RKKwT1wctA"
      },
      "source": [
        ""
      ],
      "execution_count": 16,
      "outputs": []
    },
    {
      "cell_type": "code",
      "metadata": {
        "id": "f_iDUEH4YJ-Z"
      },
      "source": [
        "a = torch.FloatTensor([1.5, 3.2, -7])"
      ],
      "execution_count": 17,
      "outputs": []
    },
    {
      "cell_type": "code",
      "metadata": {
        "id": "EzJOrXitYJ-e",
        "colab": {
          "base_uri": "https://localhost:8080/"
        },
        "outputId": "d9dceef9-d239-43f7-96b4-1acdaf097a50"
      },
      "source": [
        "a.type_as(torch.IntTensor())"
      ],
      "execution_count": 18,
      "outputs": [
        {
          "output_type": "execute_result",
          "data": {
            "text/plain": [
              "tensor([ 1,  3, -7], dtype=torch.int32)"
            ]
          },
          "metadata": {
            "tags": []
          },
          "execution_count": 18
        }
      ]
    },
    {
      "cell_type": "markdown",
      "metadata": {
        "id": "4rkatrUeYJ-n"
      },
      "source": [
        "Обратите внимание, что при `.type_as()` создаётся новый тензор (старый не меняется), то есть это не in-place операция:"
      ]
    },
    {
      "cell_type": "code",
      "metadata": {
        "id": "fCgDT14MYJ-o",
        "colab": {
          "base_uri": "https://localhost:8080/"
        },
        "outputId": "0e81262b-d997-4a95-804e-fb6a2f1d5a25"
      },
      "source": [
        "a"
      ],
      "execution_count": 19,
      "outputs": [
        {
          "output_type": "execute_result",
          "data": {
            "text/plain": [
              "tensor([ 1.5000,  3.2000, -7.0000])"
            ]
          },
          "metadata": {
            "tags": []
          },
          "execution_count": 19
        }
      ]
    },
    {
      "cell_type": "markdown",
      "metadata": {
        "id": "hG1OwtFBYJ-r"
      },
      "source": [
        "* Индексация точная такая же, как и в NumPy:"
      ]
    },
    {
      "cell_type": "code",
      "metadata": {
        "id": "prr0EGIYYJ-r",
        "colab": {
          "base_uri": "https://localhost:8080/"
        },
        "outputId": "83993441-ef10-4f37-ed24-663a9cd91794"
      },
      "source": [
        "a = torch.FloatTensor([[100, 20, 35], [15, 163, 534], [52, 90, 66]])\n",
        "a"
      ],
      "execution_count": 20,
      "outputs": [
        {
          "output_type": "execute_result",
          "data": {
            "text/plain": [
              "tensor([[100.,  20.,  35.],\n",
              "        [ 15., 163., 534.],\n",
              "        [ 52.,  90.,  66.]])"
            ]
          },
          "metadata": {
            "tags": []
          },
          "execution_count": 20
        }
      ]
    },
    {
      "cell_type": "code",
      "metadata": {
        "id": "IBq7JiccYJ-w",
        "colab": {
          "base_uri": "https://localhost:8080/"
        },
        "outputId": "4a4ef2a5-803a-47fa-fc34-a349c794aabb"
      },
      "source": [
        "a[0, 0]"
      ],
      "execution_count": 21,
      "outputs": [
        {
          "output_type": "execute_result",
          "data": {
            "text/plain": [
              "tensor(100.)"
            ]
          },
          "metadata": {
            "tags": []
          },
          "execution_count": 21
        }
      ]
    },
    {
      "cell_type": "code",
      "metadata": {
        "id": "vE9cb0XkYJ-z",
        "colab": {
          "base_uri": "https://localhost:8080/"
        },
        "outputId": "657c2665-417f-4489-c99a-477316567a6b"
      },
      "source": [
        "a[0][0]"
      ],
      "execution_count": 22,
      "outputs": [
        {
          "output_type": "execute_result",
          "data": {
            "text/plain": [
              "tensor(100.)"
            ]
          },
          "metadata": {
            "tags": []
          },
          "execution_count": 22
        }
      ]
    },
    {
      "cell_type": "code",
      "metadata": {
        "id": "UUZzx2F_YJ-2",
        "colab": {
          "base_uri": "https://localhost:8080/"
        },
        "outputId": "0123e20c-f35e-4979-a470-8b859e72442a"
      },
      "source": [
        "a[0:2, 0:2]"
      ],
      "execution_count": 23,
      "outputs": [
        {
          "output_type": "execute_result",
          "data": {
            "text/plain": [
              "tensor([[100.,  20.],\n",
              "        [ 15., 163.]])"
            ]
          },
          "metadata": {
            "tags": []
          },
          "execution_count": 23
        }
      ]
    },
    {
      "cell_type": "markdown",
      "metadata": {
        "id": "KffQsYwWYJ_D"
      },
      "source": [
        "### Арифметика и булевы операции\n",
        "\n",
        "работают также, как и в NumPy, но у стандартных операторов `+`, `-`, `*`, `/`, есть аналоги:  \n",
        "\n",
        "| Оператор | Аналог |\n",
        "|:-:|:-:|\n",
        "|`+`| `torch.add()` |\n",
        "|`-`| `torch.sub()` |\n",
        "|`*`| `torch.mul()` |\n",
        "|`/`| `torch.div()` |"
      ]
    },
    {
      "cell_type": "markdown",
      "metadata": {
        "id": "UMpR8T11YJ_D"
      },
      "source": [
        "* Сложение:"
      ]
    },
    {
      "cell_type": "code",
      "metadata": {
        "id": "1XHkSjEUYJ_D"
      },
      "source": [
        "a = torch.FloatTensor([[1, 2, 3], [10, 20, 30], [100, 200, 300]])\n",
        "b = torch.FloatTensor([[-1, -2, -3], [-10, -20, -30], [100, 200, 300]])"
      ],
      "execution_count": 24,
      "outputs": []
    },
    {
      "cell_type": "code",
      "metadata": {
        "id": "td25tuFKYJ_H",
        "colab": {
          "base_uri": "https://localhost:8080/"
        },
        "outputId": "1f2e1952-70f3-44c7-e2b1-8bab7ab58d01"
      },
      "source": [
        "a + b"
      ],
      "execution_count": 25,
      "outputs": [
        {
          "output_type": "execute_result",
          "data": {
            "text/plain": [
              "tensor([[  0.,   0.,   0.],\n",
              "        [  0.,   0.,   0.],\n",
              "        [200., 400., 600.]])"
            ]
          },
          "metadata": {
            "tags": []
          },
          "execution_count": 25
        }
      ]
    },
    {
      "cell_type": "markdown",
      "metadata": {
        "id": "jWYjf1ENYJ_M"
      },
      "source": [
        "Или:"
      ]
    },
    {
      "cell_type": "code",
      "metadata": {
        "id": "wHka8PxFYJ_N",
        "colab": {
          "base_uri": "https://localhost:8080/"
        },
        "outputId": "4108e142-5f58-4861-bb87-27f86f4947e3"
      },
      "source": [
        "a.add(b)\n"
      ],
      "execution_count": 26,
      "outputs": [
        {
          "output_type": "execute_result",
          "data": {
            "text/plain": [
              "tensor([[  0.,   0.,   0.],\n",
              "        [  0.,   0.,   0.],\n",
              "        [200., 400., 600.]])"
            ]
          },
          "metadata": {
            "tags": []
          },
          "execution_count": 26
        }
      ]
    },
    {
      "cell_type": "code",
      "metadata": {
        "id": "FHQj4DbBYJ_Q",
        "colab": {
          "base_uri": "https://localhost:8080/"
        },
        "outputId": "47fb09ff-79f9-4e63-a236-fab423dca283"
      },
      "source": [
        "b = -a\n",
        "b"
      ],
      "execution_count": 27,
      "outputs": [
        {
          "output_type": "execute_result",
          "data": {
            "text/plain": [
              "tensor([[  -1.,   -2.,   -3.],\n",
              "        [ -10.,  -20.,  -30.],\n",
              "        [-100., -200., -300.]])"
            ]
          },
          "metadata": {
            "tags": []
          },
          "execution_count": 27
        }
      ]
    },
    {
      "cell_type": "code",
      "metadata": {
        "id": "xLCDzO7iYJ_V",
        "colab": {
          "base_uri": "https://localhost:8080/"
        },
        "outputId": "f04c6871-cc65-4c18-b246-1c913577e06c"
      },
      "source": [
        "a + b"
      ],
      "execution_count": 28,
      "outputs": [
        {
          "output_type": "execute_result",
          "data": {
            "text/plain": [
              "tensor([[0., 0., 0.],\n",
              "        [0., 0., 0.],\n",
              "        [0., 0., 0.]])"
            ]
          },
          "metadata": {
            "tags": []
          },
          "execution_count": 28
        }
      ]
    },
    {
      "cell_type": "markdown",
      "metadata": {
        "id": "z_3gVLY3YJ_Z"
      },
      "source": [
        "* Вычитание:"
      ]
    },
    {
      "cell_type": "code",
      "metadata": {
        "id": "PANHq3eFYJ_a",
        "colab": {
          "base_uri": "https://localhost:8080/"
        },
        "outputId": "32f4e2c3-4cb0-40ee-a51d-78b16b27297c"
      },
      "source": [
        "a - b"
      ],
      "execution_count": 29,
      "outputs": [
        {
          "output_type": "execute_result",
          "data": {
            "text/plain": [
              "tensor([[  2.,   4.,   6.],\n",
              "        [ 20.,  40.,  60.],\n",
              "        [200., 400., 600.]])"
            ]
          },
          "metadata": {
            "tags": []
          },
          "execution_count": 29
        }
      ]
    },
    {
      "cell_type": "markdown",
      "metadata": {
        "id": "tPL1W8ajYJ_i"
      },
      "source": [
        "Или:"
      ]
    },
    {
      "cell_type": "code",
      "metadata": {
        "id": "AH7xhdkRYJ_i",
        "colab": {
          "base_uri": "https://localhost:8080/"
        },
        "outputId": "a007879a-da76-43e1-d44d-7b269310ee2a"
      },
      "source": [
        "a.sub(b)"
      ],
      "execution_count": 30,
      "outputs": [
        {
          "output_type": "execute_result",
          "data": {
            "text/plain": [
              "tensor([[  2.,   4.,   6.],\n",
              "        [ 20.,  40.,  60.],\n",
              "        [200., 400., 600.]])"
            ]
          },
          "metadata": {
            "tags": []
          },
          "execution_count": 30
        }
      ]
    },
    {
      "cell_type": "markdown",
      "metadata": {
        "id": "KOX3dTuZYJ_l"
      },
      "source": [
        "* Умножение (поэлементное):"
      ]
    },
    {
      "cell_type": "code",
      "metadata": {
        "id": "J380CvNGYJ_m",
        "colab": {
          "base_uri": "https://localhost:8080/"
        },
        "outputId": "7e62ca21-231e-46f3-e17c-f396db130947"
      },
      "source": [
        "a * b"
      ],
      "execution_count": 31,
      "outputs": [
        {
          "output_type": "execute_result",
          "data": {
            "text/plain": [
              "tensor([[-1.0000e+00, -4.0000e+00, -9.0000e+00],\n",
              "        [-1.0000e+02, -4.0000e+02, -9.0000e+02],\n",
              "        [-1.0000e+04, -4.0000e+04, -9.0000e+04]])"
            ]
          },
          "metadata": {
            "tags": []
          },
          "execution_count": 31
        }
      ]
    },
    {
      "cell_type": "markdown",
      "metadata": {
        "id": "UG7aOFSvYJ_o"
      },
      "source": [
        "Или:"
      ]
    },
    {
      "cell_type": "code",
      "metadata": {
        "id": "cixW0jgdYJ_o",
        "colab": {
          "base_uri": "https://localhost:8080/"
        },
        "outputId": "293a58cc-1df2-4318-fdfb-1175959fb289"
      },
      "source": [
        "a.mul(b)"
      ],
      "execution_count": 32,
      "outputs": [
        {
          "output_type": "execute_result",
          "data": {
            "text/plain": [
              "tensor([[-1.0000e+00, -4.0000e+00, -9.0000e+00],\n",
              "        [-1.0000e+02, -4.0000e+02, -9.0000e+02],\n",
              "        [-1.0000e+04, -4.0000e+04, -9.0000e+04]])"
            ]
          },
          "metadata": {
            "tags": []
          },
          "execution_count": 32
        }
      ]
    },
    {
      "cell_type": "markdown",
      "metadata": {
        "id": "V-GYTERKYJ_q"
      },
      "source": [
        "* Деление (поэлементное):"
      ]
    },
    {
      "cell_type": "code",
      "metadata": {
        "id": "fUBQns2SYJ_r"
      },
      "source": [
        "a = torch.FloatTensor([[1, 2, 3], [10, 20, 30], [100, 200, 300]])\n",
        "b = torch.FloatTensor([[-1, -2, -3], [-10, -20, -30], [100, 200, 300]])"
      ],
      "execution_count": 33,
      "outputs": []
    },
    {
      "cell_type": "code",
      "metadata": {
        "id": "2hrKeMjAYJ_v",
        "colab": {
          "base_uri": "https://localhost:8080/"
        },
        "outputId": "2a66b588-c20c-48ca-909e-e72c7ca7e293"
      },
      "source": [
        "a / b"
      ],
      "execution_count": 34,
      "outputs": [
        {
          "output_type": "execute_result",
          "data": {
            "text/plain": [
              "tensor([[-1., -1., -1.],\n",
              "        [-1., -1., -1.],\n",
              "        [ 1.,  1.,  1.]])"
            ]
          },
          "metadata": {
            "tags": []
          },
          "execution_count": 34
        }
      ]
    },
    {
      "cell_type": "markdown",
      "metadata": {
        "id": "KvcGLFVNYJ_0"
      },
      "source": [
        "Или:"
      ]
    },
    {
      "cell_type": "code",
      "metadata": {
        "id": "cpg3YFVPYJ_2",
        "colab": {
          "base_uri": "https://localhost:8080/"
        },
        "outputId": "5e41c462-03f4-4bac-b6f9-3ad3516b98c1"
      },
      "source": [
        "a.div(b)"
      ],
      "execution_count": 35,
      "outputs": [
        {
          "output_type": "execute_result",
          "data": {
            "text/plain": [
              "tensor([[-1., -1., -1.],\n",
              "        [-1., -1., -1.],\n",
              "        [ 1.,  1.,  1.]])"
            ]
          },
          "metadata": {
            "tags": []
          },
          "execution_count": 35
        }
      ]
    },
    {
      "cell_type": "markdown",
      "metadata": {
        "id": "VeLAbx1tYJ_7"
      },
      "source": [
        "Заметьте, все эти операции **не меняют исходные тензоры**, а **создают новые**:"
      ]
    },
    {
      "cell_type": "code",
      "metadata": {
        "id": "57BFtnlgYJ_8",
        "colab": {
          "base_uri": "https://localhost:8080/"
        },
        "outputId": "23fe9939-ebcb-4845-e7c6-d297dfe9dcb7"
      },
      "source": [
        "a"
      ],
      "execution_count": 36,
      "outputs": [
        {
          "output_type": "execute_result",
          "data": {
            "text/plain": [
              "tensor([[  1.,   2.,   3.],\n",
              "        [ 10.,  20.,  30.],\n",
              "        [100., 200., 300.]])"
            ]
          },
          "metadata": {
            "tags": []
          },
          "execution_count": 36
        }
      ]
    },
    {
      "cell_type": "code",
      "metadata": {
        "id": "UziXyvtDYJ_-",
        "colab": {
          "base_uri": "https://localhost:8080/"
        },
        "outputId": "33d52127-95f3-4c54-8ad9-5cc7e9a8f477"
      },
      "source": [
        "b"
      ],
      "execution_count": 37,
      "outputs": [
        {
          "output_type": "execute_result",
          "data": {
            "text/plain": [
              "tensor([[ -1.,  -2.,  -3.],\n",
              "        [-10., -20., -30.],\n",
              "        [100., 200., 300.]])"
            ]
          },
          "metadata": {
            "tags": []
          },
          "execution_count": 37
        }
      ]
    },
    {
      "cell_type": "markdown",
      "metadata": {
        "id": "vLpwZPc3YKAC"
      },
      "source": [
        "* **Операторы сравнения**:"
      ]
    },
    {
      "cell_type": "code",
      "metadata": {
        "id": "FfRzvw_UYKAC"
      },
      "source": [
        "a = torch.FloatTensor([[1, 2, 3], [10, 20, 30], [100, 200, 300]])\n",
        "b = torch.FloatTensor([[-1, -2, -3], [-10, -20, -30], [100, 200, 300]])"
      ],
      "execution_count": 38,
      "outputs": []
    },
    {
      "cell_type": "code",
      "metadata": {
        "id": "o1RUTP2BYKAD",
        "colab": {
          "base_uri": "https://localhost:8080/"
        },
        "outputId": "78acebd9-5c4a-4eca-c51f-c503116e034b"
      },
      "source": [
        "a == b"
      ],
      "execution_count": 39,
      "outputs": [
        {
          "output_type": "execute_result",
          "data": {
            "text/plain": [
              "tensor([[False, False, False],\n",
              "        [False, False, False],\n",
              "        [ True,  True,  True]])"
            ]
          },
          "metadata": {
            "tags": []
          },
          "execution_count": 39
        }
      ]
    },
    {
      "cell_type": "code",
      "metadata": {
        "id": "JO3HaVIAYKAF",
        "colab": {
          "base_uri": "https://localhost:8080/"
        },
        "outputId": "faed1fae-56a7-4cd7-c843-7994c46bcdcb"
      },
      "source": [
        "a != b"
      ],
      "execution_count": 40,
      "outputs": [
        {
          "output_type": "execute_result",
          "data": {
            "text/plain": [
              "tensor([[ True,  True,  True],\n",
              "        [ True,  True,  True],\n",
              "        [False, False, False]])"
            ]
          },
          "metadata": {
            "tags": []
          },
          "execution_count": 40
        }
      ]
    },
    {
      "cell_type": "code",
      "metadata": {
        "id": "DExLBj4VYKAH",
        "colab": {
          "base_uri": "https://localhost:8080/"
        },
        "outputId": "558636ce-25c9-4d94-cf3f-0d0915e78847"
      },
      "source": [
        "a < b"
      ],
      "execution_count": 41,
      "outputs": [
        {
          "output_type": "execute_result",
          "data": {
            "text/plain": [
              "tensor([[False, False, False],\n",
              "        [False, False, False],\n",
              "        [False, False, False]])"
            ]
          },
          "metadata": {
            "tags": []
          },
          "execution_count": 41
        }
      ]
    },
    {
      "cell_type": "code",
      "metadata": {
        "id": "O7sTcbv0Qeam"
      },
      "source": [
        ""
      ],
      "execution_count": 41,
      "outputs": []
    },
    {
      "cell_type": "code",
      "metadata": {
        "id": "0_IH_FUNYKAJ",
        "colab": {
          "base_uri": "https://localhost:8080/"
        },
        "outputId": "a152a4ad-13b4-4efb-96b1-09a8d0c3d991"
      },
      "source": [
        "a > b"
      ],
      "execution_count": 42,
      "outputs": [
        {
          "output_type": "execute_result",
          "data": {
            "text/plain": [
              "tensor([[ True,  True,  True],\n",
              "        [ True,  True,  True],\n",
              "        [False, False, False]])"
            ]
          },
          "metadata": {
            "tags": []
          },
          "execution_count": 42
        }
      ]
    },
    {
      "cell_type": "markdown",
      "metadata": {
        "id": "54bQky1bYKAf"
      },
      "source": [
        "Применение **стандартных функций** такое же, как и в numpy - поэлементное:"
      ]
    },
    {
      "cell_type": "code",
      "metadata": {
        "id": "lWnGSuUhYKAf"
      },
      "source": [
        "a = torch.FloatTensor([[1, 2, 3], [10, 20, 30], [100, 200, 300]])"
      ],
      "execution_count": 43,
      "outputs": []
    },
    {
      "cell_type": "code",
      "metadata": {
        "id": "J6ZyxZBNYKAl",
        "colab": {
          "base_uri": "https://localhost:8080/"
        },
        "outputId": "a1162e76-52d4-42ff-da75-fe1a8674af86"
      },
      "source": [
        "a.sin()"
      ],
      "execution_count": 44,
      "outputs": [
        {
          "output_type": "execute_result",
          "data": {
            "text/plain": [
              "tensor([[ 0.8415,  0.9093,  0.1411],\n",
              "        [-0.5440,  0.9129, -0.9880],\n",
              "        [-0.5064, -0.8733, -0.9998]])"
            ]
          },
          "metadata": {
            "tags": []
          },
          "execution_count": 44
        }
      ]
    },
    {
      "cell_type": "code",
      "metadata": {
        "id": "SScTSkJMYKAo",
        "colab": {
          "base_uri": "https://localhost:8080/"
        },
        "outputId": "d1bb376b-8021-4094-b409-2575b9ff4ca2"
      },
      "source": [
        "torch.sin(a)"
      ],
      "execution_count": 45,
      "outputs": [
        {
          "output_type": "execute_result",
          "data": {
            "text/plain": [
              "tensor([[ 0.8415,  0.9093,  0.1411],\n",
              "        [-0.5440,  0.9129, -0.9880],\n",
              "        [-0.5064, -0.8733, -0.9998]])"
            ]
          },
          "metadata": {
            "tags": []
          },
          "execution_count": 45
        }
      ]
    },
    {
      "cell_type": "code",
      "metadata": {
        "id": "0bYVYVV7YKAr",
        "colab": {
          "base_uri": "https://localhost:8080/"
        },
        "outputId": "ebd01f04-122e-44aa-92b2-de910b51da4f"
      },
      "source": [
        "a.cos()"
      ],
      "execution_count": 46,
      "outputs": [
        {
          "output_type": "execute_result",
          "data": {
            "text/plain": [
              "tensor([[ 0.5403, -0.4161, -0.9900],\n",
              "        [-0.8391,  0.4081,  0.1543],\n",
              "        [ 0.8623,  0.4872, -0.0221]])"
            ]
          },
          "metadata": {
            "tags": []
          },
          "execution_count": 46
        }
      ]
    },
    {
      "cell_type": "code",
      "metadata": {
        "id": "c-rYL8HQYKAt",
        "colab": {
          "base_uri": "https://localhost:8080/"
        },
        "outputId": "8c022a8a-3e30-4b24-c5dc-40a73556ffe1"
      },
      "source": [
        "a.exp()"
      ],
      "execution_count": 47,
      "outputs": [
        {
          "output_type": "execute_result",
          "data": {
            "text/plain": [
              "tensor([[2.7183e+00, 7.3891e+00, 2.0086e+01],\n",
              "        [2.2026e+04, 4.8517e+08, 1.0686e+13],\n",
              "        [       inf,        inf,        inf]])"
            ]
          },
          "metadata": {
            "tags": []
          },
          "execution_count": 47
        }
      ]
    },
    {
      "cell_type": "code",
      "metadata": {
        "id": "EbiCDYUzYKAw",
        "colab": {
          "base_uri": "https://localhost:8080/"
        },
        "outputId": "161f771c-c178-4013-b2d0-2deff40542d8"
      },
      "source": [
        "a.log()"
      ],
      "execution_count": 48,
      "outputs": [
        {
          "output_type": "execute_result",
          "data": {
            "text/plain": [
              "tensor([[0.0000, 0.6931, 1.0986],\n",
              "        [2.3026, 2.9957, 3.4012],\n",
              "        [4.6052, 5.2983, 5.7038]])"
            ]
          },
          "metadata": {
            "tags": []
          },
          "execution_count": 48
        }
      ]
    },
    {
      "cell_type": "code",
      "metadata": {
        "id": "yh1sySpiYKAy",
        "colab": {
          "base_uri": "https://localhost:8080/"
        },
        "outputId": "4bdfeb61-6b0e-403f-88c8-80bd024edf1c"
      },
      "source": [
        "b = -a\n",
        "b"
      ],
      "execution_count": 49,
      "outputs": [
        {
          "output_type": "execute_result",
          "data": {
            "text/plain": [
              "tensor([[  -1.,   -2.,   -3.],\n",
              "        [ -10.,  -20.,  -30.],\n",
              "        [-100., -200., -300.]])"
            ]
          },
          "metadata": {
            "tags": []
          },
          "execution_count": 49
        }
      ]
    },
    {
      "cell_type": "code",
      "metadata": {
        "id": "PNU0UxqIYKA2",
        "colab": {
          "base_uri": "https://localhost:8080/"
        },
        "outputId": "51959c46-a206-4d83-dfbe-0ce59fb17228"
      },
      "source": [
        "b.abs()"
      ],
      "execution_count": 50,
      "outputs": [
        {
          "output_type": "execute_result",
          "data": {
            "text/plain": [
              "tensor([[  1.,   2.,   3.],\n",
              "        [ 10.,  20.,  30.],\n",
              "        [100., 200., 300.]])"
            ]
          },
          "metadata": {
            "tags": []
          },
          "execution_count": 50
        }
      ]
    },
    {
      "cell_type": "markdown",
      "metadata": {
        "id": "eqERQjISYKA9"
      },
      "source": [
        "**Сумма, среднее, максимум, минимум**:"
      ]
    },
    {
      "cell_type": "code",
      "metadata": {
        "id": "HLmJGdl9YKA-",
        "colab": {
          "base_uri": "https://localhost:8080/"
        },
        "outputId": "f9d15003-d800-4a5a-bf62-e958d62fc835"
      },
      "source": [
        "a.sum()"
      ],
      "execution_count": 51,
      "outputs": [
        {
          "output_type": "execute_result",
          "data": {
            "text/plain": [
              "tensor(666.)"
            ]
          },
          "metadata": {
            "tags": []
          },
          "execution_count": 51
        }
      ]
    },
    {
      "cell_type": "code",
      "metadata": {
        "id": "ervIuNGnYKBD",
        "colab": {
          "base_uri": "https://localhost:8080/"
        },
        "outputId": "0e0b1f85-96b4-40d2-fdb1-849eba37a1df"
      },
      "source": [
        "a.mean()"
      ],
      "execution_count": 52,
      "outputs": [
        {
          "output_type": "execute_result",
          "data": {
            "text/plain": [
              "tensor(74.)"
            ]
          },
          "metadata": {
            "tags": []
          },
          "execution_count": 52
        }
      ]
    },
    {
      "cell_type": "markdown",
      "metadata": {
        "id": "1qxkdUQ2YKBF"
      },
      "source": [
        "По осям:"
      ]
    },
    {
      "cell_type": "code",
      "metadata": {
        "id": "cc6RjJYeYKBG",
        "colab": {
          "base_uri": "https://localhost:8080/"
        },
        "outputId": "919f4485-8210-4b31-918a-9ab475d4dffc"
      },
      "source": [
        "a.sum(0)"
      ],
      "execution_count": 53,
      "outputs": [
        {
          "output_type": "execute_result",
          "data": {
            "text/plain": [
              "tensor([111., 222., 333.])"
            ]
          },
          "metadata": {
            "tags": []
          },
          "execution_count": 53
        }
      ]
    },
    {
      "cell_type": "code",
      "metadata": {
        "id": "Dgi5BmhOYKBJ",
        "colab": {
          "base_uri": "https://localhost:8080/"
        },
        "outputId": "3af72316-a693-49ae-be5d-694cfe46b781"
      },
      "source": [
        "a.sum(1)"
      ],
      "execution_count": 54,
      "outputs": [
        {
          "output_type": "execute_result",
          "data": {
            "text/plain": [
              "tensor([  6.,  60., 600.])"
            ]
          },
          "metadata": {
            "tags": []
          },
          "execution_count": 54
        }
      ]
    },
    {
      "cell_type": "code",
      "metadata": {
        "id": "-tIkcTENYKBK",
        "colab": {
          "base_uri": "https://localhost:8080/"
        },
        "outputId": "130834e7-1b77-420c-9d76-15d7d4ca5833"
      },
      "source": [
        "a.max()"
      ],
      "execution_count": 55,
      "outputs": [
        {
          "output_type": "execute_result",
          "data": {
            "text/plain": [
              "tensor(300.)"
            ]
          },
          "metadata": {
            "tags": []
          },
          "execution_count": 55
        }
      ]
    },
    {
      "cell_type": "code",
      "metadata": {
        "id": "V4U_LyyPYKBL",
        "colab": {
          "base_uri": "https://localhost:8080/"
        },
        "outputId": "7b76122b-7517-4273-e264-071fbb34dd7f"
      },
      "source": [
        "a.max(0)"
      ],
      "execution_count": 56,
      "outputs": [
        {
          "output_type": "execute_result",
          "data": {
            "text/plain": [
              "torch.return_types.max(values=tensor([100., 200., 300.]), indices=tensor([2, 2, 2]))"
            ]
          },
          "metadata": {
            "tags": []
          },
          "execution_count": 56
        }
      ]
    },
    {
      "cell_type": "code",
      "metadata": {
        "id": "TSqmVtWjYKBO",
        "colab": {
          "base_uri": "https://localhost:8080/"
        },
        "outputId": "4700c8ea-c0a3-47c1-e6fe-272298a86e79"
      },
      "source": [
        "a.min()"
      ],
      "execution_count": 57,
      "outputs": [
        {
          "output_type": "execute_result",
          "data": {
            "text/plain": [
              "tensor(1.)"
            ]
          },
          "metadata": {
            "tags": []
          },
          "execution_count": 57
        }
      ]
    },
    {
      "cell_type": "code",
      "metadata": {
        "id": "OeA2hlZ2YKBP",
        "colab": {
          "base_uri": "https://localhost:8080/"
        },
        "outputId": "26c9eef7-2f37-418e-aa35-3a6a3dd8d999"
      },
      "source": [
        "a.min(0)"
      ],
      "execution_count": 58,
      "outputs": [
        {
          "output_type": "execute_result",
          "data": {
            "text/plain": [
              "torch.return_types.min(values=tensor([1., 2., 3.]), indices=tensor([0, 0, 0]))"
            ]
          },
          "metadata": {
            "tags": []
          },
          "execution_count": 58
        }
      ]
    },
    {
      "cell_type": "markdown",
      "metadata": {
        "id": "Ys-9hnr4YKBS"
      },
      "source": [
        "Обратите внимание - второй тензор при вызове функций .max() и .min() - это индексы этих максимальных/минимальных элементов по указанной размерности (то есть в данном случае a.min() вернул (1, 2, 3) - минимумы по 0 оси (по столбцам), и их индексы по 0-ой оси (0,0,0) (номер каждого элемента в своём столбце))."
      ]
    },
    {
      "cell_type": "markdown",
      "metadata": {
        "id": "kepFeTZ0YKBV"
      },
      "source": [
        "### Матричные операции:"
      ]
    },
    {
      "cell_type": "markdown",
      "metadata": {
        "id": "7RYm3mdrYKBX"
      },
      "source": [
        "* Транспонирование матрицы (тензора):"
      ]
    },
    {
      "cell_type": "code",
      "metadata": {
        "id": "T8-1TSkeYKBY",
        "colab": {
          "base_uri": "https://localhost:8080/"
        },
        "outputId": "b70668fa-40df-414d-dbe5-fc03eef854e4"
      },
      "source": [
        "a = torch.FloatTensor([[1, 2, 3], [10, 20, 30], [100, 200, 300]])\n",
        "a"
      ],
      "execution_count": 59,
      "outputs": [
        {
          "output_type": "execute_result",
          "data": {
            "text/plain": [
              "tensor([[  1.,   2.,   3.],\n",
              "        [ 10.,  20.,  30.],\n",
              "        [100., 200., 300.]])"
            ]
          },
          "metadata": {
            "tags": []
          },
          "execution_count": 59
        }
      ]
    },
    {
      "cell_type": "code",
      "metadata": {
        "id": "HSAZwai7YKBa",
        "colab": {
          "base_uri": "https://localhost:8080/"
        },
        "outputId": "219c2fbe-89eb-4c50-d9a7-dcb8e84d1f45"
      },
      "source": [
        "a.t()"
      ],
      "execution_count": 60,
      "outputs": [
        {
          "output_type": "execute_result",
          "data": {
            "text/plain": [
              "tensor([[  1.,  10., 100.],\n",
              "        [  2.,  20., 200.],\n",
              "        [  3.,  30., 300.]])"
            ]
          },
          "metadata": {
            "tags": []
          },
          "execution_count": 60
        }
      ]
    },
    {
      "cell_type": "markdown",
      "metadata": {
        "id": "QqsPkleRYKBd"
      },
      "source": [
        "И снова - сам тензор не меняется (то есть при вызове создаётся новый):"
      ]
    },
    {
      "cell_type": "code",
      "metadata": {
        "id": "NRPamd2EYKBe",
        "colab": {
          "base_uri": "https://localhost:8080/"
        },
        "outputId": "019366f2-eadc-4ba4-f172-85b5f6f6c24f"
      },
      "source": [
        "a"
      ],
      "execution_count": 61,
      "outputs": [
        {
          "output_type": "execute_result",
          "data": {
            "text/plain": [
              "tensor([[  1.,   2.,   3.],\n",
              "        [ 10.,  20.,  30.],\n",
              "        [100., 200., 300.]])"
            ]
          },
          "metadata": {
            "tags": []
          },
          "execution_count": 61
        }
      ]
    },
    {
      "cell_type": "markdown",
      "metadata": {
        "id": "q8YhoxHPYKBh"
      },
      "source": [
        "* Скалярное произведение векторов (1-мерных тензоров):"
      ]
    },
    {
      "cell_type": "code",
      "metadata": {
        "id": "i1pRtl7HYKBi"
      },
      "source": [
        "a = torch.FloatTensor([1, 2, 3, 4, 5, 6])\n",
        "b = torch.FloatTensor([-1, -2, -4, -6, -8, -10])"
      ],
      "execution_count": 62,
      "outputs": []
    },
    {
      "cell_type": "code",
      "metadata": {
        "id": "qcS-28dwYKBp",
        "colab": {
          "base_uri": "https://localhost:8080/"
        },
        "outputId": "6bd2770d-6b14-41d7-873d-941c3f93be37"
      },
      "source": [
        "a.dot(b)"
      ],
      "execution_count": 63,
      "outputs": [
        {
          "output_type": "execute_result",
          "data": {
            "text/plain": [
              "tensor(-141.)"
            ]
          },
          "metadata": {
            "tags": []
          },
          "execution_count": 63
        }
      ]
    },
    {
      "cell_type": "code",
      "metadata": {
        "id": "MXyhOelQYKBs",
        "colab": {
          "base_uri": "https://localhost:8080/"
        },
        "outputId": "bb8f98ad-e21e-4e0b-f76f-89f5e1fe2757"
      },
      "source": [
        "a @ b"
      ],
      "execution_count": 64,
      "outputs": [
        {
          "output_type": "execute_result",
          "data": {
            "text/plain": [
              "tensor(-141.)"
            ]
          },
          "metadata": {
            "tags": []
          },
          "execution_count": 64
        }
      ]
    },
    {
      "cell_type": "code",
      "metadata": {
        "id": "sxqg4xhoYKBt",
        "colab": {
          "base_uri": "https://localhost:8080/"
        },
        "outputId": "0a406751-b3d1-4621-bb6c-de8201a4ff9a"
      },
      "source": [
        "type(a)"
      ],
      "execution_count": 65,
      "outputs": [
        {
          "output_type": "execute_result",
          "data": {
            "text/plain": [
              "torch.Tensor"
            ]
          },
          "metadata": {
            "tags": []
          },
          "execution_count": 65
        }
      ]
    },
    {
      "cell_type": "code",
      "metadata": {
        "id": "_v2ZjPqDYKBz",
        "colab": {
          "base_uri": "https://localhost:8080/"
        },
        "outputId": "1ecce34c-a49a-4cdc-ebc4-b339516c9231"
      },
      "source": [
        "type(b)"
      ],
      "execution_count": 66,
      "outputs": [
        {
          "output_type": "execute_result",
          "data": {
            "text/plain": [
              "torch.Tensor"
            ]
          },
          "metadata": {
            "tags": []
          },
          "execution_count": 66
        }
      ]
    },
    {
      "cell_type": "code",
      "metadata": {
        "id": "UsWB9vTuYKB0",
        "colab": {
          "base_uri": "https://localhost:8080/"
        },
        "outputId": "e980b984-485e-45e4-e94c-28f750ec58ad"
      },
      "source": [
        "type(a @ b)"
      ],
      "execution_count": 67,
      "outputs": [
        {
          "output_type": "execute_result",
          "data": {
            "text/plain": [
              "torch.Tensor"
            ]
          },
          "metadata": {
            "tags": []
          },
          "execution_count": 67
        }
      ]
    },
    {
      "cell_type": "markdown",
      "metadata": {
        "id": "KSrnLwkGYKB1"
      },
      "source": [
        "* Матричное умножение:"
      ]
    },
    {
      "cell_type": "code",
      "metadata": {
        "id": "ViurnbjPYKB2"
      },
      "source": [
        "a = torch.FloatTensor([[1, 2, 3], [10, 20, 30], [100, 200, 300]])\n",
        "b = torch.FloatTensor([[-1, -2, -3], [-10, -20, -30], [100, 200, 300]])"
      ],
      "execution_count": 68,
      "outputs": []
    },
    {
      "cell_type": "code",
      "metadata": {
        "id": "5TrCnfWiYKB3",
        "colab": {
          "base_uri": "https://localhost:8080/"
        },
        "outputId": "b52ebd95-9143-480d-9045-096bf3c12c62"
      },
      "source": [
        "a.mm(b)"
      ],
      "execution_count": 69,
      "outputs": [
        {
          "output_type": "execute_result",
          "data": {
            "text/plain": [
              "tensor([[  279.,   558.,   837.],\n",
              "        [ 2790.,  5580.,  8370.],\n",
              "        [27900., 55800., 83700.]])"
            ]
          },
          "metadata": {
            "tags": []
          },
          "execution_count": 69
        }
      ]
    },
    {
      "cell_type": "code",
      "metadata": {
        "id": "HMzIz-_MYKB4",
        "colab": {
          "base_uri": "https://localhost:8080/"
        },
        "outputId": "2b597950-9841-4076-d355-b461eff0f056"
      },
      "source": [
        "a @ b"
      ],
      "execution_count": 70,
      "outputs": [
        {
          "output_type": "execute_result",
          "data": {
            "text/plain": [
              "tensor([[  279.,   558.,   837.],\n",
              "        [ 2790.,  5580.,  8370.],\n",
              "        [27900., 55800., 83700.]])"
            ]
          },
          "metadata": {
            "tags": []
          },
          "execution_count": 70
        }
      ]
    },
    {
      "cell_type": "markdown",
      "metadata": {
        "id": "Ig2pr52xYKB5"
      },
      "source": [
        "Тензоры неизменны:"
      ]
    },
    {
      "cell_type": "code",
      "metadata": {
        "id": "22QOePSyYKB6",
        "colab": {
          "base_uri": "https://localhost:8080/"
        },
        "outputId": "31b04fb3-855e-4d0d-9710-6abc36b2cabf"
      },
      "source": [
        "a"
      ],
      "execution_count": 71,
      "outputs": [
        {
          "output_type": "execute_result",
          "data": {
            "text/plain": [
              "tensor([[  1.,   2.,   3.],\n",
              "        [ 10.,  20.,  30.],\n",
              "        [100., 200., 300.]])"
            ]
          },
          "metadata": {
            "tags": []
          },
          "execution_count": 71
        }
      ]
    },
    {
      "cell_type": "code",
      "metadata": {
        "id": "JHr6eKADYKB6",
        "colab": {
          "base_uri": "https://localhost:8080/"
        },
        "outputId": "544f6927-6742-4d83-d4a9-eb1e1e690907"
      },
      "source": [
        "b"
      ],
      "execution_count": 72,
      "outputs": [
        {
          "output_type": "execute_result",
          "data": {
            "text/plain": [
              "tensor([[ -1.,  -2.,  -3.],\n",
              "        [-10., -20., -30.],\n",
              "        [100., 200., 300.]])"
            ]
          },
          "metadata": {
            "tags": []
          },
          "execution_count": 72
        }
      ]
    },
    {
      "cell_type": "code",
      "metadata": {
        "id": "vtuvt20-YKB8"
      },
      "source": [
        "a = torch.FloatTensor([[1, 2, 3], [10, 20, 30], [100, 200, 300]])\n",
        "b = torch.FloatTensor([[-1], [-10], [100]])"
      ],
      "execution_count": 73,
      "outputs": []
    },
    {
      "cell_type": "code",
      "metadata": {
        "id": "fdDnu5XjYKB9",
        "colab": {
          "base_uri": "https://localhost:8080/"
        },
        "outputId": "e7f11fcf-21d8-4274-ac84-a0ed33c49173"
      },
      "source": [
        "print(a.shape, b.shape)"
      ],
      "execution_count": 74,
      "outputs": [
        {
          "output_type": "stream",
          "text": [
            "torch.Size([3, 3]) torch.Size([3, 1])\n"
          ],
          "name": "stdout"
        }
      ]
    },
    {
      "cell_type": "code",
      "metadata": {
        "id": "oD4N4WN8YKB_",
        "colab": {
          "base_uri": "https://localhost:8080/"
        },
        "outputId": "333d5a5e-86b6-494e-d7c6-5e37d3e3fa1a"
      },
      "source": [
        "a @ b"
      ],
      "execution_count": 75,
      "outputs": [
        {
          "output_type": "execute_result",
          "data": {
            "text/plain": [
              "tensor([[  279.],\n",
              "        [ 2790.],\n",
              "        [27900.]])"
            ]
          },
          "metadata": {
            "tags": []
          },
          "execution_count": 75
        }
      ]
    },
    {
      "cell_type": "markdown",
      "metadata": {
        "id": "va9w-BavYKCB"
      },
      "source": [
        "Если \"развернуть\" тензор b просто в массив элементов (`torch.view(-1)`), умножение будет как на столбец:"
      ]
    },
    {
      "cell_type": "code",
      "metadata": {
        "id": "V7KsdYcBYKCC",
        "colab": {
          "base_uri": "https://localhost:8080/"
        },
        "outputId": "1678bc3d-e392-47a0-bd42-6db6caaa3272"
      },
      "source": [
        "b"
      ],
      "execution_count": 76,
      "outputs": [
        {
          "output_type": "execute_result",
          "data": {
            "text/plain": [
              "tensor([[ -1.],\n",
              "        [-10.],\n",
              "        [100.]])"
            ]
          },
          "metadata": {
            "tags": []
          },
          "execution_count": 76
        }
      ]
    },
    {
      "cell_type": "code",
      "metadata": {
        "id": "t7k6spayYKCF",
        "colab": {
          "base_uri": "https://localhost:8080/"
        },
        "outputId": "ca60a2cd-c385-415a-81b2-c42b22bc1ce2"
      },
      "source": [
        "b.view(-1)"
      ],
      "execution_count": 77,
      "outputs": [
        {
          "output_type": "execute_result",
          "data": {
            "text/plain": [
              "tensor([ -1., -10., 100.])"
            ]
          },
          "metadata": {
            "tags": []
          },
          "execution_count": 77
        }
      ]
    },
    {
      "cell_type": "code",
      "metadata": {
        "id": "8u8xQ20bYKCH",
        "colab": {
          "base_uri": "https://localhost:8080/"
        },
        "outputId": "35ca3936-8fbc-4d5d-f2bd-e92c068f8033"
      },
      "source": [
        "a @ b.view(-1)"
      ],
      "execution_count": 78,
      "outputs": [
        {
          "output_type": "execute_result",
          "data": {
            "text/plain": [
              "tensor([  279.,  2790., 27900.])"
            ]
          },
          "metadata": {
            "tags": []
          },
          "execution_count": 78
        }
      ]
    },
    {
      "cell_type": "code",
      "metadata": {
        "id": "QvCu1sJEYKCJ",
        "colab": {
          "base_uri": "https://localhost:8080/"
        },
        "outputId": "20ea84f3-0626-4a45-e3fa-0f6e71ac1672"
      },
      "source": [
        "a.mv(b.view(-1))"
      ],
      "execution_count": 79,
      "outputs": [
        {
          "output_type": "execute_result",
          "data": {
            "text/plain": [
              "tensor([  279.,  2790., 27900.])"
            ]
          },
          "metadata": {
            "tags": []
          },
          "execution_count": 79
        }
      ]
    },
    {
      "cell_type": "markdown",
      "metadata": {
        "id": "gZitrCN6YKCL"
      },
      "source": [
        "### Перевод из NumPy в PyTorch:"
      ]
    },
    {
      "cell_type": "code",
      "metadata": {
        "id": "bnLS4CGXYKCL",
        "colab": {
          "base_uri": "https://localhost:8080/"
        },
        "outputId": "78b0583f-d101-46ef-b840-562721967a9d"
      },
      "source": [
        "import numpy as np\n",
        "\n",
        "a = np.random.rand(3, 3)\n",
        "a"
      ],
      "execution_count": 80,
      "outputs": [
        {
          "output_type": "execute_result",
          "data": {
            "text/plain": [
              "array([[0.9130812 , 0.46370452, 0.31824989],\n",
              "       [0.69063797, 0.96764746, 0.55343201],\n",
              "       [0.01366541, 0.68140856, 0.34524489]])"
            ]
          },
          "metadata": {
            "tags": []
          },
          "execution_count": 80
        }
      ]
    },
    {
      "cell_type": "code",
      "metadata": {
        "id": "PXge57waYKCM",
        "colab": {
          "base_uri": "https://localhost:8080/"
        },
        "outputId": "ef4bd858-02bd-4f1d-f9ce-808c3ab85bdd"
      },
      "source": [
        "b = torch.from_numpy(a)\n",
        "b"
      ],
      "execution_count": 81,
      "outputs": [
        {
          "output_type": "execute_result",
          "data": {
            "text/plain": [
              "tensor([[0.9131, 0.4637, 0.3182],\n",
              "        [0.6906, 0.9676, 0.5534],\n",
              "        [0.0137, 0.6814, 0.3452]], dtype=torch.float64)"
            ]
          },
          "metadata": {
            "tags": []
          },
          "execution_count": 81
        }
      ]
    },
    {
      "cell_type": "markdown",
      "metadata": {
        "id": "Nvcr3ymPYKCN"
      },
      "source": [
        "**НО!** Обратите внимание - a и b в этом случае будут использовать одно и то же хранилище данных, то есть измение одного тензора будет менять и другой:"
      ]
    },
    {
      "cell_type": "code",
      "metadata": {
        "id": "0N_ZW6TQYKCN",
        "colab": {
          "base_uri": "https://localhost:8080/"
        },
        "outputId": "665156b0-be4f-41b2-a2e1-6018c63ebac6"
      },
      "source": [
        "b -= b\n",
        "b"
      ],
      "execution_count": 82,
      "outputs": [
        {
          "output_type": "execute_result",
          "data": {
            "text/plain": [
              "tensor([[0., 0., 0.],\n",
              "        [0., 0., 0.],\n",
              "        [0., 0., 0.]], dtype=torch.float64)"
            ]
          },
          "metadata": {
            "tags": []
          },
          "execution_count": 82
        }
      ]
    },
    {
      "cell_type": "code",
      "metadata": {
        "id": "wzUnCKsiYKCP",
        "colab": {
          "base_uri": "https://localhost:8080/"
        },
        "outputId": "b2044d0d-09e8-4bae-c40f-86cc06261d75"
      },
      "source": [
        "a"
      ],
      "execution_count": 83,
      "outputs": [
        {
          "output_type": "execute_result",
          "data": {
            "text/plain": [
              "array([[0., 0., 0.],\n",
              "       [0., 0., 0.],\n",
              "       [0., 0., 0.]])"
            ]
          },
          "metadata": {
            "tags": []
          },
          "execution_count": 83
        }
      ]
    },
    {
      "cell_type": "markdown",
      "metadata": {
        "id": "Al73RqKSYKCR"
      },
      "source": [
        "### Перевод из PyTorch в NumPy:"
      ]
    },
    {
      "cell_type": "code",
      "metadata": {
        "id": "u5rngw4vYKCR",
        "colab": {
          "base_uri": "https://localhost:8080/"
        },
        "outputId": "f08cffe3-5ff9-413f-d149-41f2367faa46"
      },
      "source": [
        "a = torch.FloatTensor(2, 3, 4)\n",
        "a"
      ],
      "execution_count": 84,
      "outputs": [
        {
          "output_type": "execute_result",
          "data": {
            "text/plain": [
              "tensor([[[1.5013e-35, 0.0000e+00, 7.0065e-44, 6.7262e-44],\n",
              "         [6.3058e-44, 6.8664e-44, 7.0065e-44, 6.3058e-44],\n",
              "         [6.7262e-44, 7.4269e-44, 1.1771e-43, 7.0065e-44]],\n",
              "\n",
              "        [[7.1466e-44, 8.1275e-44, 7.4269e-44, 7.1466e-44],\n",
              "         [8.1275e-44, 7.1466e-44, 7.1466e-44, 6.4460e-44],\n",
              "         [7.9874e-44, 6.7262e-44, 7.1466e-44, 7.2868e-44]]])"
            ]
          },
          "metadata": {
            "tags": []
          },
          "execution_count": 84
        }
      ]
    },
    {
      "cell_type": "code",
      "metadata": {
        "id": "yjK68Kk-YKCS",
        "colab": {
          "base_uri": "https://localhost:8080/"
        },
        "outputId": "b5704177-4591-41a1-8703-3eae58bd8c40"
      },
      "source": [
        "type(a)"
      ],
      "execution_count": 85,
      "outputs": [
        {
          "output_type": "execute_result",
          "data": {
            "text/plain": [
              "torch.Tensor"
            ]
          },
          "metadata": {
            "tags": []
          },
          "execution_count": 85
        }
      ]
    },
    {
      "cell_type": "code",
      "metadata": {
        "id": "viLUF7gQYKCU",
        "colab": {
          "base_uri": "https://localhost:8080/"
        },
        "outputId": "3485737e-6ae6-4d70-b302-9b7171a69710"
      },
      "source": [
        "x = a.numpy()\n",
        "x"
      ],
      "execution_count": 86,
      "outputs": [
        {
          "output_type": "execute_result",
          "data": {
            "text/plain": [
              "array([[[1.501345e-35, 0.000000e+00, 7.006492e-44, 6.726233e-44],\n",
              "        [6.305843e-44, 6.866362e-44, 7.006492e-44, 6.305843e-44],\n",
              "        [6.726233e-44, 7.426882e-44, 1.177091e-43, 7.006492e-44]],\n",
              "\n",
              "       [[7.146622e-44, 8.127531e-44, 7.426882e-44, 7.146622e-44],\n",
              "        [8.127531e-44, 7.146622e-44, 7.146622e-44, 6.445973e-44],\n",
              "        [7.987401e-44, 6.726233e-44, 7.146622e-44, 7.286752e-44]]],\n",
              "      dtype=float32)"
            ]
          },
          "metadata": {
            "tags": []
          },
          "execution_count": 86
        }
      ]
    },
    {
      "cell_type": "code",
      "metadata": {
        "id": "9HxgiLxKYKCV",
        "colab": {
          "base_uri": "https://localhost:8080/"
        },
        "outputId": "65566071-daa0-4c57-def4-7fd033f20cb6"
      },
      "source": [
        "x.shape"
      ],
      "execution_count": 87,
      "outputs": [
        {
          "output_type": "execute_result",
          "data": {
            "text/plain": [
              "(2, 3, 4)"
            ]
          },
          "metadata": {
            "tags": []
          },
          "execution_count": 87
        }
      ]
    },
    {
      "cell_type": "code",
      "metadata": {
        "id": "SdW5bhmeYKCX",
        "colab": {
          "base_uri": "https://localhost:8080/"
        },
        "outputId": "b5c9952a-3cea-424d-de02-2a458f60827a"
      },
      "source": [
        "type(x)"
      ],
      "execution_count": 88,
      "outputs": [
        {
          "output_type": "execute_result",
          "data": {
            "text/plain": [
              "numpy.ndarray"
            ]
          },
          "metadata": {
            "tags": []
          },
          "execution_count": 88
        }
      ]
    },
    {
      "cell_type": "markdown",
      "metadata": {
        "id": "7-KS81rUYKCY"
      },
      "source": [
        "Напишем функцию `forward_pass(X, w)` ($w_0$ входит в $w$) для одного нейрона (с сигмоидой) с помощью PyTorch:"
      ]
    },
    {
      "cell_type": "code",
      "metadata": {
        "id": "vkaIwpn6YKCY"
      },
      "source": [
        "def forward_pass(X, w):\n",
        "    return torch.sigmoid(X @ w)"
      ],
      "execution_count": 89,
      "outputs": []
    },
    {
      "cell_type": "code",
      "metadata": {
        "id": "VyqlDItxYKCZ",
        "colab": {
          "base_uri": "https://localhost:8080/"
        },
        "outputId": "c865b341-6429-4054-fbfa-2e1b694b113d"
      },
      "source": [
        "X = torch.FloatTensor([[-5, 5], [2, 3], [1, -1]])\n",
        "w = torch.FloatTensor([[-0.5], [2.5]])\n",
        "result = forward_pass(X, w)\n",
        "print('result: {}'.format(result))"
      ],
      "execution_count": 90,
      "outputs": [
        {
          "output_type": "stream",
          "text": [
            "result: tensor([[1.0000],\n",
            "        [0.9985],\n",
            "        [0.0474]])\n"
          ],
          "name": "stdout"
        }
      ]
    },
    {
      "cell_type": "markdown",
      "metadata": {
        "id": "MzLVLQ2GYKCa"
      },
      "source": [
        "## <a href=\"https://ru.wikipedia.org/wiki/CUDA\">CUDA</a>"
      ]
    },
    {
      "cell_type": "markdown",
      "metadata": {
        "id": "PrIicAAiYKCa"
      },
      "source": [
        "[Краткое видео про то, как GPU используется в обучении нейросетей](https://www.youtube.com/watch?v=EobhK0UZm80)"
      ]
    },
    {
      "cell_type": "markdown",
      "metadata": {
        "id": "2nDkAG6NYKCa"
      },
      "source": [
        "Все вычисления в PyTorch можно проводить как на CPU, так и на GPU (Graphical Processing Unit) (если она у вас есть). В PyTorch переключение между ними делается очень просто, что является одной из ключевых его особенностей."
      ]
    },
    {
      "cell_type": "code",
      "metadata": {
        "id": "_0Nsl2IoYKCa",
        "colab": {
          "base_uri": "https://localhost:8080/"
        },
        "outputId": "394cd7a3-d570-45ed-9449-1b1890e9b962"
      },
      "source": [
        "x = torch.FloatTensor(1024, 1024).uniform_()\n",
        "x"
      ],
      "execution_count": 91,
      "outputs": [
        {
          "output_type": "execute_result",
          "data": {
            "text/plain": [
              "tensor([[0.6048, 0.4921, 0.6467,  ..., 0.6063, 0.1674, 0.6874],\n",
              "        [0.2501, 0.4819, 0.8079,  ..., 0.7932, 0.2908, 0.8723],\n",
              "        [0.6577, 0.3179, 0.5385,  ..., 0.2423, 0.4261, 0.8870],\n",
              "        ...,\n",
              "        [0.9257, 0.8082, 0.2281,  ..., 0.1380, 0.4913, 0.5556],\n",
              "        [0.3243, 0.8531, 0.6133,  ..., 0.5472, 0.5069, 0.9328],\n",
              "        [0.2791, 0.4800, 0.4015,  ..., 0.1851, 0.1039, 0.5714]])"
            ]
          },
          "metadata": {
            "tags": []
          },
          "execution_count": 91
        }
      ]
    },
    {
      "cell_type": "code",
      "metadata": {
        "id": "FVr5_SAdYKCb",
        "colab": {
          "base_uri": "https://localhost:8080/"
        },
        "outputId": "76501665-678c-42e3-e2b9-82240b30a0d2"
      },
      "source": [
        "x.is_cuda"
      ],
      "execution_count": 92,
      "outputs": [
        {
          "output_type": "execute_result",
          "data": {
            "text/plain": [
              "False"
            ]
          },
          "metadata": {
            "tags": []
          },
          "execution_count": 92
        }
      ]
    },
    {
      "cell_type": "markdown",
      "metadata": {
        "id": "mAy8GGXAYKCd"
      },
      "source": [
        "Переместим на GPU:"
      ]
    },
    {
      "cell_type": "code",
      "metadata": {
        "id": "6UGKZbfyYKCd"
      },
      "source": [
        "x = x.cuda()"
      ],
      "execution_count": 93,
      "outputs": []
    },
    {
      "cell_type": "code",
      "metadata": {
        "id": "ue2SLd9nYKCd",
        "colab": {
          "base_uri": "https://localhost:8080/"
        },
        "outputId": "81a2cc9e-33b0-442c-d0fd-c6f6dd3fc32e"
      },
      "source": [
        "x.is_cuda"
      ],
      "execution_count": 94,
      "outputs": [
        {
          "output_type": "execute_result",
          "data": {
            "text/plain": [
              "True"
            ]
          },
          "metadata": {
            "tags": []
          },
          "execution_count": 94
        }
      ]
    },
    {
      "cell_type": "code",
      "metadata": {
        "id": "dqs1JNv3YKCe",
        "colab": {
          "base_uri": "https://localhost:8080/"
        },
        "outputId": "dc6b0b18-06da-4dd3-dab3-d818aa1b7094"
      },
      "source": [
        "x"
      ],
      "execution_count": 95,
      "outputs": [
        {
          "output_type": "execute_result",
          "data": {
            "text/plain": [
              "tensor([[0.6048, 0.4921, 0.6467,  ..., 0.6063, 0.1674, 0.6874],\n",
              "        [0.2501, 0.4819, 0.8079,  ..., 0.7932, 0.2908, 0.8723],\n",
              "        [0.6577, 0.3179, 0.5385,  ..., 0.2423, 0.4261, 0.8870],\n",
              "        ...,\n",
              "        [0.9257, 0.8082, 0.2281,  ..., 0.1380, 0.4913, 0.5556],\n",
              "        [0.3243, 0.8531, 0.6133,  ..., 0.5472, 0.5069, 0.9328],\n",
              "        [0.2791, 0.4800, 0.4015,  ..., 0.1851, 0.1039, 0.5714]],\n",
              "       device='cuda:0')"
            ]
          },
          "metadata": {
            "tags": []
          },
          "execution_count": 95
        }
      ]
    },
    {
      "cell_type": "markdown",
      "metadata": {
        "id": "dI73B59PYKCg"
      },
      "source": [
        "Перемножим две тензора на GPu и вернём результат вычисления на CPU:"
      ]
    },
    {
      "cell_type": "code",
      "metadata": {
        "id": "KS4QxJJoYKCg"
      },
      "source": [
        "a = torch.FloatTensor(10000, 10000).uniform_()\n",
        "b = torch.FloatTensor(10000, 10000).uniform_()\n",
        "c = a.cuda().mul(b.cuda()).cpu()"
      ],
      "execution_count": 96,
      "outputs": []
    },
    {
      "cell_type": "code",
      "metadata": {
        "id": "1ImlgEbwYKCg",
        "colab": {
          "base_uri": "https://localhost:8080/"
        },
        "outputId": "5e3b9f32-7360-4d21-8eee-3eb055949436"
      },
      "source": [
        "c"
      ],
      "execution_count": 97,
      "outputs": [
        {
          "output_type": "execute_result",
          "data": {
            "text/plain": [
              "tensor([[0.3292, 0.0029, 0.0274,  ..., 0.0657, 0.3693, 0.1328],\n",
              "        [0.0018, 0.0957, 0.1861,  ..., 0.5312, 0.0325, 0.2666],\n",
              "        [0.3690, 0.0010, 0.5003,  ..., 0.1754, 0.0608, 0.3771],\n",
              "        ...,\n",
              "        [0.3785, 0.3021, 0.0105,  ..., 0.2025, 0.0462, 0.1163],\n",
              "        [0.6887, 0.8870, 0.1893,  ..., 0.0389, 0.4826, 0.0872],\n",
              "        [0.6686, 0.2843, 0.7397,  ..., 0.0909, 0.2081, 0.1887]])"
            ]
          },
          "metadata": {
            "tags": []
          },
          "execution_count": 97
        }
      ]
    },
    {
      "cell_type": "code",
      "metadata": {
        "id": "4DAN9MhDYKCh",
        "colab": {
          "base_uri": "https://localhost:8080/"
        },
        "outputId": "baf9ded8-1080-4d9d-fe79-2ec4b3be03bd"
      },
      "source": [
        "a"
      ],
      "execution_count": 98,
      "outputs": [
        {
          "output_type": "execute_result",
          "data": {
            "text/plain": [
              "tensor([[0.5762, 0.0393, 0.4507,  ..., 0.3668, 0.4634, 0.5371],\n",
              "        [0.0021, 0.4826, 0.2192,  ..., 0.8257, 0.2552, 0.4476],\n",
              "        [0.6105, 0.0159, 0.8198,  ..., 0.4032, 0.3299, 0.5445],\n",
              "        ...,\n",
              "        [0.7423, 0.6745, 0.5532,  ..., 0.4200, 0.1275, 0.3732],\n",
              "        [0.7863, 0.9379, 0.6299,  ..., 0.0528, 0.6091, 0.1057],\n",
              "        [0.6695, 0.5643, 0.7445,  ..., 0.3789, 0.7090, 0.2504]])"
            ]
          },
          "metadata": {
            "tags": []
          },
          "execution_count": 98
        }
      ]
    },
    {
      "cell_type": "markdown",
      "metadata": {
        "id": "xWc-PiA9YKCi"
      },
      "source": [
        "Тензоры, лежащие на CPU, и тензоры, лежащие на GPU, недоступны друг для друга:"
      ]
    },
    {
      "cell_type": "code",
      "metadata": {
        "id": "1lwV1sgSYKCi"
      },
      "source": [
        "a = torch.FloatTensor(10000, 10000).uniform_().cpu()\n",
        "b = torch.FloatTensor(10000, 10000).uniform_().cuda()"
      ],
      "execution_count": 99,
      "outputs": []
    },
    {
      "cell_type": "code",
      "metadata": {
        "id": "G6tYdYtTYKCj"
      },
      "source": [
        "# a + b"
      ],
      "execution_count": 103,
      "outputs": []
    },
    {
      "cell_type": "markdown",
      "metadata": {
        "id": "QEtwaIxDYKCk"
      },
      "source": [
        "Вот ещё немного про то, как можно работать с GPU:"
      ]
    },
    {
      "cell_type": "code",
      "metadata": {
        "id": "bJgVfAbUYKCk",
        "scrolled": true,
        "colab": {
          "base_uri": "https://localhost:8080/"
        },
        "outputId": "ec22018e-f75a-4dc8-d55f-9f920f4a5c2e"
      },
      "source": [
        "x = torch.FloatTensor(5, 5, 5).uniform_()\n",
        "\n",
        "# проверяем, есть ли CUDA (то есть NVidia GPU)\n",
        "if torch.cuda.is_available():\n",
        "    # так можно получить имя устройства, которое связано с CUDA\n",
        "    # (полезно в случае с несколькими видеокартами)\n",
        "    device = torch.device('cuda')          # CUDA-device объект\n",
        "    y = torch.ones_like(x, device=device)  # создаём тензор на GPU\n",
        "    x = x.to(device)                       # тут можно просто ``.to(\"cuda\")``\n",
        "    z = x + y\n",
        "    print(z)\n",
        "    # с помощью``.to`` можно и изменить тип при перемещении\n",
        "    print(z.to(\"cpu\", torch.double))"
      ],
      "execution_count": 104,
      "outputs": [
        {
          "output_type": "stream",
          "text": [
            "tensor([[[1.5958, 1.6335, 1.3159, 1.3656, 1.0420],\n",
            "         [1.2454, 1.8831, 1.1432, 1.8761, 1.2664],\n",
            "         [1.3255, 1.8134, 1.9480, 1.2148, 1.1486],\n",
            "         [1.7573, 1.6801, 1.2953, 1.3066, 1.4380],\n",
            "         [1.8411, 1.7731, 1.9387, 1.9034, 1.6928]],\n",
            "\n",
            "        [[1.2635, 1.6100, 1.2396, 1.3648, 1.8019],\n",
            "         [1.3398, 1.2445, 1.6930, 1.7776, 1.1605],\n",
            "         [1.7363, 1.7533, 1.4844, 1.3626, 1.4624],\n",
            "         [1.2715, 1.0775, 1.2368, 1.8442, 1.4397],\n",
            "         [1.8295, 1.0552, 1.5231, 1.4067, 1.1740]],\n",
            "\n",
            "        [[1.1064, 1.0773, 1.4475, 1.2868, 1.0129],\n",
            "         [1.4879, 1.1771, 1.1405, 1.1063, 1.7942],\n",
            "         [1.0779, 1.2790, 1.0674, 1.6702, 1.8185],\n",
            "         [1.5256, 1.1330, 1.2151, 1.6975, 1.3108],\n",
            "         [1.1828, 1.8495, 1.2489, 1.0019, 1.1963]],\n",
            "\n",
            "        [[1.4830, 1.0682, 1.8809, 1.4283, 1.1560],\n",
            "         [1.6823, 1.0051, 1.5902, 1.4953, 1.7525],\n",
            "         [1.9446, 1.6477, 1.3539, 1.3860, 1.3849],\n",
            "         [1.2426, 1.8093, 1.6948, 1.8673, 1.9369],\n",
            "         [1.2736, 1.8901, 1.3488, 1.6139, 1.8319]],\n",
            "\n",
            "        [[1.2524, 1.0416, 1.9869, 1.2045, 1.9825],\n",
            "         [1.0826, 1.7618, 1.2957, 1.4540, 1.1169],\n",
            "         [1.1677, 1.8529, 1.0160, 1.0853, 1.8151],\n",
            "         [1.4526, 1.2885, 1.8552, 1.8813, 1.0717],\n",
            "         [1.1855, 1.0510, 1.6343, 1.5254, 1.3987]]], device='cuda:0')\n",
            "tensor([[[1.5958, 1.6335, 1.3159, 1.3656, 1.0420],\n",
            "         [1.2454, 1.8831, 1.1432, 1.8761, 1.2664],\n",
            "         [1.3255, 1.8134, 1.9480, 1.2148, 1.1486],\n",
            "         [1.7573, 1.6801, 1.2953, 1.3066, 1.4380],\n",
            "         [1.8411, 1.7731, 1.9387, 1.9034, 1.6928]],\n",
            "\n",
            "        [[1.2635, 1.6100, 1.2396, 1.3648, 1.8019],\n",
            "         [1.3398, 1.2445, 1.6930, 1.7776, 1.1605],\n",
            "         [1.7363, 1.7533, 1.4844, 1.3626, 1.4624],\n",
            "         [1.2715, 1.0775, 1.2368, 1.8442, 1.4397],\n",
            "         [1.8295, 1.0552, 1.5231, 1.4067, 1.1740]],\n",
            "\n",
            "        [[1.1064, 1.0773, 1.4475, 1.2868, 1.0129],\n",
            "         [1.4879, 1.1771, 1.1405, 1.1063, 1.7942],\n",
            "         [1.0779, 1.2790, 1.0674, 1.6702, 1.8185],\n",
            "         [1.5256, 1.1330, 1.2151, 1.6975, 1.3108],\n",
            "         [1.1828, 1.8495, 1.2489, 1.0019, 1.1963]],\n",
            "\n",
            "        [[1.4830, 1.0682, 1.8809, 1.4283, 1.1560],\n",
            "         [1.6823, 1.0051, 1.5902, 1.4953, 1.7525],\n",
            "         [1.9446, 1.6477, 1.3539, 1.3860, 1.3849],\n",
            "         [1.2426, 1.8093, 1.6948, 1.8673, 1.9369],\n",
            "         [1.2736, 1.8901, 1.3488, 1.6139, 1.8319]],\n",
            "\n",
            "        [[1.2524, 1.0416, 1.9869, 1.2045, 1.9825],\n",
            "         [1.0826, 1.7618, 1.2957, 1.4540, 1.1169],\n",
            "         [1.1677, 1.8529, 1.0160, 1.0853, 1.8151],\n",
            "         [1.4526, 1.2885, 1.8552, 1.8813, 1.0717],\n",
            "         [1.1855, 1.0510, 1.6343, 1.5254, 1.3987]]], dtype=torch.float64)\n"
          ],
          "name": "stdout"
        }
      ]
    },
    {
      "cell_type": "markdown",
      "metadata": {
        "id": "iFg82MJIYKCl"
      },
      "source": [
        "## Autograd"
      ]
    },
    {
      "cell_type": "markdown",
      "metadata": {
        "id": "udpOWYK-YKCm"
      },
      "source": [
        "Расшифровывается как Automatic Gradients (автоматическое взятие градиентов) - собственно, из названия понятно, что это модуль PyTorch, отвечающий за взятие производных.  \n",
        "\n",
        "Возможно, для вас это бдет шок, но PyTorch (и любой фреймворк глубокого обучения) может продифференцировать функцию практически любой сложности."
      ]
    },
    {
      "cell_type": "markdown",
      "metadata": {
        "id": "OAfNuSknYKCm"
      },
      "source": [
        "Импортируем нужный класс:"
      ]
    },
    {
      "cell_type": "code",
      "metadata": {
        "id": "PJdDG51vYKCm"
      },
      "source": [
        "from torch.autograd import Variable"
      ],
      "execution_count": 105,
      "outputs": []
    },
    {
      "cell_type": "markdown",
      "metadata": {
        "id": "dZzZFE-0YKCm"
      },
      "source": [
        "Идея такая: оборачиваем тензор в класс Variable(), получаем тоже тензор, но он имеет способность вычислять себе градиенты.  "
      ]
    },
    {
      "cell_type": "markdown",
      "metadata": {
        "id": "VzMGFf1xYKCm"
      },
      "source": [
        "Если а - тензор, обёрнутый в Variable(), то при вызове a.backward() берутся градиенты по всем переменным, от которых зависит тензор a."
      ]
    },
    {
      "cell_type": "markdown",
      "metadata": {
        "id": "bTVyleFWYKCn"
      },
      "source": [
        "**Примечание:** Если вы используете версию `pytorch 0.4.0` или более новую, то ***`torch.Tensor` позволяет брать по нему градиенты, класс `Variable()` использовать не нужно.*** (`torch.Variable()` - deprecated)."
      ]
    },
    {
      "cell_type": "markdown",
      "metadata": {
        "id": "AEDz971fYKCn"
      },
      "source": [
        "Примеры:"
      ]
    },
    {
      "cell_type": "code",
      "metadata": {
        "id": "rYWqXsAjYKCn"
      },
      "source": [
        "x = torch.FloatTensor(3, 1).uniform_()\n",
        "y = torch.FloatTensor(3, 1).uniform_()\n",
        "w = torch.FloatTensor(3, 3).uniform_() \n",
        "b = torch.FloatTensor(3, 1).uniform_()\n",
        "\n",
        "x = Variable(x, requires_grad=True)\n",
        "y = Variable(x, requires_grad=False)\n",
        "w = Variable(w, requires_grad=True)\n",
        "b = Variable(b, requires_grad=True)\n",
        "\n",
        "y_pred = (w @ x).add_(b)\n",
        "\n",
        "loss = (y_pred - y).sum()\n",
        "\n",
        "# берём градиенты\n",
        "loss.backward()"
      ],
      "execution_count": 106,
      "outputs": []
    },
    {
      "cell_type": "code",
      "metadata": {
        "id": "ZsePHOo0YKCp",
        "colab": {
          "base_uri": "https://localhost:8080/"
        },
        "outputId": "79367b5c-5a31-4851-e71d-6d2b4e677547"
      },
      "source": [
        "x.grad"
      ],
      "execution_count": 107,
      "outputs": [
        {
          "output_type": "execute_result",
          "data": {
            "text/plain": [
              "tensor([[1.1780],\n",
              "        [0.9314],\n",
              "        [0.8046]])"
            ]
          },
          "metadata": {
            "tags": []
          },
          "execution_count": 107
        }
      ]
    },
    {
      "cell_type": "code",
      "metadata": {
        "id": "qLkn5C7JYKCp",
        "colab": {
          "base_uri": "https://localhost:8080/"
        },
        "outputId": "b1dac426-93a4-4599-e4ee-9a4dec8de9e2"
      },
      "source": [
        "w.grad"
      ],
      "execution_count": 108,
      "outputs": [
        {
          "output_type": "execute_result",
          "data": {
            "text/plain": [
              "tensor([[0.1376, 0.8212, 0.1744],\n",
              "        [0.1376, 0.8212, 0.1744],\n",
              "        [0.1376, 0.8212, 0.1744]])"
            ]
          },
          "metadata": {
            "tags": []
          },
          "execution_count": 108
        }
      ]
    },
    {
      "cell_type": "code",
      "metadata": {
        "id": "CYkrFbD5YKCq",
        "colab": {
          "base_uri": "https://localhost:8080/"
        },
        "outputId": "cd132e1d-2661-42bc-ea6a-2e4b8828b21e"
      },
      "source": [
        "b.grad"
      ],
      "execution_count": 109,
      "outputs": [
        {
          "output_type": "execute_result",
          "data": {
            "text/plain": [
              "tensor([[1.],\n",
              "        [1.],\n",
              "        [1.]])"
            ]
          },
          "metadata": {
            "tags": []
          },
          "execution_count": 109
        }
      ]
    },
    {
      "cell_type": "code",
      "metadata": {
        "id": "ouMNnbtXYKCr"
      },
      "source": [
        "y.grad"
      ],
      "execution_count": 110,
      "outputs": []
    },
    {
      "cell_type": "markdown",
      "metadata": {
        "id": "DIsqxWIvYKCs"
      },
      "source": [
        "**Обратите внимание** - градиенты лежат в поле `.grad` у тех тензоров (Variable'ов), по которым брали эти градиенты. Градиенты **не лежат** в той Variable, от которой они брались!"
      ]
    },
    {
      "cell_type": "markdown",
      "metadata": {
        "id": "Nf2xLNDgYKCs"
      },
      "source": [
        "Получить тензор из `Variable()` можно с помощью поля `.data`:"
      ]
    },
    {
      "cell_type": "code",
      "metadata": {
        "id": "5wU_TFedYKCt",
        "colab": {
          "base_uri": "https://localhost:8080/"
        },
        "outputId": "fcc8cfa8-2aa0-4894-e922-2ab5442b8bfe"
      },
      "source": [
        "x"
      ],
      "execution_count": 111,
      "outputs": [
        {
          "output_type": "execute_result",
          "data": {
            "text/plain": [
              "tensor([[0.1376],\n",
              "        [0.8212],\n",
              "        [0.1744]], requires_grad=True)"
            ]
          },
          "metadata": {
            "tags": []
          },
          "execution_count": 111
        }
      ]
    },
    {
      "cell_type": "code",
      "metadata": {
        "id": "_NnBKF9kYKCt",
        "colab": {
          "base_uri": "https://localhost:8080/"
        },
        "outputId": "b852c4cc-d3ff-4eb0-a119-662d2d48c239"
      },
      "source": [
        "x.data"
      ],
      "execution_count": 112,
      "outputs": [
        {
          "output_type": "execute_result",
          "data": {
            "text/plain": [
              "tensor([[0.1376],\n",
              "        [0.8212],\n",
              "        [0.1744]])"
            ]
          },
          "metadata": {
            "tags": []
          },
          "execution_count": 112
        }
      ]
    },
    {
      "cell_type": "markdown",
      "metadata": {
        "id": "J094WEHQYKCv"
      },
      "source": [
        "## Полезные ссылки"
      ]
    },
    {
      "cell_type": "markdown",
      "metadata": {
        "id": "l1gNHZwOYKCv"
      },
      "source": [
        "*1). Статья по PyTorch (на русском): https://habr.com/post/334380/*"
      ]
    },
    {
      "cell_type": "markdown",
      "metadata": {
        "id": "ftVUTfvUYKCv"
      },
      "source": [
        "*2). Туториалы от самих разработчиков фреймворка: https://pytorch.org/tutorials/beginner/blitz/tensor_tutorial.html#sphx-glr-beginner-blitz-tensor-tutorial-py*"
      ]
    },
    {
      "cell_type": "markdown",
      "metadata": {
        "id": "ovymy5F6YKCw"
      },
      "source": [
        "*3). Статья на arXiv о сравнении фреймворков глубокого обучения: https://arxiv.org/pdf/1511.06435.pdf*"
      ]
    },
    {
      "cell_type": "markdown",
      "metadata": {
        "id": "VXEEowQAYKCx"
      },
      "source": [
        "4). *Ещё туториалы: https://github.com/yunjey/pytorch-tutorial*"
      ]
    },
    {
      "cell_type": "markdown",
      "metadata": {
        "id": "iJcJnHeRird2"
      },
      "source": [
        ""
      ]
    },
    {
      "cell_type": "markdown",
      "metadata": {
        "id": "9cROZcrYYKC0"
      },
      "source": [
        "*5). Сайт Facebook AI Research - отдела, который разрабатывает PyTorch и другие активно вкладывается в разработку инструментов для AI: https://facebook.ai/developers/tools*"
      ]
    }
  ]
}