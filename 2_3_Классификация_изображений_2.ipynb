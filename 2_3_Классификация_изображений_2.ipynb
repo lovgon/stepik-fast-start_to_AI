{
  "nbformat": 4,
  "nbformat_minor": 0,
  "metadata": {
    "colab": {
      "name": "2_3_Классификация_изображений-2.ipynb",
      "provenance": [],
      "collapsed_sections": [],
      "toc_visible": true,
      "include_colab_link": true
    },
    "kernelspec": {
      "name": "python3",
      "display_name": "Python 3"
    },
    "accelerator": "GPU",
    "widgets": {
      "application/vnd.jupyter.widget-state+json": {
        "a7188713d616497c958f724b010f20e5": {
          "model_module": "@jupyter-widgets/controls",
          "model_name": "HBoxModel",
          "state": {
            "_view_name": "HBoxView",
            "_dom_classes": [],
            "_model_name": "HBoxModel",
            "_view_module": "@jupyter-widgets/controls",
            "_model_module_version": "1.5.0",
            "_view_count": null,
            "_view_module_version": "1.5.0",
            "box_style": "",
            "layout": "IPY_MODEL_5596c144f50c464b9fdf6dc152926362",
            "_model_module": "@jupyter-widgets/controls",
            "children": [
              "IPY_MODEL_dc004b707c2b42f5be9722d89af98663",
              "IPY_MODEL_5ccbe89d75c4485ca93e2d61d7c77b94"
            ]
          }
        },
        "5596c144f50c464b9fdf6dc152926362": {
          "model_module": "@jupyter-widgets/base",
          "model_name": "LayoutModel",
          "state": {
            "_view_name": "LayoutView",
            "grid_template_rows": null,
            "right": null,
            "justify_content": null,
            "_view_module": "@jupyter-widgets/base",
            "overflow": null,
            "_model_module_version": "1.2.0",
            "_view_count": null,
            "flex_flow": null,
            "width": null,
            "min_width": null,
            "border": null,
            "align_items": null,
            "bottom": null,
            "_model_module": "@jupyter-widgets/base",
            "top": null,
            "grid_column": null,
            "overflow_y": null,
            "overflow_x": null,
            "grid_auto_flow": null,
            "grid_area": null,
            "grid_template_columns": null,
            "flex": null,
            "_model_name": "LayoutModel",
            "justify_items": null,
            "grid_row": null,
            "max_height": null,
            "align_content": null,
            "visibility": null,
            "align_self": null,
            "height": null,
            "min_height": null,
            "padding": null,
            "grid_auto_rows": null,
            "grid_gap": null,
            "max_width": null,
            "order": null,
            "_view_module_version": "1.2.0",
            "grid_template_areas": null,
            "object_position": null,
            "object_fit": null,
            "grid_auto_columns": null,
            "margin": null,
            "display": null,
            "left": null
          }
        },
        "dc004b707c2b42f5be9722d89af98663": {
          "model_module": "@jupyter-widgets/controls",
          "model_name": "FloatProgressModel",
          "state": {
            "_view_name": "ProgressView",
            "style": "IPY_MODEL_4c00a2d5d14649d2bbd83abf3c4cc5d5",
            "_dom_classes": [],
            "description": "",
            "_model_name": "FloatProgressModel",
            "bar_style": "success",
            "max": 1,
            "_view_module": "@jupyter-widgets/controls",
            "_model_module_version": "1.5.0",
            "value": 1,
            "_view_count": null,
            "_view_module_version": "1.5.0",
            "orientation": "horizontal",
            "min": 0,
            "description_tooltip": null,
            "_model_module": "@jupyter-widgets/controls",
            "layout": "IPY_MODEL_fc124a9e6f734032b05c103b89563c65"
          }
        },
        "5ccbe89d75c4485ca93e2d61d7c77b94": {
          "model_module": "@jupyter-widgets/controls",
          "model_name": "HTMLModel",
          "state": {
            "_view_name": "HTMLView",
            "style": "IPY_MODEL_f0a98a804dd243968b799bba5fe3ed23",
            "_dom_classes": [],
            "description": "",
            "_model_name": "HTMLModel",
            "placeholder": "​",
            "_view_module": "@jupyter-widgets/controls",
            "_model_module_version": "1.5.0",
            "value": " 170500096/? [00:07&lt;00:00, 22027636.17it/s]",
            "_view_count": null,
            "_view_module_version": "1.5.0",
            "description_tooltip": null,
            "_model_module": "@jupyter-widgets/controls",
            "layout": "IPY_MODEL_af54952912ec40caaa8a78bd011ce813"
          }
        },
        "4c00a2d5d14649d2bbd83abf3c4cc5d5": {
          "model_module": "@jupyter-widgets/controls",
          "model_name": "ProgressStyleModel",
          "state": {
            "_view_name": "StyleView",
            "_model_name": "ProgressStyleModel",
            "description_width": "initial",
            "_view_module": "@jupyter-widgets/base",
            "_model_module_version": "1.5.0",
            "_view_count": null,
            "_view_module_version": "1.2.0",
            "bar_color": null,
            "_model_module": "@jupyter-widgets/controls"
          }
        },
        "fc124a9e6f734032b05c103b89563c65": {
          "model_module": "@jupyter-widgets/base",
          "model_name": "LayoutModel",
          "state": {
            "_view_name": "LayoutView",
            "grid_template_rows": null,
            "right": null,
            "justify_content": null,
            "_view_module": "@jupyter-widgets/base",
            "overflow": null,
            "_model_module_version": "1.2.0",
            "_view_count": null,
            "flex_flow": null,
            "width": null,
            "min_width": null,
            "border": null,
            "align_items": null,
            "bottom": null,
            "_model_module": "@jupyter-widgets/base",
            "top": null,
            "grid_column": null,
            "overflow_y": null,
            "overflow_x": null,
            "grid_auto_flow": null,
            "grid_area": null,
            "grid_template_columns": null,
            "flex": null,
            "_model_name": "LayoutModel",
            "justify_items": null,
            "grid_row": null,
            "max_height": null,
            "align_content": null,
            "visibility": null,
            "align_self": null,
            "height": null,
            "min_height": null,
            "padding": null,
            "grid_auto_rows": null,
            "grid_gap": null,
            "max_width": null,
            "order": null,
            "_view_module_version": "1.2.0",
            "grid_template_areas": null,
            "object_position": null,
            "object_fit": null,
            "grid_auto_columns": null,
            "margin": null,
            "display": null,
            "left": null
          }
        },
        "f0a98a804dd243968b799bba5fe3ed23": {
          "model_module": "@jupyter-widgets/controls",
          "model_name": "DescriptionStyleModel",
          "state": {
            "_view_name": "StyleView",
            "_model_name": "DescriptionStyleModel",
            "description_width": "",
            "_view_module": "@jupyter-widgets/base",
            "_model_module_version": "1.5.0",
            "_view_count": null,
            "_view_module_version": "1.2.0",
            "_model_module": "@jupyter-widgets/controls"
          }
        },
        "af54952912ec40caaa8a78bd011ce813": {
          "model_module": "@jupyter-widgets/base",
          "model_name": "LayoutModel",
          "state": {
            "_view_name": "LayoutView",
            "grid_template_rows": null,
            "right": null,
            "justify_content": null,
            "_view_module": "@jupyter-widgets/base",
            "overflow": null,
            "_model_module_version": "1.2.0",
            "_view_count": null,
            "flex_flow": null,
            "width": null,
            "min_width": null,
            "border": null,
            "align_items": null,
            "bottom": null,
            "_model_module": "@jupyter-widgets/base",
            "top": null,
            "grid_column": null,
            "overflow_y": null,
            "overflow_x": null,
            "grid_auto_flow": null,
            "grid_area": null,
            "grid_template_columns": null,
            "flex": null,
            "_model_name": "LayoutModel",
            "justify_items": null,
            "grid_row": null,
            "max_height": null,
            "align_content": null,
            "visibility": null,
            "align_self": null,
            "height": null,
            "min_height": null,
            "padding": null,
            "grid_auto_rows": null,
            "grid_gap": null,
            "max_width": null,
            "order": null,
            "_view_module_version": "1.2.0",
            "grid_template_areas": null,
            "object_position": null,
            "object_fit": null,
            "grid_auto_columns": null,
            "margin": null,
            "display": null,
            "left": null
          }
        },
        "00f3b2d2459c4a3a8397a57a662da93b": {
          "model_module": "@jupyter-widgets/controls",
          "model_name": "HBoxModel",
          "state": {
            "_view_name": "HBoxView",
            "_dom_classes": [],
            "_model_name": "HBoxModel",
            "_view_module": "@jupyter-widgets/controls",
            "_model_module_version": "1.5.0",
            "_view_count": null,
            "_view_module_version": "1.5.0",
            "box_style": "",
            "layout": "IPY_MODEL_e093bf02d3a44c35bc9b98cb8e40db0c",
            "_model_module": "@jupyter-widgets/controls",
            "children": [
              "IPY_MODEL_6a851209e24441a88ca06c010fbc28c3",
              "IPY_MODEL_99fa491fa5de41e9814d6ac396db2b8e"
            ]
          }
        },
        "e093bf02d3a44c35bc9b98cb8e40db0c": {
          "model_module": "@jupyter-widgets/base",
          "model_name": "LayoutModel",
          "state": {
            "_view_name": "LayoutView",
            "grid_template_rows": null,
            "right": null,
            "justify_content": null,
            "_view_module": "@jupyter-widgets/base",
            "overflow": null,
            "_model_module_version": "1.2.0",
            "_view_count": null,
            "flex_flow": null,
            "width": null,
            "min_width": null,
            "border": null,
            "align_items": null,
            "bottom": null,
            "_model_module": "@jupyter-widgets/base",
            "top": null,
            "grid_column": null,
            "overflow_y": null,
            "overflow_x": null,
            "grid_auto_flow": null,
            "grid_area": null,
            "grid_template_columns": null,
            "flex": null,
            "_model_name": "LayoutModel",
            "justify_items": null,
            "grid_row": null,
            "max_height": null,
            "align_content": null,
            "visibility": null,
            "align_self": null,
            "height": null,
            "min_height": null,
            "padding": null,
            "grid_auto_rows": null,
            "grid_gap": null,
            "max_width": null,
            "order": null,
            "_view_module_version": "1.2.0",
            "grid_template_areas": null,
            "object_position": null,
            "object_fit": null,
            "grid_auto_columns": null,
            "margin": null,
            "display": null,
            "left": null
          }
        },
        "6a851209e24441a88ca06c010fbc28c3": {
          "model_module": "@jupyter-widgets/controls",
          "model_name": "FloatProgressModel",
          "state": {
            "_view_name": "ProgressView",
            "style": "IPY_MODEL_2a0555f6905b456586c77b27e3e6f06d",
            "_dom_classes": [],
            "description": "100%",
            "_model_name": "FloatProgressModel",
            "bar_style": "success",
            "max": 2,
            "_view_module": "@jupyter-widgets/controls",
            "_model_module_version": "1.5.0",
            "value": 2,
            "_view_count": null,
            "_view_module_version": "1.5.0",
            "orientation": "horizontal",
            "min": 0,
            "description_tooltip": null,
            "_model_module": "@jupyter-widgets/controls",
            "layout": "IPY_MODEL_e5366f7934564a43bbba8880fa11d174"
          }
        },
        "99fa491fa5de41e9814d6ac396db2b8e": {
          "model_module": "@jupyter-widgets/controls",
          "model_name": "HTMLModel",
          "state": {
            "_view_name": "HTMLView",
            "style": "IPY_MODEL_f8f6cc9b9bf645ebb7c594c8cc446aa6",
            "_dom_classes": [],
            "description": "",
            "_model_name": "HTMLModel",
            "placeholder": "​",
            "_view_module": "@jupyter-widgets/controls",
            "_model_module_version": "1.5.0",
            "value": " 2/2 [01:47&lt;00:00, 53.95s/it]",
            "_view_count": null,
            "_view_module_version": "1.5.0",
            "description_tooltip": null,
            "_model_module": "@jupyter-widgets/controls",
            "layout": "IPY_MODEL_f6253892f70e4d599f0be6cd3fed5edf"
          }
        },
        "2a0555f6905b456586c77b27e3e6f06d": {
          "model_module": "@jupyter-widgets/controls",
          "model_name": "ProgressStyleModel",
          "state": {
            "_view_name": "StyleView",
            "_model_name": "ProgressStyleModel",
            "description_width": "initial",
            "_view_module": "@jupyter-widgets/base",
            "_model_module_version": "1.5.0",
            "_view_count": null,
            "_view_module_version": "1.2.0",
            "bar_color": null,
            "_model_module": "@jupyter-widgets/controls"
          }
        },
        "e5366f7934564a43bbba8880fa11d174": {
          "model_module": "@jupyter-widgets/base",
          "model_name": "LayoutModel",
          "state": {
            "_view_name": "LayoutView",
            "grid_template_rows": null,
            "right": null,
            "justify_content": null,
            "_view_module": "@jupyter-widgets/base",
            "overflow": null,
            "_model_module_version": "1.2.0",
            "_view_count": null,
            "flex_flow": null,
            "width": null,
            "min_width": null,
            "border": null,
            "align_items": null,
            "bottom": null,
            "_model_module": "@jupyter-widgets/base",
            "top": null,
            "grid_column": null,
            "overflow_y": null,
            "overflow_x": null,
            "grid_auto_flow": null,
            "grid_area": null,
            "grid_template_columns": null,
            "flex": null,
            "_model_name": "LayoutModel",
            "justify_items": null,
            "grid_row": null,
            "max_height": null,
            "align_content": null,
            "visibility": null,
            "align_self": null,
            "height": null,
            "min_height": null,
            "padding": null,
            "grid_auto_rows": null,
            "grid_gap": null,
            "max_width": null,
            "order": null,
            "_view_module_version": "1.2.0",
            "grid_template_areas": null,
            "object_position": null,
            "object_fit": null,
            "grid_auto_columns": null,
            "margin": null,
            "display": null,
            "left": null
          }
        },
        "f8f6cc9b9bf645ebb7c594c8cc446aa6": {
          "model_module": "@jupyter-widgets/controls",
          "model_name": "DescriptionStyleModel",
          "state": {
            "_view_name": "StyleView",
            "_model_name": "DescriptionStyleModel",
            "description_width": "",
            "_view_module": "@jupyter-widgets/base",
            "_model_module_version": "1.5.0",
            "_view_count": null,
            "_view_module_version": "1.2.0",
            "_model_module": "@jupyter-widgets/controls"
          }
        },
        "f6253892f70e4d599f0be6cd3fed5edf": {
          "model_module": "@jupyter-widgets/base",
          "model_name": "LayoutModel",
          "state": {
            "_view_name": "LayoutView",
            "grid_template_rows": null,
            "right": null,
            "justify_content": null,
            "_view_module": "@jupyter-widgets/base",
            "overflow": null,
            "_model_module_version": "1.2.0",
            "_view_count": null,
            "flex_flow": null,
            "width": null,
            "min_width": null,
            "border": null,
            "align_items": null,
            "bottom": null,
            "_model_module": "@jupyter-widgets/base",
            "top": null,
            "grid_column": null,
            "overflow_y": null,
            "overflow_x": null,
            "grid_auto_flow": null,
            "grid_area": null,
            "grid_template_columns": null,
            "flex": null,
            "_model_name": "LayoutModel",
            "justify_items": null,
            "grid_row": null,
            "max_height": null,
            "align_content": null,
            "visibility": null,
            "align_self": null,
            "height": null,
            "min_height": null,
            "padding": null,
            "grid_auto_rows": null,
            "grid_gap": null,
            "max_width": null,
            "order": null,
            "_view_module_version": "1.2.0",
            "grid_template_areas": null,
            "object_position": null,
            "object_fit": null,
            "grid_auto_columns": null,
            "margin": null,
            "display": null,
            "left": null
          }
        },
        "f415bdd7a7c249339e2684b812f941cc": {
          "model_module": "@jupyter-widgets/controls",
          "model_name": "HBoxModel",
          "state": {
            "_view_name": "HBoxView",
            "_dom_classes": [],
            "_model_name": "HBoxModel",
            "_view_module": "@jupyter-widgets/controls",
            "_model_module_version": "1.5.0",
            "_view_count": null,
            "_view_module_version": "1.5.0",
            "box_style": "",
            "layout": "IPY_MODEL_fee957b8334047c28c5bf53950bef687",
            "_model_module": "@jupyter-widgets/controls",
            "children": [
              "IPY_MODEL_91ad4494541e44e293c1f1b56faf3b04",
              "IPY_MODEL_e78e246c4dcb4edcab6d65fdc1f91c79"
            ]
          }
        },
        "fee957b8334047c28c5bf53950bef687": {
          "model_module": "@jupyter-widgets/base",
          "model_name": "LayoutModel",
          "state": {
            "_view_name": "LayoutView",
            "grid_template_rows": null,
            "right": null,
            "justify_content": null,
            "_view_module": "@jupyter-widgets/base",
            "overflow": null,
            "_model_module_version": "1.2.0",
            "_view_count": null,
            "flex_flow": null,
            "width": null,
            "min_width": null,
            "border": null,
            "align_items": null,
            "bottom": null,
            "_model_module": "@jupyter-widgets/base",
            "top": null,
            "grid_column": null,
            "overflow_y": null,
            "overflow_x": null,
            "grid_auto_flow": null,
            "grid_area": null,
            "grid_template_columns": null,
            "flex": null,
            "_model_name": "LayoutModel",
            "justify_items": null,
            "grid_row": null,
            "max_height": null,
            "align_content": null,
            "visibility": null,
            "align_self": null,
            "height": null,
            "min_height": null,
            "padding": null,
            "grid_auto_rows": null,
            "grid_gap": null,
            "max_width": null,
            "order": null,
            "_view_module_version": "1.2.0",
            "grid_template_areas": null,
            "object_position": null,
            "object_fit": null,
            "grid_auto_columns": null,
            "margin": null,
            "display": null,
            "left": null
          }
        },
        "91ad4494541e44e293c1f1b56faf3b04": {
          "model_module": "@jupyter-widgets/controls",
          "model_name": "FloatProgressModel",
          "state": {
            "_view_name": "ProgressView",
            "style": "IPY_MODEL_53346b95f1c542f5a5b7cdee94599f63",
            "_dom_classes": [],
            "description": "100%",
            "_model_name": "FloatProgressModel",
            "bar_style": "success",
            "max": 3125,
            "_view_module": "@jupyter-widgets/controls",
            "_model_module_version": "1.5.0",
            "value": 3125,
            "_view_count": null,
            "_view_module_version": "1.5.0",
            "orientation": "horizontal",
            "min": 0,
            "description_tooltip": null,
            "_model_module": "@jupyter-widgets/controls",
            "layout": "IPY_MODEL_d457c9b366f049d1861cd622e8150c41"
          }
        },
        "e78e246c4dcb4edcab6d65fdc1f91c79": {
          "model_module": "@jupyter-widgets/controls",
          "model_name": "HTMLModel",
          "state": {
            "_view_name": "HTMLView",
            "style": "IPY_MODEL_d15b339d9dd845c0820f1c5373fd16f3",
            "_dom_classes": [],
            "description": "",
            "_model_name": "HTMLModel",
            "placeholder": "​",
            "_view_module": "@jupyter-widgets/controls",
            "_model_module_version": "1.5.0",
            "value": " 3125/3125 [01:47&lt;00:00, 28.97it/s]",
            "_view_count": null,
            "_view_module_version": "1.5.0",
            "description_tooltip": null,
            "_model_module": "@jupyter-widgets/controls",
            "layout": "IPY_MODEL_e2293dca4aa145cd8ad114ed89722aac"
          }
        },
        "53346b95f1c542f5a5b7cdee94599f63": {
          "model_module": "@jupyter-widgets/controls",
          "model_name": "ProgressStyleModel",
          "state": {
            "_view_name": "StyleView",
            "_model_name": "ProgressStyleModel",
            "description_width": "initial",
            "_view_module": "@jupyter-widgets/base",
            "_model_module_version": "1.5.0",
            "_view_count": null,
            "_view_module_version": "1.2.0",
            "bar_color": null,
            "_model_module": "@jupyter-widgets/controls"
          }
        },
        "d457c9b366f049d1861cd622e8150c41": {
          "model_module": "@jupyter-widgets/base",
          "model_name": "LayoutModel",
          "state": {
            "_view_name": "LayoutView",
            "grid_template_rows": null,
            "right": null,
            "justify_content": null,
            "_view_module": "@jupyter-widgets/base",
            "overflow": null,
            "_model_module_version": "1.2.0",
            "_view_count": null,
            "flex_flow": null,
            "width": null,
            "min_width": null,
            "border": null,
            "align_items": null,
            "bottom": null,
            "_model_module": "@jupyter-widgets/base",
            "top": null,
            "grid_column": null,
            "overflow_y": null,
            "overflow_x": null,
            "grid_auto_flow": null,
            "grid_area": null,
            "grid_template_columns": null,
            "flex": null,
            "_model_name": "LayoutModel",
            "justify_items": null,
            "grid_row": null,
            "max_height": null,
            "align_content": null,
            "visibility": null,
            "align_self": null,
            "height": null,
            "min_height": null,
            "padding": null,
            "grid_auto_rows": null,
            "grid_gap": null,
            "max_width": null,
            "order": null,
            "_view_module_version": "1.2.0",
            "grid_template_areas": null,
            "object_position": null,
            "object_fit": null,
            "grid_auto_columns": null,
            "margin": null,
            "display": null,
            "left": null
          }
        },
        "d15b339d9dd845c0820f1c5373fd16f3": {
          "model_module": "@jupyter-widgets/controls",
          "model_name": "DescriptionStyleModel",
          "state": {
            "_view_name": "StyleView",
            "_model_name": "DescriptionStyleModel",
            "description_width": "",
            "_view_module": "@jupyter-widgets/base",
            "_model_module_version": "1.5.0",
            "_view_count": null,
            "_view_module_version": "1.2.0",
            "_model_module": "@jupyter-widgets/controls"
          }
        },
        "e2293dca4aa145cd8ad114ed89722aac": {
          "model_module": "@jupyter-widgets/base",
          "model_name": "LayoutModel",
          "state": {
            "_view_name": "LayoutView",
            "grid_template_rows": null,
            "right": null,
            "justify_content": null,
            "_view_module": "@jupyter-widgets/base",
            "overflow": null,
            "_model_module_version": "1.2.0",
            "_view_count": null,
            "flex_flow": null,
            "width": null,
            "min_width": null,
            "border": null,
            "align_items": null,
            "bottom": null,
            "_model_module": "@jupyter-widgets/base",
            "top": null,
            "grid_column": null,
            "overflow_y": null,
            "overflow_x": null,
            "grid_auto_flow": null,
            "grid_area": null,
            "grid_template_columns": null,
            "flex": null,
            "_model_name": "LayoutModel",
            "justify_items": null,
            "grid_row": null,
            "max_height": null,
            "align_content": null,
            "visibility": null,
            "align_self": null,
            "height": null,
            "min_height": null,
            "padding": null,
            "grid_auto_rows": null,
            "grid_gap": null,
            "max_width": null,
            "order": null,
            "_view_module_version": "1.2.0",
            "grid_template_areas": null,
            "object_position": null,
            "object_fit": null,
            "grid_auto_columns": null,
            "margin": null,
            "display": null,
            "left": null
          }
        },
        "6cb6846939e04af9a8134b29e97de07f": {
          "model_module": "@jupyter-widgets/controls",
          "model_name": "HBoxModel",
          "state": {
            "_view_name": "HBoxView",
            "_dom_classes": [],
            "_model_name": "HBoxModel",
            "_view_module": "@jupyter-widgets/controls",
            "_model_module_version": "1.5.0",
            "_view_count": null,
            "_view_module_version": "1.5.0",
            "box_style": "",
            "layout": "IPY_MODEL_ef794552b9154babb492809be43b89a8",
            "_model_module": "@jupyter-widgets/controls",
            "children": [
              "IPY_MODEL_762693edd04449beadd86b9277b595b4",
              "IPY_MODEL_a63fff6e079a4df2a89d219f2b35f8be"
            ]
          }
        },
        "ef794552b9154babb492809be43b89a8": {
          "model_module": "@jupyter-widgets/base",
          "model_name": "LayoutModel",
          "state": {
            "_view_name": "LayoutView",
            "grid_template_rows": null,
            "right": null,
            "justify_content": null,
            "_view_module": "@jupyter-widgets/base",
            "overflow": null,
            "_model_module_version": "1.2.0",
            "_view_count": null,
            "flex_flow": null,
            "width": null,
            "min_width": null,
            "border": null,
            "align_items": null,
            "bottom": null,
            "_model_module": "@jupyter-widgets/base",
            "top": null,
            "grid_column": null,
            "overflow_y": null,
            "overflow_x": null,
            "grid_auto_flow": null,
            "grid_area": null,
            "grid_template_columns": null,
            "flex": null,
            "_model_name": "LayoutModel",
            "justify_items": null,
            "grid_row": null,
            "max_height": null,
            "align_content": null,
            "visibility": null,
            "align_self": null,
            "height": null,
            "min_height": null,
            "padding": null,
            "grid_auto_rows": null,
            "grid_gap": null,
            "max_width": null,
            "order": null,
            "_view_module_version": "1.2.0",
            "grid_template_areas": null,
            "object_position": null,
            "object_fit": null,
            "grid_auto_columns": null,
            "margin": null,
            "display": null,
            "left": null
          }
        },
        "762693edd04449beadd86b9277b595b4": {
          "model_module": "@jupyter-widgets/controls",
          "model_name": "FloatProgressModel",
          "state": {
            "_view_name": "ProgressView",
            "style": "IPY_MODEL_5a5f16a413e5451a810d8c6841871cee",
            "_dom_classes": [],
            "description": "100%",
            "_model_name": "FloatProgressModel",
            "bar_style": "success",
            "max": 3125,
            "_view_module": "@jupyter-widgets/controls",
            "_model_module_version": "1.5.0",
            "value": 3125,
            "_view_count": null,
            "_view_module_version": "1.5.0",
            "orientation": "horizontal",
            "min": 0,
            "description_tooltip": null,
            "_model_module": "@jupyter-widgets/controls",
            "layout": "IPY_MODEL_5eaf7f17543f4a8aa14ce5f1c72d0bc9"
          }
        },
        "a63fff6e079a4df2a89d219f2b35f8be": {
          "model_module": "@jupyter-widgets/controls",
          "model_name": "HTMLModel",
          "state": {
            "_view_name": "HTMLView",
            "style": "IPY_MODEL_b9a548b7521e44e48e7cf02442842244",
            "_dom_classes": [],
            "description": "",
            "_model_name": "HTMLModel",
            "placeholder": "​",
            "_view_module": "@jupyter-widgets/controls",
            "_model_module_version": "1.5.0",
            "value": " 3125/3125 [00:57&lt;00:00, 54.26it/s]",
            "_view_count": null,
            "_view_module_version": "1.5.0",
            "description_tooltip": null,
            "_model_module": "@jupyter-widgets/controls",
            "layout": "IPY_MODEL_20a8c91b6c874d35977f5c08a49a6c75"
          }
        },
        "5a5f16a413e5451a810d8c6841871cee": {
          "model_module": "@jupyter-widgets/controls",
          "model_name": "ProgressStyleModel",
          "state": {
            "_view_name": "StyleView",
            "_model_name": "ProgressStyleModel",
            "description_width": "initial",
            "_view_module": "@jupyter-widgets/base",
            "_model_module_version": "1.5.0",
            "_view_count": null,
            "_view_module_version": "1.2.0",
            "bar_color": null,
            "_model_module": "@jupyter-widgets/controls"
          }
        },
        "5eaf7f17543f4a8aa14ce5f1c72d0bc9": {
          "model_module": "@jupyter-widgets/base",
          "model_name": "LayoutModel",
          "state": {
            "_view_name": "LayoutView",
            "grid_template_rows": null,
            "right": null,
            "justify_content": null,
            "_view_module": "@jupyter-widgets/base",
            "overflow": null,
            "_model_module_version": "1.2.0",
            "_view_count": null,
            "flex_flow": null,
            "width": null,
            "min_width": null,
            "border": null,
            "align_items": null,
            "bottom": null,
            "_model_module": "@jupyter-widgets/base",
            "top": null,
            "grid_column": null,
            "overflow_y": null,
            "overflow_x": null,
            "grid_auto_flow": null,
            "grid_area": null,
            "grid_template_columns": null,
            "flex": null,
            "_model_name": "LayoutModel",
            "justify_items": null,
            "grid_row": null,
            "max_height": null,
            "align_content": null,
            "visibility": null,
            "align_self": null,
            "height": null,
            "min_height": null,
            "padding": null,
            "grid_auto_rows": null,
            "grid_gap": null,
            "max_width": null,
            "order": null,
            "_view_module_version": "1.2.0",
            "grid_template_areas": null,
            "object_position": null,
            "object_fit": null,
            "grid_auto_columns": null,
            "margin": null,
            "display": null,
            "left": null
          }
        },
        "b9a548b7521e44e48e7cf02442842244": {
          "model_module": "@jupyter-widgets/controls",
          "model_name": "DescriptionStyleModel",
          "state": {
            "_view_name": "StyleView",
            "_model_name": "DescriptionStyleModel",
            "description_width": "",
            "_view_module": "@jupyter-widgets/base",
            "_model_module_version": "1.5.0",
            "_view_count": null,
            "_view_module_version": "1.2.0",
            "_model_module": "@jupyter-widgets/controls"
          }
        },
        "20a8c91b6c874d35977f5c08a49a6c75": {
          "model_module": "@jupyter-widgets/base",
          "model_name": "LayoutModel",
          "state": {
            "_view_name": "LayoutView",
            "grid_template_rows": null,
            "right": null,
            "justify_content": null,
            "_view_module": "@jupyter-widgets/base",
            "overflow": null,
            "_model_module_version": "1.2.0",
            "_view_count": null,
            "flex_flow": null,
            "width": null,
            "min_width": null,
            "border": null,
            "align_items": null,
            "bottom": null,
            "_model_module": "@jupyter-widgets/base",
            "top": null,
            "grid_column": null,
            "overflow_y": null,
            "overflow_x": null,
            "grid_auto_flow": null,
            "grid_area": null,
            "grid_template_columns": null,
            "flex": null,
            "_model_name": "LayoutModel",
            "justify_items": null,
            "grid_row": null,
            "max_height": null,
            "align_content": null,
            "visibility": null,
            "align_self": null,
            "height": null,
            "min_height": null,
            "padding": null,
            "grid_auto_rows": null,
            "grid_gap": null,
            "max_width": null,
            "order": null,
            "_view_module_version": "1.2.0",
            "grid_template_areas": null,
            "object_position": null,
            "object_fit": null,
            "grid_auto_columns": null,
            "margin": null,
            "display": null,
            "left": null
          }
        },
        "0d912a1295b2494e9bc006f0457ccca5": {
          "model_module": "@jupyter-widgets/controls",
          "model_name": "HBoxModel",
          "state": {
            "_view_name": "HBoxView",
            "_dom_classes": [],
            "_model_name": "HBoxModel",
            "_view_module": "@jupyter-widgets/controls",
            "_model_module_version": "1.5.0",
            "_view_count": null,
            "_view_module_version": "1.5.0",
            "box_style": "",
            "layout": "IPY_MODEL_55e8edcf9492433496e5b58be3a16bad",
            "_model_module": "@jupyter-widgets/controls",
            "children": [
              "IPY_MODEL_7737e8aae518433681fc33328c4f94f7",
              "IPY_MODEL_d33ce701d50e4983899f5bf325b3529e"
            ]
          }
        },
        "55e8edcf9492433496e5b58be3a16bad": {
          "model_module": "@jupyter-widgets/base",
          "model_name": "LayoutModel",
          "state": {
            "_view_name": "LayoutView",
            "grid_template_rows": null,
            "right": null,
            "justify_content": null,
            "_view_module": "@jupyter-widgets/base",
            "overflow": null,
            "_model_module_version": "1.2.0",
            "_view_count": null,
            "flex_flow": null,
            "width": null,
            "min_width": null,
            "border": null,
            "align_items": null,
            "bottom": null,
            "_model_module": "@jupyter-widgets/base",
            "top": null,
            "grid_column": null,
            "overflow_y": null,
            "overflow_x": null,
            "grid_auto_flow": null,
            "grid_area": null,
            "grid_template_columns": null,
            "flex": null,
            "_model_name": "LayoutModel",
            "justify_items": null,
            "grid_row": null,
            "max_height": null,
            "align_content": null,
            "visibility": null,
            "align_self": null,
            "height": null,
            "min_height": null,
            "padding": null,
            "grid_auto_rows": null,
            "grid_gap": null,
            "max_width": null,
            "order": null,
            "_view_module_version": "1.2.0",
            "grid_template_areas": null,
            "object_position": null,
            "object_fit": null,
            "grid_auto_columns": null,
            "margin": null,
            "display": null,
            "left": null
          }
        },
        "7737e8aae518433681fc33328c4f94f7": {
          "model_module": "@jupyter-widgets/controls",
          "model_name": "FloatProgressModel",
          "state": {
            "_view_name": "ProgressView",
            "style": "IPY_MODEL_44f49122795549fc9daf814ddfbe7234",
            "_dom_classes": [],
            "description": "100%",
            "_model_name": "FloatProgressModel",
            "bar_style": "success",
            "max": 2,
            "_view_module": "@jupyter-widgets/controls",
            "_model_module_version": "1.5.0",
            "value": 2,
            "_view_count": null,
            "_view_module_version": "1.5.0",
            "orientation": "horizontal",
            "min": 0,
            "description_tooltip": null,
            "_model_module": "@jupyter-widgets/controls",
            "layout": "IPY_MODEL_b0d178d20a3b418cb0b7c1180f4c0aee"
          }
        },
        "d33ce701d50e4983899f5bf325b3529e": {
          "model_module": "@jupyter-widgets/controls",
          "model_name": "HTMLModel",
          "state": {
            "_view_name": "HTMLView",
            "style": "IPY_MODEL_20dbbc727c3f41dcbdd56a2f3bb9c0fa",
            "_dom_classes": [],
            "description": "",
            "_model_name": "HTMLModel",
            "placeholder": "​",
            "_view_module": "@jupyter-widgets/controls",
            "_model_module_version": "1.5.0",
            "value": " 2/2 [01:13&lt;00:00, 36.50s/it]",
            "_view_count": null,
            "_view_module_version": "1.5.0",
            "description_tooltip": null,
            "_model_module": "@jupyter-widgets/controls",
            "layout": "IPY_MODEL_58ee0f7c8315496594b9bbb48bc1f020"
          }
        },
        "44f49122795549fc9daf814ddfbe7234": {
          "model_module": "@jupyter-widgets/controls",
          "model_name": "ProgressStyleModel",
          "state": {
            "_view_name": "StyleView",
            "_model_name": "ProgressStyleModel",
            "description_width": "initial",
            "_view_module": "@jupyter-widgets/base",
            "_model_module_version": "1.5.0",
            "_view_count": null,
            "_view_module_version": "1.2.0",
            "bar_color": null,
            "_model_module": "@jupyter-widgets/controls"
          }
        },
        "b0d178d20a3b418cb0b7c1180f4c0aee": {
          "model_module": "@jupyter-widgets/base",
          "model_name": "LayoutModel",
          "state": {
            "_view_name": "LayoutView",
            "grid_template_rows": null,
            "right": null,
            "justify_content": null,
            "_view_module": "@jupyter-widgets/base",
            "overflow": null,
            "_model_module_version": "1.2.0",
            "_view_count": null,
            "flex_flow": null,
            "width": null,
            "min_width": null,
            "border": null,
            "align_items": null,
            "bottom": null,
            "_model_module": "@jupyter-widgets/base",
            "top": null,
            "grid_column": null,
            "overflow_y": null,
            "overflow_x": null,
            "grid_auto_flow": null,
            "grid_area": null,
            "grid_template_columns": null,
            "flex": null,
            "_model_name": "LayoutModel",
            "justify_items": null,
            "grid_row": null,
            "max_height": null,
            "align_content": null,
            "visibility": null,
            "align_self": null,
            "height": null,
            "min_height": null,
            "padding": null,
            "grid_auto_rows": null,
            "grid_gap": null,
            "max_width": null,
            "order": null,
            "_view_module_version": "1.2.0",
            "grid_template_areas": null,
            "object_position": null,
            "object_fit": null,
            "grid_auto_columns": null,
            "margin": null,
            "display": null,
            "left": null
          }
        },
        "20dbbc727c3f41dcbdd56a2f3bb9c0fa": {
          "model_module": "@jupyter-widgets/controls",
          "model_name": "DescriptionStyleModel",
          "state": {
            "_view_name": "StyleView",
            "_model_name": "DescriptionStyleModel",
            "description_width": "",
            "_view_module": "@jupyter-widgets/base",
            "_model_module_version": "1.5.0",
            "_view_count": null,
            "_view_module_version": "1.2.0",
            "_model_module": "@jupyter-widgets/controls"
          }
        },
        "58ee0f7c8315496594b9bbb48bc1f020": {
          "model_module": "@jupyter-widgets/base",
          "model_name": "LayoutModel",
          "state": {
            "_view_name": "LayoutView",
            "grid_template_rows": null,
            "right": null,
            "justify_content": null,
            "_view_module": "@jupyter-widgets/base",
            "overflow": null,
            "_model_module_version": "1.2.0",
            "_view_count": null,
            "flex_flow": null,
            "width": null,
            "min_width": null,
            "border": null,
            "align_items": null,
            "bottom": null,
            "_model_module": "@jupyter-widgets/base",
            "top": null,
            "grid_column": null,
            "overflow_y": null,
            "overflow_x": null,
            "grid_auto_flow": null,
            "grid_area": null,
            "grid_template_columns": null,
            "flex": null,
            "_model_name": "LayoutModel",
            "justify_items": null,
            "grid_row": null,
            "max_height": null,
            "align_content": null,
            "visibility": null,
            "align_self": null,
            "height": null,
            "min_height": null,
            "padding": null,
            "grid_auto_rows": null,
            "grid_gap": null,
            "max_width": null,
            "order": null,
            "_view_module_version": "1.2.0",
            "grid_template_areas": null,
            "object_position": null,
            "object_fit": null,
            "grid_auto_columns": null,
            "margin": null,
            "display": null,
            "left": null
          }
        },
        "e7d1b7d112eb4725930ddbdcb373251b": {
          "model_module": "@jupyter-widgets/controls",
          "model_name": "HBoxModel",
          "state": {
            "_view_name": "HBoxView",
            "_dom_classes": [],
            "_model_name": "HBoxModel",
            "_view_module": "@jupyter-widgets/controls",
            "_model_module_version": "1.5.0",
            "_view_count": null,
            "_view_module_version": "1.5.0",
            "box_style": "",
            "layout": "IPY_MODEL_6966b216002d4c52a8a3afdd6b9cead4",
            "_model_module": "@jupyter-widgets/controls",
            "children": [
              "IPY_MODEL_63ddab58938b464fa60e5b36633847fe",
              "IPY_MODEL_b56a2ef47924471ab493c223ee44c3ee"
            ]
          }
        },
        "6966b216002d4c52a8a3afdd6b9cead4": {
          "model_module": "@jupyter-widgets/base",
          "model_name": "LayoutModel",
          "state": {
            "_view_name": "LayoutView",
            "grid_template_rows": null,
            "right": null,
            "justify_content": null,
            "_view_module": "@jupyter-widgets/base",
            "overflow": null,
            "_model_module_version": "1.2.0",
            "_view_count": null,
            "flex_flow": null,
            "width": null,
            "min_width": null,
            "border": null,
            "align_items": null,
            "bottom": null,
            "_model_module": "@jupyter-widgets/base",
            "top": null,
            "grid_column": null,
            "overflow_y": null,
            "overflow_x": null,
            "grid_auto_flow": null,
            "grid_area": null,
            "grid_template_columns": null,
            "flex": null,
            "_model_name": "LayoutModel",
            "justify_items": null,
            "grid_row": null,
            "max_height": null,
            "align_content": null,
            "visibility": null,
            "align_self": null,
            "height": null,
            "min_height": null,
            "padding": null,
            "grid_auto_rows": null,
            "grid_gap": null,
            "max_width": null,
            "order": null,
            "_view_module_version": "1.2.0",
            "grid_template_areas": null,
            "object_position": null,
            "object_fit": null,
            "grid_auto_columns": null,
            "margin": null,
            "display": null,
            "left": null
          }
        },
        "63ddab58938b464fa60e5b36633847fe": {
          "model_module": "@jupyter-widgets/controls",
          "model_name": "FloatProgressModel",
          "state": {
            "_view_name": "ProgressView",
            "style": "IPY_MODEL_abf627552f954d7c851af12b0414e97a",
            "_dom_classes": [],
            "description": "100%",
            "_model_name": "FloatProgressModel",
            "bar_style": "success",
            "max": 3125,
            "_view_module": "@jupyter-widgets/controls",
            "_model_module_version": "1.5.0",
            "value": 3125,
            "_view_count": null,
            "_view_module_version": "1.5.0",
            "orientation": "horizontal",
            "min": 0,
            "description_tooltip": null,
            "_model_module": "@jupyter-widgets/controls",
            "layout": "IPY_MODEL_b7592a88e3664b2c9d95b3f510384782"
          }
        },
        "b56a2ef47924471ab493c223ee44c3ee": {
          "model_module": "@jupyter-widgets/controls",
          "model_name": "HTMLModel",
          "state": {
            "_view_name": "HTMLView",
            "style": "IPY_MODEL_0e8a00e80d534cea9a69ae6b6ca0d491",
            "_dom_classes": [],
            "description": "",
            "_model_name": "HTMLModel",
            "placeholder": "​",
            "_view_module": "@jupyter-widgets/controls",
            "_model_module_version": "1.5.0",
            "value": " 3125/3125 [01:12&lt;00:00, 42.82it/s]",
            "_view_count": null,
            "_view_module_version": "1.5.0",
            "description_tooltip": null,
            "_model_module": "@jupyter-widgets/controls",
            "layout": "IPY_MODEL_122b0f2bc0fc4dadb0f5da8a46f88b68"
          }
        },
        "abf627552f954d7c851af12b0414e97a": {
          "model_module": "@jupyter-widgets/controls",
          "model_name": "ProgressStyleModel",
          "state": {
            "_view_name": "StyleView",
            "_model_name": "ProgressStyleModel",
            "description_width": "initial",
            "_view_module": "@jupyter-widgets/base",
            "_model_module_version": "1.5.0",
            "_view_count": null,
            "_view_module_version": "1.2.0",
            "bar_color": null,
            "_model_module": "@jupyter-widgets/controls"
          }
        },
        "b7592a88e3664b2c9d95b3f510384782": {
          "model_module": "@jupyter-widgets/base",
          "model_name": "LayoutModel",
          "state": {
            "_view_name": "LayoutView",
            "grid_template_rows": null,
            "right": null,
            "justify_content": null,
            "_view_module": "@jupyter-widgets/base",
            "overflow": null,
            "_model_module_version": "1.2.0",
            "_view_count": null,
            "flex_flow": null,
            "width": null,
            "min_width": null,
            "border": null,
            "align_items": null,
            "bottom": null,
            "_model_module": "@jupyter-widgets/base",
            "top": null,
            "grid_column": null,
            "overflow_y": null,
            "overflow_x": null,
            "grid_auto_flow": null,
            "grid_area": null,
            "grid_template_columns": null,
            "flex": null,
            "_model_name": "LayoutModel",
            "justify_items": null,
            "grid_row": null,
            "max_height": null,
            "align_content": null,
            "visibility": null,
            "align_self": null,
            "height": null,
            "min_height": null,
            "padding": null,
            "grid_auto_rows": null,
            "grid_gap": null,
            "max_width": null,
            "order": null,
            "_view_module_version": "1.2.0",
            "grid_template_areas": null,
            "object_position": null,
            "object_fit": null,
            "grid_auto_columns": null,
            "margin": null,
            "display": null,
            "left": null
          }
        },
        "0e8a00e80d534cea9a69ae6b6ca0d491": {
          "model_module": "@jupyter-widgets/controls",
          "model_name": "DescriptionStyleModel",
          "state": {
            "_view_name": "StyleView",
            "_model_name": "DescriptionStyleModel",
            "description_width": "",
            "_view_module": "@jupyter-widgets/base",
            "_model_module_version": "1.5.0",
            "_view_count": null,
            "_view_module_version": "1.2.0",
            "_model_module": "@jupyter-widgets/controls"
          }
        },
        "122b0f2bc0fc4dadb0f5da8a46f88b68": {
          "model_module": "@jupyter-widgets/base",
          "model_name": "LayoutModel",
          "state": {
            "_view_name": "LayoutView",
            "grid_template_rows": null,
            "right": null,
            "justify_content": null,
            "_view_module": "@jupyter-widgets/base",
            "overflow": null,
            "_model_module_version": "1.2.0",
            "_view_count": null,
            "flex_flow": null,
            "width": null,
            "min_width": null,
            "border": null,
            "align_items": null,
            "bottom": null,
            "_model_module": "@jupyter-widgets/base",
            "top": null,
            "grid_column": null,
            "overflow_y": null,
            "overflow_x": null,
            "grid_auto_flow": null,
            "grid_area": null,
            "grid_template_columns": null,
            "flex": null,
            "_model_name": "LayoutModel",
            "justify_items": null,
            "grid_row": null,
            "max_height": null,
            "align_content": null,
            "visibility": null,
            "align_self": null,
            "height": null,
            "min_height": null,
            "padding": null,
            "grid_auto_rows": null,
            "grid_gap": null,
            "max_width": null,
            "order": null,
            "_view_module_version": "1.2.0",
            "grid_template_areas": null,
            "object_position": null,
            "object_fit": null,
            "grid_auto_columns": null,
            "margin": null,
            "display": null,
            "left": null
          }
        },
        "17a84572b2c64728beae003172f2573f": {
          "model_module": "@jupyter-widgets/controls",
          "model_name": "HBoxModel",
          "state": {
            "_view_name": "HBoxView",
            "_dom_classes": [],
            "_model_name": "HBoxModel",
            "_view_module": "@jupyter-widgets/controls",
            "_model_module_version": "1.5.0",
            "_view_count": null,
            "_view_module_version": "1.5.0",
            "box_style": "",
            "layout": "IPY_MODEL_717e8f79309840f09983554d984040bb",
            "_model_module": "@jupyter-widgets/controls",
            "children": [
              "IPY_MODEL_6b7083d6b95c4aff9d9a0a8d5864d013",
              "IPY_MODEL_d8a656027dd04e81ba8efb2263bd5751"
            ]
          }
        },
        "717e8f79309840f09983554d984040bb": {
          "model_module": "@jupyter-widgets/base",
          "model_name": "LayoutModel",
          "state": {
            "_view_name": "LayoutView",
            "grid_template_rows": null,
            "right": null,
            "justify_content": null,
            "_view_module": "@jupyter-widgets/base",
            "overflow": null,
            "_model_module_version": "1.2.0",
            "_view_count": null,
            "flex_flow": null,
            "width": null,
            "min_width": null,
            "border": null,
            "align_items": null,
            "bottom": null,
            "_model_module": "@jupyter-widgets/base",
            "top": null,
            "grid_column": null,
            "overflow_y": null,
            "overflow_x": null,
            "grid_auto_flow": null,
            "grid_area": null,
            "grid_template_columns": null,
            "flex": null,
            "_model_name": "LayoutModel",
            "justify_items": null,
            "grid_row": null,
            "max_height": null,
            "align_content": null,
            "visibility": null,
            "align_self": null,
            "height": null,
            "min_height": null,
            "padding": null,
            "grid_auto_rows": null,
            "grid_gap": null,
            "max_width": null,
            "order": null,
            "_view_module_version": "1.2.0",
            "grid_template_areas": null,
            "object_position": null,
            "object_fit": null,
            "grid_auto_columns": null,
            "margin": null,
            "display": null,
            "left": null
          }
        },
        "6b7083d6b95c4aff9d9a0a8d5864d013": {
          "model_module": "@jupyter-widgets/controls",
          "model_name": "FloatProgressModel",
          "state": {
            "_view_name": "ProgressView",
            "style": "IPY_MODEL_7a2d2d5f690443aeb1f172da12144b5c",
            "_dom_classes": [],
            "description": "100%",
            "_model_name": "FloatProgressModel",
            "bar_style": "success",
            "max": 3125,
            "_view_module": "@jupyter-widgets/controls",
            "_model_module_version": "1.5.0",
            "value": 3125,
            "_view_count": null,
            "_view_module_version": "1.5.0",
            "orientation": "horizontal",
            "min": 0,
            "description_tooltip": null,
            "_model_module": "@jupyter-widgets/controls",
            "layout": "IPY_MODEL_558c806e193c41308bb9af9316203013"
          }
        },
        "d8a656027dd04e81ba8efb2263bd5751": {
          "model_module": "@jupyter-widgets/controls",
          "model_name": "HTMLModel",
          "state": {
            "_view_name": "HTMLView",
            "style": "IPY_MODEL_9b8354407a1c4f2aa0cccd7f73a450e6",
            "_dom_classes": [],
            "description": "",
            "_model_name": "HTMLModel",
            "placeholder": "​",
            "_view_module": "@jupyter-widgets/controls",
            "_model_module_version": "1.5.0",
            "value": " 3125/3125 [00:36&lt;00:00, 86.47it/s]",
            "_view_count": null,
            "_view_module_version": "1.5.0",
            "description_tooltip": null,
            "_model_module": "@jupyter-widgets/controls",
            "layout": "IPY_MODEL_4074170d0e864d4989da24120079e554"
          }
        },
        "7a2d2d5f690443aeb1f172da12144b5c": {
          "model_module": "@jupyter-widgets/controls",
          "model_name": "ProgressStyleModel",
          "state": {
            "_view_name": "StyleView",
            "_model_name": "ProgressStyleModel",
            "description_width": "initial",
            "_view_module": "@jupyter-widgets/base",
            "_model_module_version": "1.5.0",
            "_view_count": null,
            "_view_module_version": "1.2.0",
            "bar_color": null,
            "_model_module": "@jupyter-widgets/controls"
          }
        },
        "558c806e193c41308bb9af9316203013": {
          "model_module": "@jupyter-widgets/base",
          "model_name": "LayoutModel",
          "state": {
            "_view_name": "LayoutView",
            "grid_template_rows": null,
            "right": null,
            "justify_content": null,
            "_view_module": "@jupyter-widgets/base",
            "overflow": null,
            "_model_module_version": "1.2.0",
            "_view_count": null,
            "flex_flow": null,
            "width": null,
            "min_width": null,
            "border": null,
            "align_items": null,
            "bottom": null,
            "_model_module": "@jupyter-widgets/base",
            "top": null,
            "grid_column": null,
            "overflow_y": null,
            "overflow_x": null,
            "grid_auto_flow": null,
            "grid_area": null,
            "grid_template_columns": null,
            "flex": null,
            "_model_name": "LayoutModel",
            "justify_items": null,
            "grid_row": null,
            "max_height": null,
            "align_content": null,
            "visibility": null,
            "align_self": null,
            "height": null,
            "min_height": null,
            "padding": null,
            "grid_auto_rows": null,
            "grid_gap": null,
            "max_width": null,
            "order": null,
            "_view_module_version": "1.2.0",
            "grid_template_areas": null,
            "object_position": null,
            "object_fit": null,
            "grid_auto_columns": null,
            "margin": null,
            "display": null,
            "left": null
          }
        },
        "9b8354407a1c4f2aa0cccd7f73a450e6": {
          "model_module": "@jupyter-widgets/controls",
          "model_name": "DescriptionStyleModel",
          "state": {
            "_view_name": "StyleView",
            "_model_name": "DescriptionStyleModel",
            "description_width": "",
            "_view_module": "@jupyter-widgets/base",
            "_model_module_version": "1.5.0",
            "_view_count": null,
            "_view_module_version": "1.2.0",
            "_model_module": "@jupyter-widgets/controls"
          }
        },
        "4074170d0e864d4989da24120079e554": {
          "model_module": "@jupyter-widgets/base",
          "model_name": "LayoutModel",
          "state": {
            "_view_name": "LayoutView",
            "grid_template_rows": null,
            "right": null,
            "justify_content": null,
            "_view_module": "@jupyter-widgets/base",
            "overflow": null,
            "_model_module_version": "1.2.0",
            "_view_count": null,
            "flex_flow": null,
            "width": null,
            "min_width": null,
            "border": null,
            "align_items": null,
            "bottom": null,
            "_model_module": "@jupyter-widgets/base",
            "top": null,
            "grid_column": null,
            "overflow_y": null,
            "overflow_x": null,
            "grid_auto_flow": null,
            "grid_area": null,
            "grid_template_columns": null,
            "flex": null,
            "_model_name": "LayoutModel",
            "justify_items": null,
            "grid_row": null,
            "max_height": null,
            "align_content": null,
            "visibility": null,
            "align_self": null,
            "height": null,
            "min_height": null,
            "padding": null,
            "grid_auto_rows": null,
            "grid_gap": null,
            "max_width": null,
            "order": null,
            "_view_module_version": "1.2.0",
            "grid_template_areas": null,
            "object_position": null,
            "object_fit": null,
            "grid_auto_columns": null,
            "margin": null,
            "display": null,
            "left": null
          }
        }
      }
    }
  },
  "cells": [
    {
      "cell_type": "markdown",
      "metadata": {
        "id": "view-in-github",
        "colab_type": "text"
      },
      "source": [
        "<a href=\"https://colab.research.google.com/github/lovgon/stepik-fast-start_to_AI/blob/main/2_3_%D0%9A%D0%BB%D0%B0%D1%81%D1%81%D0%B8%D1%84%D0%B8%D0%BA%D0%B0%D1%86%D0%B8%D1%8F_%D0%B8%D0%B7%D0%BE%D0%B1%D1%80%D0%B0%D0%B6%D0%B5%D0%BD%D0%B8%D0%B9_2.ipynb\" target=\"_parent\"><img src=\"https://colab.research.google.com/assets/colab-badge.svg\" alt=\"Open In Colab\"/></a>"
      ]
    },
    {
      "cell_type": "markdown",
      "metadata": {
        "id": "RCk6mRSOgrBI"
      },
      "source": [
        "# Практическое занятие: классификация изображений"
      ]
    },
    {
      "cell_type": "markdown",
      "metadata": {
        "id": "AESJHXD8guUO"
      },
      "source": [
        "Привет!\n",
        "\n",
        "В этом практическом занятии мы будем решать задачу классификации картинок на 10 классов. \n",
        "\n",
        "Мы будем работать с датасетом СIFAR10 и библиотекой PyTorch, которая создана специально для работы с нейронными сетями."
      ]
    },
    {
      "cell_type": "markdown",
      "metadata": {
        "id": "GHaXgvJ1hJiO"
      },
      "source": [
        "![alt text](https://storage.googleapis.com/kaggle-competitions/kaggle/3649/media/cifar-10.png)"
      ]
    },
    {
      "cell_type": "markdown",
      "metadata": {
        "id": "yRbg6UplwE1P"
      },
      "source": [
        "## 1. Загрузка датасета\n"
      ]
    },
    {
      "cell_type": "code",
      "metadata": {
        "id": "mPlNFxeSopNm"
      },
      "source": [
        "import numpy as np\n",
        "from tqdm import tqdm_notebook\n",
        "import matplotlib.pyplot as plt\n",
        "%matplotlib inline\n",
        "\n",
        "# модули библиотеки PyTorch\n",
        "import torch\n",
        "from torchvision import datasets, transforms\n",
        "# метрика качества \n",
        "from sklearn.metrics import accuracy_score"
      ],
      "execution_count": 1,
      "outputs": []
    },
    {
      "cell_type": "code",
      "metadata": {
        "id": "i7RksEP0W40b"
      },
      "source": [
        ""
      ],
      "execution_count": 1,
      "outputs": []
    },
    {
      "cell_type": "code",
      "metadata": {
        "id": "FpZ8m6Ahz12m",
        "colab": {
          "base_uri": "https://localhost:8080/",
          "height": 99,
          "referenced_widgets": [
            "a7188713d616497c958f724b010f20e5",
            "5596c144f50c464b9fdf6dc152926362",
            "dc004b707c2b42f5be9722d89af98663",
            "5ccbe89d75c4485ca93e2d61d7c77b94",
            "4c00a2d5d14649d2bbd83abf3c4cc5d5",
            "fc124a9e6f734032b05c103b89563c65",
            "f0a98a804dd243968b799bba5fe3ed23",
            "af54952912ec40caaa8a78bd011ce813"
          ]
        },
        "outputId": "daa2077a-5701-4cbd-8114-62a458179c18"
      },
      "source": [
        "train_data = datasets.CIFAR10(root=\"./data\", train=True, download=True, transform=transforms.ToTensor())\n",
        "test_data = datasets.CIFAR10(root=\"./data\", train=False, download=True, transform=transforms.ToTensor())"
      ],
      "execution_count": 2,
      "outputs": [
        {
          "output_type": "stream",
          "text": [
            "Downloading https://www.cs.toronto.edu/~kriz/cifar-10-python.tar.gz to ./data/cifar-10-python.tar.gz\n"
          ],
          "name": "stdout"
        },
        {
          "output_type": "display_data",
          "data": {
            "application/vnd.jupyter.widget-view+json": {
              "model_id": "a7188713d616497c958f724b010f20e5",
              "version_minor": 0,
              "version_major": 2
            },
            "text/plain": [
              "HBox(children=(FloatProgress(value=1.0, bar_style='info', max=1.0), HTML(value='')))"
            ]
          },
          "metadata": {
            "tags": []
          }
        },
        {
          "output_type": "stream",
          "text": [
            "Extracting ./data/cifar-10-python.tar.gz to ./data\n",
            "Files already downloaded and verified\n"
          ],
          "name": "stdout"
        }
      ]
    },
    {
      "cell_type": "code",
      "metadata": {
        "id": "JVodhaPv5TZj"
      },
      "source": [
        "train_loader = torch.utils.data.DataLoader(train_data, batch_size=16, shuffle = True)\n",
        "test_loader = torch.utils.data.DataLoader(test_data, batch_size=len(test_data), shuffle = False)"
      ],
      "execution_count": 3,
      "outputs": []
    },
    {
      "cell_type": "code",
      "metadata": {
        "id": "KPpEqQVs5p8q"
      },
      "source": [
        "dataiter = iter(train_loader)\n",
        "# батч картинок и батч ответов к картинкам\n",
        "images, labels = dataiter.next()"
      ],
      "execution_count": 4,
      "outputs": []
    },
    {
      "cell_type": "code",
      "metadata": {
        "id": "PthxxQ655xCC",
        "colab": {
          "base_uri": "https://localhost:8080/"
        },
        "outputId": "47f87b40-e88c-4a79-8c82-8efe6ad0a39f"
      },
      "source": [
        "images.shape, labels.shape"
      ],
      "execution_count": 5,
      "outputs": [
        {
          "output_type": "execute_result",
          "data": {
            "text/plain": [
              "(torch.Size([16, 3, 32, 32]), torch.Size([16]))"
            ]
          },
          "metadata": {
            "tags": []
          },
          "execution_count": 5
        }
      ]
    },
    {
      "cell_type": "code",
      "metadata": {
        "id": "kiSYOg5M35S3",
        "colab": {
          "base_uri": "https://localhost:8080/",
          "height": 157
        },
        "outputId": "fb2b234a-367e-4e4e-fc8c-fe98a9fb7cc1"
      },
      "source": [
        "def show_imgs(imgs, labels):\n",
        "    f, axes= plt.subplots(1, 10, figsize=(30,5))\n",
        "    for i, axis in enumerate(axes):\n",
        "      axes[i].imshow(np.squeeze(np.transpose(imgs[i].numpy(), (1, 2, 0))), cmap='gray')\n",
        "      axes[i].set_title(labels[i].numpy())\n",
        "    plt.show()\n",
        "\n",
        "show_imgs(images, labels)\n"
      ],
      "execution_count": 6,
      "outputs": [
        {
          "output_type": "stream",
          "text": [
            "\n"
          ],
          "name": "stdout"
        },
        {
          "output_type": "display_data",
          "data": {
            "image/png": "[encoded data removed]",
            "text/plain": [
              "<Figure size 2160x360 with 10 Axes>"
            ]
          },
          "metadata": {
            "tags": [],
            "needs_background": "light"
          }
        }
      ]
    },
    {
      "cell_type": "markdown",
      "metadata": {
        "id": "IDxi1GkyjoEH"
      },
      "source": [
        "Таблица соответствий номеров ответов и классов:\n",
        "\n",
        "| Label        | Class           |\n",
        "| ------------- |:-------------:|\n",
        "| 0     | Самолет |\n",
        "| 1    | Автомобиль      | \n",
        "| 2 | Птица      |\n",
        "| 3 | Кошка      |\n",
        "| 4 | Олень      |\n",
        "| 5 | Собака      |\n",
        "| 6 | Лягушка     |\n",
        "| 7 | Лошадь     |\n",
        "| 8 | Корабль     |\n",
        "| 9 | Грузовик     |\n"
      ]
    },
    {
      "cell_type": "markdown",
      "metadata": {
        "id": "s85Lp3TnzCC_"
      },
      "source": [
        "Создадим словарь соответствий номера и названия, чтобы проще интерпретировать выход нейронной сети:"
      ]
    },
    {
      "cell_type": "code",
      "metadata": {
        "id": "R35_4qx_wkgU"
      },
      "source": [
        "num_to_name = {\n",
        "    0: \"Самолет\",\n",
        "    1: \"Автомобиль\",\n",
        "    2: \"Птица\",\n",
        "    3: \"Кошка\",\n",
        "    4: \"Олень\",\n",
        "    5: \"Собака\",\n",
        "    6: \"Лягушка\",\n",
        "    7: \"Лошадь\",\n",
        "    8: \"Корабль\",\n",
        "    9: \"Грузовик\"\n",
        "}"
      ],
      "execution_count": 7,
      "outputs": []
    },
    {
      "cell_type": "markdown",
      "metadata": {
        "id": "UOWAkb6On3V6"
      },
      "source": [
        "Импортируем нужные модули для обучения сети:"
      ]
    },
    {
      "cell_type": "code",
      "metadata": {
        "id": "kM9AM2p7OhNd"
      },
      "source": [
        "# модуль, где определены слои для нейронных сетей\n",
        "import torch.nn as nn\n",
        "# модуль, где определены активайии для слоев нейронных сетей\n",
        "import torch.nn.functional as F"
      ],
      "execution_count": 8,
      "outputs": []
    },
    {
      "cell_type": "markdown",
      "metadata": {
        "id": "quEVWS0Dw9G6"
      },
      "source": [
        "## 2. Обучение и тест базовой сети."
      ]
    },
    {
      "cell_type": "markdown",
      "metadata": {
        "id": "4jOthZsEUmsI"
      },
      "source": [
        "Для начала построим двуслойную полносвязную нейронную сеть, обучим ее и посчитаем метрику accuracy на тестовой выборке:"
      ]
    },
    {
      "cell_type": "markdown",
      "metadata": {
        "id": "wOvJFo0CXP-l"
      },
      "source": [
        "<a href=\"https://ibb.co/prDn4RG\"><img src=\"https://i.ibb.co/G3wFCtB/Screen-Shot-2020-03-14-at-9-43-10-PM.png\" alt=\"Screen-Shot-2020-03-14-at-9-43-10-PM\" border=\"0\"></a>"
      ]
    },
    {
      "cell_type": "code",
      "metadata": {
        "id": "2_fsjuQdUtmz"
      },
      "source": [
        "# класс для удобного перевода картинки из двумерного объекта в вектор\n",
        "class Flatten(nn.Module):\n",
        "    def forward(self, input):\n",
        "        return input.view(input.size(0), -1)\n",
        "\n",
        "class SimpleNet(nn.Module):\n",
        "    def __init__(self):\n",
        "        super().__init__()\n",
        "        self.flatten = Flatten()\n",
        "        self.fc1 = nn.Linear(32*32*3, 256)\n",
        "        self.fc2 = nn.Linear(256, 10)\n",
        "    \n",
        "    def forward(self, x):\n",
        "        # forward pass сети\n",
        "\n",
        "        # переводим входной объект из картинки в вектор\n",
        "        x = self.flatten(x)\n",
        "        # умножение на матрицу весов 1 слоя и применение функции активации\n",
        "        x = F.relu(self.fc1(x))\n",
        "        # умножение на матрицу весов 2 слоя и применение функции активации\n",
        "        x = F.softmax(self.fc2(x))\n",
        "        return x"
      ],
      "execution_count": 9,
      "outputs": []
    },
    {
      "cell_type": "markdown",
      "metadata": {
        "id": "FkafyUQ9On_q"
      },
      "source": [
        "Давайте вынесем код обучения сети в отдельную функцию, чтобы каждый раз при изменении сети не копировать его. Код обучения мы менять не будем."
      ]
    },
    {
      "cell_type": "code",
      "metadata": {
        "id": "MUXLCmBx0ut1"
      },
      "source": [
        "def train(net, n_epoch=2):\n",
        "  # выбираем функцию потерь\n",
        "  loss_fn = torch.nn.CrossEntropyLoss()\n",
        "\n",
        "  # выбираем алгоритм оптимизации и learning_rate\n",
        "  learning_rate = 1e-3\n",
        "  optimizer = torch.optim.Adam(net.parameters(), lr=learning_rate)\n",
        "\n",
        "  # обучаем сеть 2 эпохи\n",
        "  for epoch in tqdm_notebook(range(n_epoch)):\n",
        "\n",
        "      running_loss = 0.0\n",
        "      train_dataiter = iter(train_loader)\n",
        "      for i, batch in enumerate(tqdm_notebook(train_dataiter)):\n",
        "          # так получаем текущий батч\n",
        "          X_batch, y_batch = batch\n",
        "          \n",
        "          # обнуляем веса\n",
        "          optimizer.zero_grad()\n",
        "\n",
        "          # forward pass (получение ответов на батч картинок)\n",
        "          y_pred = net(X_batch)\n",
        "          # вычисление лосса от выданных сетью ответов и правильных ответов на батч\n",
        "          loss = loss_fn(y_pred, y_batch)\n",
        "          # bsckpropagation (вычисление градиентов)\n",
        "          loss.backward()\n",
        "          # обновление весов сети\n",
        "          optimizer.step()\n",
        "\n",
        "          # выведем текущий loss\n",
        "          running_loss += loss.item()\n",
        "          # выведем качество каждые 500 батчей\n",
        "          if i % 500 == 499:\n",
        "              print('[%d, %5d] loss: %.3f' %\n",
        "                    (epoch + 1, i + 1, running_loss / 500))\n",
        "              running_loss = 0.0\n",
        "\n",
        "  print('Обучение закончено')\n",
        "  return net"
      ],
      "execution_count": 10,
      "outputs": []
    },
    {
      "cell_type": "code",
      "metadata": {
        "id": "KSyG2GinN2fu",
        "colab": {
          "base_uri": "https://localhost:8080/",
          "height": 519,
          "referenced_widgets": [
            "00f3b2d2459c4a3a8397a57a662da93b",
            "e093bf02d3a44c35bc9b98cb8e40db0c",
            "6a851209e24441a88ca06c010fbc28c3",
            "99fa491fa5de41e9814d6ac396db2b8e",
            "2a0555f6905b456586c77b27e3e6f06d",
            "e5366f7934564a43bbba8880fa11d174",
            "f8f6cc9b9bf645ebb7c594c8cc446aa6",
            "f6253892f70e4d599f0be6cd3fed5edf",
            "f415bdd7a7c249339e2684b812f941cc",
            "fee957b8334047c28c5bf53950bef687",
            "91ad4494541e44e293c1f1b56faf3b04",
            "e78e246c4dcb4edcab6d65fdc1f91c79",
            "53346b95f1c542f5a5b7cdee94599f63",
            "d457c9b366f049d1861cd622e8150c41",
            "d15b339d9dd845c0820f1c5373fd16f3",
            "e2293dca4aa145cd8ad114ed89722aac",
            "6cb6846939e04af9a8134b29e97de07f",
            "ef794552b9154babb492809be43b89a8",
            "762693edd04449beadd86b9277b595b4",
            "a63fff6e079a4df2a89d219f2b35f8be",
            "5a5f16a413e5451a810d8c6841871cee",
            "5eaf7f17543f4a8aa14ce5f1c72d0bc9",
            "b9a548b7521e44e48e7cf02442842244",
            "20a8c91b6c874d35977f5c08a49a6c75"
          ]
        },
        "outputId": "622ab466-f66a-4ee1-bf35-d2f21636de33"
      },
      "source": [
        "# объявляем сеть\n",
        "net = SimpleNet()\n",
        "# теперь обучить сеть можно вызвав функцию train и передав туда переменную сети.\n",
        "net = train(net)"
      ],
      "execution_count": 11,
      "outputs": [
        {
          "output_type": "stream",
          "text": [
            "/usr/local/lib/python3.6/dist-packages/ipykernel_launcher.py:10: TqdmDeprecationWarning: This function will be removed in tqdm==5.0.0\n",
            "Please use `tqdm.notebook.tqdm` instead of `tqdm.tqdm_notebook`\n",
            "  # Remove the CWD from sys.path while we load stuff.\n"
          ],
          "name": "stderr"
        },
        {
          "output_type": "display_data",
          "data": {
            "application/vnd.jupyter.widget-view+json": {
              "model_id": "00f3b2d2459c4a3a8397a57a662da93b",
              "version_minor": 0,
              "version_major": 2
            },
            "text/plain": [
              "HBox(children=(FloatProgress(value=0.0, max=2.0), HTML(value='')))"
            ]
          },
          "metadata": {
            "tags": []
          }
        },
        {
          "output_type": "stream",
          "text": [
            "/usr/local/lib/python3.6/dist-packages/ipykernel_launcher.py:14: TqdmDeprecationWarning: This function will be removed in tqdm==5.0.0\n",
            "Please use `tqdm.notebook.tqdm` instead of `tqdm.tqdm_notebook`\n",
            "  \n"
          ],
          "name": "stderr"
        },
        {
          "output_type": "display_data",
          "data": {
            "application/vnd.jupyter.widget-view+json": {
              "model_id": "f415bdd7a7c249339e2684b812f941cc",
              "version_minor": 0,
              "version_major": 2
            },
            "text/plain": [
              "HBox(children=(FloatProgress(value=0.0, max=3125.0), HTML(value='')))"
            ]
          },
          "metadata": {
            "tags": []
          }
        },
        {
          "output_type": "stream",
          "text": [
            "/usr/local/lib/python3.6/dist-packages/ipykernel_launcher.py:21: UserWarning: Implicit dimension choice for softmax has been deprecated. Change the call to include dim=X as an argument.\n"
          ],
          "name": "stderr"
        },
        {
          "output_type": "stream",
          "text": [
            "[1,   500] loss: 2.260\n",
            "[1,  1000] loss: 2.190\n",
            "[1,  1500] loss: 2.158\n",
            "[1,  2000] loss: 2.138\n",
            "[1,  2500] loss: 2.134\n",
            "[1,  3000] loss: 2.119\n",
            "\n"
          ],
          "name": "stdout"
        },
        {
          "output_type": "display_data",
          "data": {
            "application/vnd.jupyter.widget-view+json": {
              "model_id": "6cb6846939e04af9a8134b29e97de07f",
              "version_minor": 0,
              "version_major": 2
            },
            "text/plain": [
              "HBox(children=(FloatProgress(value=0.0, max=3125.0), HTML(value='')))"
            ]
          },
          "metadata": {
            "tags": []
          }
        },
        {
          "output_type": "stream",
          "text": [
            "[2,   500] loss: 2.124\n",
            "[2,  1000] loss: 2.123\n",
            "[2,  1500] loss: 2.102\n",
            "[2,  2000] loss: 2.105\n",
            "[2,  2500] loss: 2.097\n",
            "[2,  3000] loss: 2.093\n",
            "\n",
            "\n",
            "Обучение закончено\n"
          ],
          "name": "stdout"
        }
      ]
    },
    {
      "cell_type": "markdown",
      "metadata": {
        "id": "UVjGdi3KXYsb"
      },
      "source": [
        "Посчитаем accuracy на test:"
      ]
    },
    {
      "cell_type": "code",
      "metadata": {
        "id": "-oi1sROrN3NH"
      },
      "source": [
        "test_dataiter = iter(test_loader)\n",
        "images, labels = test_dataiter.next()"
      ],
      "execution_count": 12,
      "outputs": []
    },
    {
      "cell_type": "code",
      "metadata": {
        "id": "UKf6zKGE0wVU",
        "colab": {
          "base_uri": "https://localhost:8080/"
        },
        "outputId": "4939dcb4-9931-44db-f2e3-e303f21b3d87"
      },
      "source": [
        "accuracy_score(labels.numpy(), np.argmax(net.forward(images).detach().numpy(), axis=1))"
      ],
      "execution_count": 13,
      "outputs": [
        {
          "output_type": "stream",
          "text": [
            "/usr/local/lib/python3.6/dist-packages/ipykernel_launcher.py:21: UserWarning: Implicit dimension choice for softmax has been deprecated. Change the call to include dim=X as an argument.\n"
          ],
          "name": "stderr"
        },
        {
          "output_type": "execute_result",
          "data": {
            "text/plain": [
              "0.3581"
            ]
          },
          "metadata": {
            "tags": []
          },
          "execution_count": 13
        }
      ]
    },
    {
      "cell_type": "markdown",
      "metadata": {
        "id": "2neofUGsE2D0"
      },
      "source": [
        "## 3. Обучение сверточной сети"
      ]
    },
    {
      "cell_type": "markdown",
      "metadata": {
        "id": "n0drp6KjFI-9"
      },
      "source": [
        "Наша полносвязная двухслойная сеть не очень хорошо справляется с поставленной задачей. Давайте попробуем объявить и обучить сверточную нейронную сеть."
      ]
    },
    {
      "cell_type": "markdown",
      "metadata": {
        "id": "yK-00NJdhPjB"
      },
      "source": [
        "Наша нейронная сеть будет сожержать три слоя: два сверточных и один полносвязный. \n",
        "В качестве функции активации для внутренних слоев будем использовать [relu](https://neurohive.io/ru/osnovy-data-science/activation-functions/), для последнего слоя -- [softmax](https://neurohive.io/ru/osnovy-data-science/activation-functions/)"
      ]
    },
    {
      "cell_type": "code",
      "metadata": {
        "id": "_RpfGJt5Bran"
      },
      "source": [
        "# класс для удобного перевода картинки из двумерного объекта в вектор\n",
        "class Flatten(nn.Module):\n",
        "    def forward(self, input):\n",
        "        return input.view(input.size(0), -1)\n",
        "\n",
        "class ConvNet(nn.Module):\n",
        "    def __init__(self):\n",
        "        super().__init__()\n",
        "        self.conv1 = nn.Conv2d(3, 20, kernel_size=3)\n",
        "        self.conv2 = nn.Conv2d(20, 3, kernel_size=3) \n",
        "        self.flatten = Flatten()\n",
        "        self.fc = nn.Linear(2352, 10)\n",
        "    \n",
        "    def forward(self, x):\n",
        "        # forward pass сети\n",
        "        # умножение на матрицу весов 1 слоя и применение функции активации\n",
        "        x = F.relu(self.conv1(x))\n",
        "        x = F.relu(self.conv2(x))\n",
        "        x = self.flatten(x)\n",
        "        # умножение на матрицу весов 2 слоя и применение функции активации\n",
        "        x = F.softmax(self.fc(x))\n",
        "        # print(x.shape)\n",
        "        return x"
      ],
      "execution_count": 14,
      "outputs": []
    },
    {
      "cell_type": "code",
      "metadata": {
        "id": "mxU9-6ki8eWc"
      },
      "source": [
        "# объявляем сеть\n",
        "net = ConvNet()"
      ],
      "execution_count": 15,
      "outputs": []
    },
    {
      "cell_type": "code",
      "metadata": {
        "id": "npmxlrOPX8gB",
        "colab": {
          "base_uri": "https://localhost:8080/",
          "height": 519,
          "referenced_widgets": [
            "0d912a1295b2494e9bc006f0457ccca5",
            "55e8edcf9492433496e5b58be3a16bad",
            "7737e8aae518433681fc33328c4f94f7",
            "d33ce701d50e4983899f5bf325b3529e",
            "44f49122795549fc9daf814ddfbe7234",
            "b0d178d20a3b418cb0b7c1180f4c0aee",
            "20dbbc727c3f41dcbdd56a2f3bb9c0fa",
            "58ee0f7c8315496594b9bbb48bc1f020",
            "e7d1b7d112eb4725930ddbdcb373251b",
            "6966b216002d4c52a8a3afdd6b9cead4",
            "63ddab58938b464fa60e5b36633847fe",
            "b56a2ef47924471ab493c223ee44c3ee",
            "abf627552f954d7c851af12b0414e97a",
            "b7592a88e3664b2c9d95b3f510384782",
            "0e8a00e80d534cea9a69ae6b6ca0d491",
            "122b0f2bc0fc4dadb0f5da8a46f88b68",
            "17a84572b2c64728beae003172f2573f",
            "717e8f79309840f09983554d984040bb",
            "6b7083d6b95c4aff9d9a0a8d5864d013",
            "d8a656027dd04e81ba8efb2263bd5751",
            "7a2d2d5f690443aeb1f172da12144b5c",
            "558c806e193c41308bb9af9316203013",
            "9b8354407a1c4f2aa0cccd7f73a450e6",
            "4074170d0e864d4989da24120079e554"
          ]
        },
        "outputId": "f690b930-e950-4037-9db3-34aed48bd3df"
      },
      "source": [
        "net = train(net)"
      ],
      "execution_count": 16,
      "outputs": [
        {
          "output_type": "stream",
          "text": [
            "/usr/local/lib/python3.6/dist-packages/ipykernel_launcher.py:10: TqdmDeprecationWarning: This function will be removed in tqdm==5.0.0\n",
            "Please use `tqdm.notebook.tqdm` instead of `tqdm.tqdm_notebook`\n",
            "  # Remove the CWD from sys.path while we load stuff.\n"
          ],
          "name": "stderr"
        },
        {
          "output_type": "display_data",
          "data": {
            "application/vnd.jupyter.widget-view+json": {
              "model_id": "0d912a1295b2494e9bc006f0457ccca5",
              "version_minor": 0,
              "version_major": 2
            },
            "text/plain": [
              "HBox(children=(FloatProgress(value=0.0, max=2.0), HTML(value='')))"
            ]
          },
          "metadata": {
            "tags": []
          }
        },
        {
          "output_type": "stream",
          "text": [
            "/usr/local/lib/python3.6/dist-packages/ipykernel_launcher.py:14: TqdmDeprecationWarning: This function will be removed in tqdm==5.0.0\n",
            "Please use `tqdm.notebook.tqdm` instead of `tqdm.tqdm_notebook`\n",
            "  \n"
          ],
          "name": "stderr"
        },
        {
          "output_type": "display_data",
          "data": {
            "application/vnd.jupyter.widget-view+json": {
              "model_id": "e7d1b7d112eb4725930ddbdcb373251b",
              "version_minor": 0,
              "version_major": 2
            },
            "text/plain": [
              "HBox(children=(FloatProgress(value=0.0, max=3125.0), HTML(value='')))"
            ]
          },
          "metadata": {
            "tags": []
          }
        },
        {
          "output_type": "stream",
          "text": [
            "/usr/local/lib/python3.6/dist-packages/ipykernel_launcher.py:21: UserWarning: Implicit dimension choice for softmax has been deprecated. Change the call to include dim=X as an argument.\n"
          ],
          "name": "stderr"
        },
        {
          "output_type": "stream",
          "text": [
            "[1,   500] loss: 2.210\n",
            "[1,  1000] loss: 2.155\n",
            "[1,  1500] loss: 2.114\n",
            "[1,  2000] loss: 2.116\n",
            "[1,  2500] loss: 2.099\n",
            "[1,  3000] loss: 2.106\n",
            "\n"
          ],
          "name": "stdout"
        },
        {
          "output_type": "display_data",
          "data": {
            "application/vnd.jupyter.widget-view+json": {
              "model_id": "17a84572b2c64728beae003172f2573f",
              "version_minor": 0,
              "version_major": 2
            },
            "text/plain": [
              "HBox(children=(FloatProgress(value=0.0, max=3125.0), HTML(value='')))"
            ]
          },
          "metadata": {
            "tags": []
          }
        },
        {
          "output_type": "stream",
          "text": [
            "[2,   500] loss: 2.088\n",
            "[2,  1000] loss: 2.087\n",
            "[2,  1500] loss: 2.085\n",
            "[2,  2000] loss: 2.077\n",
            "[2,  2500] loss: 2.077\n",
            "[2,  3000] loss: 2.074\n",
            "\n",
            "\n",
            "Обучение закончено\n"
          ],
          "name": "stdout"
        }
      ]
    },
    {
      "cell_type": "code",
      "metadata": {
        "id": "HCiTBUw48f1d"
      },
      "source": [
        "test_dataiter = iter(test_loader)\n",
        "images, labels = test_dataiter.next()"
      ],
      "execution_count": 17,
      "outputs": []
    },
    {
      "cell_type": "code",
      "metadata": {
        "id": "qqaOpXU3Bg0y",
        "colab": {
          "base_uri": "https://localhost:8080/"
        },
        "outputId": "bfe1c02f-9330-4987-ead5-63a475055bf2"
      },
      "source": [
        "accuracy_score(labels.numpy(), np.argmax(net.forward(images).detach().numpy(), axis=1))"
      ],
      "execution_count": 18,
      "outputs": [
        {
          "output_type": "stream",
          "text": [
            "/usr/local/lib/python3.6/dist-packages/ipykernel_launcher.py:21: UserWarning: Implicit dimension choice for softmax has been deprecated. Change the call to include dim=X as an argument.\n"
          ],
          "name": "stderr"
        },
        {
          "output_type": "execute_result",
          "data": {
            "text/plain": [
              "0.3613"
            ]
          },
          "metadata": {
            "tags": []
          },
          "execution_count": 18
        }
      ]
    },
    {
      "cell_type": "markdown",
      "metadata": {
        "id": "dHtx3_GdOFza"
      },
      "source": [
        "# Дополнительные материалы"
      ]
    },
    {
      "cell_type": "markdown",
      "metadata": {
        "id": "AWAdeZXKIQhp"
      },
      "source": [
        "## 4. BachNormalization"
      ]
    },
    {
      "cell_type": "markdown",
      "metadata": {
        "id": "9K__GDFMjFPb"
      },
      "source": [
        "Одно из улучшений нейронной сети -- Батч Норм (BatchNorm). \n",
        "\n",
        "Смысл Батч Норма состоит в следующем: как вы знаете, когда мы обучаем нейронную сеть, мы обучаем ее батчами. Каждый батч картинок имеет разное распределение. Когда батч проходит через первый слой сети, выход первого слоя сети тоже имеет какое-то распределение. И для всех батчей оно немного разное. \n",
        "\n",
        "Таким образом, второй слой сети каждый раз принимает на вход данные, распределенные по-разному. И при обработке первого батча картинок веса сети подстраиваются под распределение картинок этого батча, а при обработке второго должны подстраиваться под другое распределение второго батча. Такое \"метание\" плохо сказывается на обучении сети, оно становится менее стабильным и в итоге сеть обучается хуже.\n",
        "\n",
        "Батч норм -- это специальный слой сети, который используется после каждого слоя нейронной сети (кроме последнего). Он **нормализует** выходы слоев. Таким образом, следуюшему слою нейронной сети каждый раз передаются данные, распределенные примерно одинаково.\n",
        "\n",
        "Чтобы лучше осознать полезность батч норма, можно вспомнить, что при изучении КНН мы говорили о том, что перед обучением модели признаки можно нормировать. Если есть два признака (например, возраст и доход), один из которых представлен десятками, а другой -- десятками тысяч, то для лучшего обучения модели их лучше привести к одному виду. Так и тут -- для лучшего обучения нейронной сети батчи лучше привести к одному виду.\n",
        "\n",
        "Более подробно прочитать про батч норм можно тут: http://neerc.ifmo.ru/wiki/index.php?title=Batch-normalization"
      ]
    },
    {
      "cell_type": "markdown",
      "metadata": {
        "id": "knOdudHCmwq9"
      },
      "source": [
        "Напишем класс нейронной сети из трех слоев с батч нормализацией. За основу возьмем сеть, написанную выше: три слоя, 256, 64 и 10 нейронов в каждом.\n",
        "\n",
        "**Задание**: реализуйте код нейронной сети с батч нормами. Допишите код в ячейке ниже в недостающих местах и запустите обучение сети."
      ]
    },
    {
      "cell_type": "markdown",
      "metadata": {
        "id": "Ply6xBeggPng"
      },
      "source": [
        ""
      ]
    },
    {
      "cell_type": "code",
      "metadata": {
        "id": "prmdihpbDaLG",
        "colab": {
          "base_uri": "https://localhost:8080/",
          "height": 128
        },
        "outputId": "5f8884fd-66a9-4ebc-957a-7002b5f87051"
      },
      "source": [
        "# класс для удобного перевода картинки из двумерного объекта в вектор\n",
        "class Flatten(nn.Module):\n",
        "    def forward(self, input):\n",
        "        return input.view(input.size(0), -1)\n",
        "\n",
        "class SimpleNN(nn.Module):\n",
        "    def __init__(self):\n",
        "        super().__init__()\n",
        "        self.flatten = Flatten()\n",
        "        self.fc1 = <первый линейный слой размерности <размер вектора картинки>*256>\n",
        "        # задаем слой батч норма для выхода слоя сети с 256 нейронами\n",
        "        self.bn1 = nn.BatchNorm1d(256) \n",
        "        self.fc2 = <первый линейный слой размерности 256*64>\n",
        "        self.bn2 = <второй батч норм для выхода слоя сети с 64 нейронами>\n",
        "        self.fc3 = <первый линейный слой размерности 64*10>\n",
        "    \n",
        "    def forward(self, x):\n",
        "        # forward pass сети\n",
        "\n",
        "        # переводим входной объект из картинки в вектор\n",
        "        x = self.flatten(x)\n",
        "        # применение слоев и батч нормов по очереди:\n",
        "        <пропустите х через все слои и активации: fc1-relu-bn1-fc2-relu-bn2-fc3-softmax>\n",
        "\n",
        "        return x"
      ],
      "execution_count": 19,
      "outputs": [
        {
          "output_type": "error",
          "ename": "SyntaxError",
          "evalue": "ignored",
          "traceback": [
            "\u001b[0;36m  File \u001b[0;32m\"<ipython-input-19-93cad4a0f046>\"\u001b[0;36m, line \u001b[0;32m10\u001b[0m\n\u001b[0;31m    self.fc1 = <первый линейный слой размерности <размер вектора картинки>*256>\u001b[0m\n\u001b[0m               ^\u001b[0m\n\u001b[0;31mSyntaxError\u001b[0m\u001b[0;31m:\u001b[0m invalid syntax\n"
          ]
        }
      ]
    },
    {
      "cell_type": "code",
      "metadata": {
        "id": "5qi1hoBpIVhY"
      },
      "source": [
        "# объявляем сеть\n",
        "net = SimpleNN()"
      ],
      "execution_count": null,
      "outputs": []
    },
    {
      "cell_type": "code",
      "metadata": {
        "id": "4649Jc2jdTOC"
      },
      "source": [
        "# не изменяйте эту ячейку!\n",
        "# эта ячейка проверяет ваш код на правильность\n",
        "# если при запуске ячейка выдает ошибку, то у вас в коде ошибка\n",
        "\n",
        "assert len(net.state_dict().keys()) == 16, \"Неверное количество слоев. \\\n",
        "Проверьте, что в вашей сети три слоя и два батч-норма после первого и второго слоя.\"\n",
        "\n",
        "fc1 = list(net.state_dict().keys())[0]\n",
        "fc2 = list(net.state_dict().keys())[7]\n",
        "fc3 = list(net.state_dict().keys())[14]\n",
        "\n",
        "assert net.state_dict()[fc1].shape == (256, 3072), \"Неверные размерности первого слоя. \\\n",
        "Должно быть размер вектора картинки * 256\"\n",
        "assert net.state_dict()[fc2].shape == (64, 256), \"Неверные размерности второго слоя. \\\n",
        "Должно быть 256 * 64\"\n",
        "assert net.state_dict()[fc3].shape == (10, 64), \"Неверные размерности третьего слоя. \\\n",
        "Должно быть 64 * 10\""
      ],
      "execution_count": null,
      "outputs": []
    },
    {
      "cell_type": "markdown",
      "metadata": {
        "id": "HwpZVw0cn-qD"
      },
      "source": [
        "Обучаем:"
      ]
    },
    {
      "cell_type": "code",
      "metadata": {
        "id": "LPBnm1S_n_8W"
      },
      "source": [
        "net = train(net)"
      ],
      "execution_count": null,
      "outputs": []
    },
    {
      "cell_type": "code",
      "metadata": {
        "id": "SPoZc80NIiHR"
      },
      "source": [
        "test_dataiter = iter(test_loader)\n",
        "images, labels = test_dataiter.next()"
      ],
      "execution_count": null,
      "outputs": []
    },
    {
      "cell_type": "code",
      "metadata": {
        "id": "fFt6GSuPIn1M"
      },
      "source": [
        "accuracy_score(labels.numpy(), np.argmax(net.forward(images).detach().numpy(), axis=1))"
      ],
      "execution_count": null,
      "outputs": []
    },
    {
      "cell_type": "markdown",
      "metadata": {
        "id": "4Y8kfB-Jn1Qi"
      },
      "source": [
        "Видим, что accuracy увеличился! Batch Norm действительно работает."
      ]
    },
    {
      "cell_type": "markdown",
      "metadata": {
        "id": "TABLTWClKC11"
      },
      "source": [
        "## 5. Подбор гиперпараметров"
      ]
    },
    {
      "cell_type": "markdown",
      "metadata": {
        "id": "CwPF-n8Heu9k"
      },
      "source": [
        "Наверное, вы уже заметили, что у нас в модели довольно много гиперпараметров. Например: количество слоев, размеры каждого слоя, learning rate в градиентном спуске. Как и в не нейронных моделях машинного обучения, эти гиперпараметры можно подбирать. Этим мы сейчас и займемся."
      ]
    },
    {
      "cell_type": "markdown",
      "metadata": {
        "id": "KBOZhQIcffk0"
      },
      "source": [
        "Перенесем сюда код класса нейронной сети и функции обучения.\n",
        "\n",
        "**Задание**: проведите несколько экспериментов (минимум 3) обучения сети с разными параметрами. Варьируйте количество слоев, количество нейронов в слоях (у нас выше были 256 и 64, попробуйте других числа), различные функции активации после внутренних слоев (после последнего оставьте softmax) и разный learning rate. Опишите свои выводы на основе проделанных экспериментов в отдельной ячейке ниже."
      ]
    },
    {
      "cell_type": "markdown",
      "metadata": {
        "id": "iLXnM91shHff"
      },
      "source": [
        "**P.S.** разные функции активации, как и relu, можно найти в torch.functional, который у нас импортирован как F."
      ]
    },
    {
      "cell_type": "code",
      "metadata": {
        "id": "eX1k68AKhT3n"
      },
      "source": [
        "# примеры функций активации\n",
        "F.relu\n",
        "F.celu\n",
        "F.elu\n",
        "F.leaky_relu\n",
        "F.prelu"
      ],
      "execution_count": null,
      "outputs": []
    },
    {
      "cell_type": "markdown",
      "metadata": {
        "id": "h0hc7tzChnwG"
      },
      "source": [
        "#### Выводы\n",
        "\n",
        "Опишите ваши выводы на основе проделанных экспериментов тут. Как повляили различные значения гиперпараметров на итоговую величиную accuracy? Как вы думаете, почему?"
      ]
    },
    {
      "cell_type": "code",
      "metadata": {
        "id": "hw724B3pOTiv"
      },
      "source": [
        "# класс для удобного перевода картинки из двумерного объекта в вектор\n",
        "class Flatten(nn.Module):\n",
        "    def forward(self, input):\n",
        "        return input.view(input.size(0), -1)\n",
        "\n",
        "class SimpleNN(nn.Module):\n",
        "    def __init__(self):\n",
        "        super().__init__()\n",
        "        self.flatten = Flatten()\n",
        "        self.fc1 = <первый линейный слой какой-нибудь размерности>\n",
        "        <еще слои, батч нормы на ваш выбор>\n",
        "        \n",
        "    \n",
        "    def forward(self, x):\n",
        "        # forward pass сети\n",
        "\n",
        "        # переводим входной объект из картинки в вектор\n",
        "        x = self.flatten(x)\n",
        "        <примените ваши слои, объявленные в init. Не забудьте про функици активации!>\n",
        "        return x"
      ],
      "execution_count": null,
      "outputs": []
    },
    {
      "cell_type": "code",
      "metadata": {
        "id": "YXXL6sOyffC6"
      },
      "source": [
        "def train(net):\n",
        "  # выбираем функцию потерь\n",
        "  loss_fn = torch.nn.CrossEntropyLoss()\n",
        "\n",
        "  # выбираем алгоритм оптимизации и learning_rate\n",
        "  learning_rate = <попробуйте обучить сеть с разными значениями learning rate. Например, 0.1, 0.01, ...>\n",
        "  optimizer = torch.optim.Adam(net.parameters(), lr=learning_rate)\n",
        "\n",
        "  # обучаем сеть 2 эпохи\n",
        "  for epoch in tqdm_notebook(range(2)):\n",
        "\n",
        "      running_loss = 0.0\n",
        "      train_dataiter = iter(train_loader)\n",
        "      for i, batch in enumerate(tqdm_notebook(train_dataiter)):\n",
        "          # так получаем текущий батч\n",
        "          X_batch, y_batch = batch\n",
        "          \n",
        "          # обнуляем веса\n",
        "          optimizer.zero_grad()\n",
        "\n",
        "          # forward pass (получение ответов на батч картинок)\n",
        "          y_pred = net(X_batch)\n",
        "          # вычисление лосса от выданных сетью ответов и правильных ответов на батч\n",
        "          loss = loss_fn(y_pred, y_batch)\n",
        "          # bsckpropagation (вычисление градиентов)\n",
        "          loss.backward()\n",
        "          # обновление весов сети\n",
        "          optimizer.step()\n",
        "\n",
        "          # выведем текущий loss\n",
        "          running_loss += loss.item()\n",
        "          # выведем качество каждые 500 батчей\n",
        "          if i % 500 == 499:\n",
        "              print('[%d, %5d] loss: %.3f' %\n",
        "                    (epoch + 1, i + 1, running_loss / 500))\n",
        "              running_loss = 0.0\n",
        "\n",
        "  print('Обучение закончено')\n",
        "  return net"
      ],
      "execution_count": null,
      "outputs": []
    },
    {
      "cell_type": "code",
      "metadata": {
        "id": "PWqxz6ANh6qs"
      },
      "source": [
        "net = SimpleNN()\n",
        "net = train(net)"
      ],
      "execution_count": null,
      "outputs": []
    },
    {
      "cell_type": "code",
      "metadata": {
        "id": "iADEDSH9iA6f"
      },
      "source": [
        "test_dataiter = iter(test_loader)\n",
        "images, labels = test_dataiter.next()"
      ],
      "execution_count": null,
      "outputs": []
    },
    {
      "cell_type": "code",
      "metadata": {
        "id": "iHdEUinQiCvn"
      },
      "source": [
        "accuracy_score(labels.numpy(), np.argmax(net.forward(images).detach().numpy(), axis=1))"
      ],
      "execution_count": null,
      "outputs": []
    },
    {
      "cell_type": "markdown",
      "metadata": {
        "id": "ZOsEeSc3iLtQ"
      },
      "source": [
        "## 6. Еще ссылки"
      ]
    },
    {
      "cell_type": "markdown",
      "metadata": {
        "id": "rnCQ3Qm0iOZd"
      },
      "source": [
        "Мы рассмотрели далеко не все способы улучшить сеть. Есть еще много. Например, **Dropout** (дропаут) помогает бороться с переобчением сетей. Почитать о нем можно тут: [Дропаут на викиконспектах](https://http://neerc.ifmo.ru/wiki/index.php?title=Практики_реализации_нейронных_сетей#.D0.94.D1.80.D0.BE.D0.BF.D0.B0.D1.83.D1.82).\n",
        "\n",
        "Вообще, подбор параметров для обучения нейронной сети -- очень сложная задача. И чем задача сложнее (машинный перевод, генерация изображений и т.д.), тем нейронные сети становятся глубже и имеют все больше параметров. Для того, чтобы хорошо обучить сеть для сложной задачи, нужно подобрать архитектуру, количество слоев, количество нейронов в слое, правильный метод обучения -- learning rate, количество эпох и еще много других параметров. Это сделать весьма непросто."
      ]
    }
  ]
}