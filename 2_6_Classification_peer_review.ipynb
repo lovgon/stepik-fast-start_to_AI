{
  "nbformat": 4,
  "nbformat_minor": 0,
  "metadata": {
    "colab": {
      "name": "2_6_Classification_peer_review.ipynb",
      "provenance": [],
      "collapsed_sections": [],
      "toc_visible": true,
      "include_colab_link": true
    },
    "kernelspec": {
      "name": "python3",
      "display_name": "Python 3"
    },
    "accelerator": "GPU"
  },
  "cells": [
    {
      "cell_type": "markdown",
      "metadata": {
        "id": "view-in-github",
        "colab_type": "text"
      },
      "source": [
        "<a href=\"https://colab.research.google.com/github/lovgon/stepik-fast-start_to_AI/blob/main/2_6_Classification_peer_review.ipynb\" target=\"_parent\"><img src=\"https://colab.research.google.com/assets/colab-badge.svg\" alt=\"Open In Colab\"/></a>"
      ]
    },
    {
      "cell_type": "markdown",
      "metadata": {
        "id": "RCk6mRSOgrBI"
      },
      "source": [
        "# Домашнее задание: дообучение нейросети\n",
        "\n"
      ]
    },
    {
      "cell_type": "markdown",
      "metadata": {
        "id": "AESJHXD8guUO"
      },
      "source": [
        "Привет!\n",
        "\n",
        "В этом домашнем задании вам предстоит самим дообучить сеть на новом датасете для классификации.  \n",
        "\n",
        "В последнем практическом занятии этого модуля мы решали задачу классификации кошек и собак с помощью предобученной на ImageNet сети. На самом деле, это не совсем честно, потому что среди классов ImageNet наверняка есть классы \"кошка\" и \"собака\", и сеть, обученная на ImageNet и без дообучения может классифицировать кошек и собак. \n",
        "Поэтому в домашнем задании мы возьмем датасет фотографий Intel Image Classification (https://www.kaggle.com/puneet6060/intel-image-classification) природы. "
      ]
    },
    {
      "cell_type": "markdown",
      "metadata": {
        "id": "qmpbBWnLqDHB"
      },
      "source": [
        "![alt text](https://miro.medium.com/max/640/1*Y1y83HN7oI98EJT3LQgv-g.png)"
      ]
    },
    {
      "cell_type": "markdown",
      "metadata": {
        "id": "yRbg6UplwE1P"
      },
      "source": [
        "## 1. Загрузка датасета\n"
      ]
    },
    {
      "cell_type": "markdown",
      "metadata": {
        "id": "thYHVy64UeYp"
      },
      "source": [
        "Для загрузки датасета из интернета воспользуемся командами bash. Bash -- язык командной строки linux. В ячейках jupyter notebook можно запускать команды bash, предварительно написав ! в начале ячейки."
      ]
    },
    {
      "cell_type": "code",
      "metadata": {
        "id": "BZ0EFJqKmS_R"
      },
      "source": [
        "# команда wget скачивает файлы из интернета по ссылке\n",
        "! wget -c \"https://storage.googleapis.com/kaggle-data-sets/111880%2F269359%2Fbundle%2Farchive.zip?GoogleAccessId=gcp-kaggle-com@kaggle-161607.iam.gserviceaccount.com&Expires=1599859461&Signature=M3%2F%2FZh4ZO0UGqPgY88LNgkNJJ%2BpTtdVIHN9sB%2FuvNJBHQMFz5OhWJUwtuSDc%2Fr1Q%2FD%2F3gD2wUFBA8vgxpumu75Rh7EdViQzWJU3Iybet5%2FfFVhzg1onuCONRljsrXAZG%2BGxb%2B4rDdOP2eZ1OFCVNqVRNO0ASQhwjsQFLTW8sp9gvd8dcVCO0iNFOnZNJuiGRp0IU%2FI3BVf%2FA3zLe1ECHkwjG5%2Ba6Zo4lBRbhYsr5LxtlSH%2BDJcPTZkfWa3vqUCvjM99zK4ESPdNuC4X72nbONb1crKcWS%2BlJRfBNKUXECt1dFDU9SFTS0e1iI%2BPAFCzoG4WH4rwvsA0IsN%2BIGg5R9Q%3D%3D\" -O dataset.zip\n",
        "# команда unzip разархивирует zip-архив\n",
        "! unzip dataset.zip"
      ],
      "execution_count": null,
      "outputs": []
    },
    {
      "cell_type": "code",
      "metadata": {
        "id": "TCSNbTmRpWc_"
      },
      "source": [
        "# команда ls выводит список файлов в текущей директории\n",
        "! ls"
      ],
      "execution_count": null,
      "outputs": []
    },
    {
      "cell_type": "code",
      "metadata": {
        "id": "qN46yQ3-pedX"
      },
      "source": [
        "# команда ls ИМЯ_ПАПКИ выводит список файлов в указанной папке\n",
        "! ls seg_train/seg_train"
      ],
      "execution_count": null,
      "outputs": []
    },
    {
      "cell_type": "code",
      "metadata": {
        "id": "jtgNLePHVJDy"
      },
      "source": [
        "! ls seg_test/seg_test"
      ],
      "execution_count": null,
      "outputs": []
    },
    {
      "cell_type": "code",
      "metadata": {
        "id": "mPlNFxeSopNm"
      },
      "source": [
        "import numpy as np\n",
        "from tqdm import tqdm_notebook\n",
        "import matplotlib.pyplot as plt\n",
        "%matplotlib inline\n",
        "\n",
        "# модули библиотеки PyTorch\n",
        "import torch\n",
        "from torchvision import datasets, transforms\n",
        "# метрика качества \n",
        "from sklearn.metrics import accuracy_score"
      ],
      "execution_count": null,
      "outputs": []
    },
    {
      "cell_type": "markdown",
      "metadata": {
        "id": "2yxCulXbqrZg"
      },
      "source": [
        "## Задание 1 (0 баллов)"
      ]
    },
    {
      "cell_type": "markdown",
      "metadata": {
        "id": "0NLXumoxqvQG"
      },
      "source": [
        "Как обычно, начнем с загрузки даатсета в пайторч с помощью ImageFolder.\n",
        "\n",
        "Для начала объявим трансформации.\n",
        "\n",
        "Объявите трансформации для тренировочного и тестового датасета: \n",
        "\n",
        "*   перевод картинки в тензор \n",
        "*   нормализация с mean=[0.485, 0.456, 0.406] и std=[0.229, 0.224, 0.225]\n",
        "\n",
        "\n",
        "Resize делать не надо! Все картинки этого датасета уже приведены к одному форматц 150*150"
      ]
    },
    {
      "cell_type": "code",
      "metadata": {
        "id": "amd35avcp7nI"
      },
      "source": [
        "transform_train = transforms.Compose([\n",
        "         # YOUR CODE\n",
        "])\n",
        "\n",
        "transform_val = transforms.Compose([\n",
        "         # YOUR CODE\n",
        "])"
      ],
      "execution_count": null,
      "outputs": []
    },
    {
      "cell_type": "markdown",
      "metadata": {
        "id": "5lWLYwvyrV3G"
      },
      "source": [
        "И теперь объявим датасеты:"
      ]
    },
    {
      "cell_type": "code",
      "metadata": {
        "id": "FpZ8m6Ahz12m"
      },
      "source": [
        "train_data = datasets.ImageFolder(\"seg_train/seg_train\", transform=transform_train)\n",
        "test_data = datasets.ImageFolder(\"seg_test/seg_test\", transform=transform_val)"
      ],
      "execution_count": null,
      "outputs": []
    },
    {
      "cell_type": "code",
      "metadata": {
        "id": "HJBx8nVmpcwT"
      },
      "source": [
        "train_data"
      ],
      "execution_count": null,
      "outputs": []
    },
    {
      "cell_type": "markdown",
      "metadata": {
        "id": "509LjGAmrc4T"
      },
      "source": [
        "Объявите даталоадеры. Помните, что для тренировочного даталоадера важно перемешивать данные, для тестового -- неважно. Батч сайз возьмите проивзольный. Но не берите слишком маленький, будете долго ждать обучения сети."
      ]
    },
    {
      "cell_type": "code",
      "metadata": {
        "id": "JVodhaPv5TZj"
      },
      "source": [
        "train_loader = # YOUR CODE\n",
        "test_loader = # YOUR CODE"
      ],
      "execution_count": null,
      "outputs": []
    },
    {
      "cell_type": "markdown",
      "metadata": {
        "id": "6gdhjhDZrsRy"
      },
      "source": [
        "Отлично! Теперь давайте посмотрим на примеры картинок из датасета, и заодно проверим, что вы объявили даталоадеры верно."
      ]
    },
    {
      "cell_type": "code",
      "metadata": {
        "id": "KPpEqQVs5p8q"
      },
      "source": [
        "dataiter = iter(train_loader)\n",
        "# батч картинок и батч ответов к картинкам\n",
        "images, labels = dataiter.next()"
      ],
      "execution_count": null,
      "outputs": []
    },
    {
      "cell_type": "code",
      "metadata": {
        "id": "PthxxQ655xCC"
      },
      "source": [
        "images.shape, labels.shape"
      ],
      "execution_count": null,
      "outputs": []
    },
    {
      "cell_type": "code",
      "metadata": {
        "id": "kiSYOg5M35S3"
      },
      "source": [
        "def show_imgs(imgs, labels):\n",
        "    f, axes= plt.subplots(1, 10, figsize=(30,5))\n",
        "    for i, axis in enumerate(axes):\n",
        "      axes[i].imshow(np.squeeze(np.transpose(imgs[i].numpy(), (1, 2, 0))), cmap='gray')\n",
        "      axes[i].set_title(labels[i].numpy())\n",
        "    plt.show()\n",
        "\n",
        "show_imgs(images, labels)\n"
      ],
      "execution_count": null,
      "outputs": []
    },
    {
      "cell_type": "markdown",
      "metadata": {
        "id": "UOWAkb6On3V6"
      },
      "source": [
        "Импортируем нужные модули для обучения сети:"
      ]
    },
    {
      "cell_type": "code",
      "metadata": {
        "id": "kM9AM2p7OhNd"
      },
      "source": [
        "# модуль, где определены слои для нейронных сетей\n",
        "import torch.nn as nn\n",
        "# модуль, где определены активайии для слоев нейронных сетей\n",
        "import torch.nn.functional as F"
      ],
      "execution_count": null,
      "outputs": []
    },
    {
      "cell_type": "markdown",
      "metadata": {
        "id": "quEVWS0Dw9G6"
      },
      "source": [
        "## Задание 2. Обучение сети с нуля. (4 балла код + 1 балл вывод)"
      ]
    },
    {
      "cell_type": "markdown",
      "metadata": {
        "id": "4jOthZsEUmsI"
      },
      "source": [
        "Построим сверточную нейронную сеть, обучим ее и посчитаем метрику accuracy на тестовой выборке.\n",
        "\n",
        "Так как в этом датасете картинки разрешения 150*150 -- больше, чем разрешение картинок из датасета с практического занятия -- то давайте построим сеть с тремя сверточными слоями и двумя макспуллингами."
      ]
    },
    {
      "cell_type": "code",
      "metadata": {
        "id": "2_fsjuQdUtmz"
      },
      "source": [
        "# класс для удобного перевода картинки из двумерного объекта в вектор\n",
        "class Flatten(nn.Module):\n",
        "    def forward(self, input):\n",
        "        return input.view(input.size(0), -1)\n",
        "\n",
        "class ConvNet(nn.Module):\n",
        "    def __init__(self):\n",
        "        super().__init__()\n",
        "        # объявите слои: Conv-MaxPool-Conv-MaxPool-Conv. \n",
        "        # Первый conv слой с 5 ядрами, второй -- с 4, третий -- с 3.\n",
        "        # MaxPool оба с параметрами (2, 2)\n",
        "\n",
        "        # YOUR CODE\n",
        "\n",
        "        # после этого объявите два полносвязных слоя: первый с 256 нейронами, \n",
        "        # второй -- с 6 (выходной слой, 6 -- количество классов в датасете)\n",
        "        # ВАЖНО! вам предстоит узнать, какое количество нейронов будет в первом \n",
        "        # полносвязном слое после растягивания карт активации в вектор (Linear(?, 256))\n",
        "        # проще всего это узнать, запустив обучение сети и посмотрев на текст ошибки:\n",
        "        # в нем будет указано, сколько нейронов ожидается в линейном слое.\n",
        "        # P.S. не забудтье Flatten!\n",
        "\n",
        "        # YOUR CODE\n",
        "    \n",
        "    def forward(self, x):\n",
        "        # forward pass сети\n",
        "        # напишите forward pass сети, используйте relu \n",
        "        # в качестве промеждуточных активаций и softmax \n",
        "        # в качестве активации последнего слоя\n",
        "        \n",
        "        return x"
      ],
      "execution_count": null,
      "outputs": []
    },
    {
      "cell_type": "markdown",
      "metadata": {
        "id": "FkafyUQ9On_q"
      },
      "source": [
        "Тут, как обычно, функция обучения сети:"
      ]
    },
    {
      "cell_type": "code",
      "metadata": {
        "id": "MUXLCmBx0ut1"
      },
      "source": [
        "def train(net, n_epoch=5):\n",
        "  # выбираем функцию потерь\n",
        "  loss_fn = torch.nn.CrossEntropyLoss()\n",
        "\n",
        "  # выбираем алгоритм оптимизации и learning_rate\n",
        "  learning_rate = 1e-3\n",
        "  optimizer = torch.optim.Adam(net.parameters(), lr=learning_rate)\n",
        "\n",
        "  # обучаем сеть 5 эпохи\n",
        "  for epoch in tqdm_notebook(range(n_epoch)):\n",
        "\n",
        "      running_loss = 0.0\n",
        "      train_dataiter = iter(train_loader)\n",
        "      for i, batch in enumerate(tqdm_notebook(train_dataiter)):\n",
        "          # так получаем текущий батч\n",
        "          X_batch, y_batch = batch\n",
        "          \n",
        "          # обнуляем веса\n",
        "          optimizer.zero_grad()\n",
        "\n",
        "          # forward pass (получение ответов на батч картинок)\n",
        "          y_pred = net(X_batch)\n",
        "          # вычисление лосса от выданных сетью ответов и правильных ответов на батч\n",
        "          loss = loss_fn(y_pred, y_batch)\n",
        "          # bsckpropagation (вычисление градиентов)\n",
        "          loss.backward()\n",
        "          # обновление весов сети\n",
        "          optimizer.step()\n",
        "\n",
        "          # выведем текущий loss\n",
        "          running_loss += loss.item()\n",
        "          # выведем качество каждые 500 батчей\n",
        "          if i % 10 == 9:\n",
        "              print('[%d, %5d] loss: %.3f, acc: %3f' %\n",
        "                    (epoch + 1, i + 1, running_loss / 500, accuracy_score(y_batch.numpy(), np.argmax(y_pred.detach().numpy(), axis=1))))\n",
        "              running_loss = 0.0\n",
        "\n",
        "  print('Обучение закончено')\n",
        "  return net"
      ],
      "execution_count": null,
      "outputs": []
    },
    {
      "cell_type": "code",
      "metadata": {
        "id": "KSyG2GinN2fu"
      },
      "source": [
        "# объявляем сеть\n",
        "net = ConvNet()\n",
        "# теперь обучим сеть. Выберите нужное уоличество эпох для обучения. \n",
        "# Постарайтесь подобрать его так, чтобы сеть не переобучилась, но и не недообучилась.\n",
        "# можно поставить побольше эпох и остановить обучение, когда покажется нужным\n",
        "net = train(net, epoch=#YOUR CODE)"
      ],
      "execution_count": null,
      "outputs": []
    },
    {
      "cell_type": "markdown",
      "metadata": {
        "id": "UVjGdi3KXYsb"
      },
      "source": [
        "Посчитаем accuracy на test:"
      ]
    },
    {
      "cell_type": "code",
      "metadata": {
        "id": "-oi1sROrN3NH"
      },
      "source": [
        "test_dataiter = iter(test_loader)\n",
        "images, labels = test_dataiter.next()"
      ],
      "execution_count": null,
      "outputs": []
    },
    {
      "cell_type": "code",
      "metadata": {
        "id": "UKf6zKGE0wVU"
      },
      "source": [
        "accuracy_score(labels.numpy(), np.argmax(net.forward(images).detach().numpy(), axis=1))"
      ],
      "execution_count": null,
      "outputs": []
    },
    {
      "cell_type": "markdown",
      "metadata": {
        "id": "W1mkYp5Ct6LL"
      },
      "source": [
        "**Задание:** \n",
        "Вывод: \n",
        "\n",
        "Проанализирейте: переобучилась ли ваша сеть? Достаточно ли хорошо она предсказывает картинки на тесте?"
      ]
    },
    {
      "cell_type": "markdown",
      "metadata": {
        "id": "1fcFq3BUxGyq"
      },
      "source": [
        "**Тут напишите ваш вывод**"
      ]
    },
    {
      "cell_type": "markdown",
      "metadata": {
        "id": "2neofUGsE2D0"
      },
      "source": [
        "## Задание 3. Дообучение AlexNet (2+2 балла код + 1 балл вывод)"
      ]
    },
    {
      "cell_type": "markdown",
      "metadata": {
        "id": "n0drp6KjFI-9"
      },
      "source": [
        "Теперь давайте попробуем дообучить сеть, предобученную на ImageNet, на нашем датасете.\n",
        "\n",
        "На практическом занятии мы дообучали Vgg16, теперь даватйе возьмем другую сеть -- AlexNet.\n",
        "\n",
        "Список сетей, предобученных на ImageNet, которые есть в библиотеке PyTorch: https://pytorch.org/docs/stable/torchvision/models.html"
      ]
    },
    {
      "cell_type": "code",
      "metadata": {
        "id": "_RpfGJt5Bran"
      },
      "source": [
        "from torchvision import models\n",
        "AlexNet = models.alexnet(pretrained=True)"
      ],
      "execution_count": null,
      "outputs": []
    },
    {
      "cell_type": "code",
      "metadata": {
        "id": "1qfS1lYLlq6t"
      },
      "source": [
        "AlexNet.parameters"
      ],
      "execution_count": null,
      "outputs": []
    },
    {
      "cell_type": "markdown",
      "metadata": {
        "id": "fnA84rkLvSnn"
      },
      "source": [
        "**Задание 3.1:**\n",
        "\n",
        "Напишите класс New_AlexNet на основе AlexNet, у которой заменили последний слой. Заморозьте все слои, кроме слоев классификатора (всех линейных слоев)"
      ]
    },
    {
      "cell_type": "code",
      "metadata": {
        "id": "hoIfyTOtnYbR"
      },
      "source": [
        "class New_AlexNet(nn.Module):\n",
        "    def __init__(self):\n",
        "        super().__init__()\n",
        "        # YOUR CODE\n",
        "    \n",
        "    def forward(self, x):\n",
        "\n",
        "        # YOUR CODE\n",
        "        \n",
        "        return x"
      ],
      "execution_count": null,
      "outputs": []
    },
    {
      "cell_type": "code",
      "metadata": {
        "id": "xm09_jmAnp4q"
      },
      "source": [
        "net = New_AlexNet()\n",
        "train(net, epoch=# YOUR CODE)"
      ],
      "execution_count": null,
      "outputs": []
    },
    {
      "cell_type": "markdown",
      "metadata": {
        "id": "I-VRRDs9wbOS"
      },
      "source": [
        "И посмотрим на скор на тесте:"
      ]
    },
    {
      "cell_type": "code",
      "metadata": {
        "id": "fO2m50VTx1mX"
      },
      "source": [
        "test_dataiter = iter(test_loader)\n",
        "images, labels = test_dataiter.next()"
      ],
      "execution_count": null,
      "outputs": []
    },
    {
      "cell_type": "code",
      "metadata": {
        "id": "qqaOpXU3Bg0y"
      },
      "source": [
        "accuracy_score(labels.numpy(), np.argmax(net.forward(images).detach().numpy(), axis=1))"
      ],
      "execution_count": null,
      "outputs": []
    },
    {
      "cell_type": "markdown",
      "metadata": {
        "id": "FIWFut_0wfgy"
      },
      "source": [
        "**Задание 3.2:**\n",
        "\n",
        "Напишите класс New_AlexNet на основе AlexNet, у которой заменили последний слой(как в задании выше) Заморозьте все слои, кроме **двух последних** слоев классификатора"
      ]
    },
    {
      "cell_type": "code",
      "metadata": {
        "id": "1yjwUwBQyBfo"
      },
      "source": [
        "class New_AlexNet_v2(nn.Module):\n",
        "    def __init__(self):\n",
        "        super().__init__()\n",
        "        # YOUR CODE\n",
        "    \n",
        "    def forward(self, x):\n",
        "\n",
        "        # YOUR CODE\n",
        "        \n",
        "        return x"
      ],
      "execution_count": null,
      "outputs": []
    },
    {
      "cell_type": "code",
      "metadata": {
        "id": "SFjr4yx7yFAx"
      },
      "source": [
        "net = New_VGG16_1()\n",
        "train(net)"
      ],
      "execution_count": null,
      "outputs": []
    },
    {
      "cell_type": "markdown",
      "metadata": {
        "id": "AZaGjQMtwr82"
      },
      "source": [
        "И посмотрим на скор на тесте:"
      ]
    },
    {
      "cell_type": "code",
      "metadata": {
        "id": "SPoZc80NIiHR"
      },
      "source": [
        "test_dataiter = iter(test_loader)\n",
        "images, labels = test_dataiter.next()"
      ],
      "execution_count": null,
      "outputs": []
    },
    {
      "cell_type": "code",
      "metadata": {
        "id": "fFt6GSuPIn1M"
      },
      "source": [
        "accuracy_score(labels.numpy(), np.argmax(net.forward(images).detach().numpy(), axis=1))"
      ],
      "execution_count": null,
      "outputs": []
    },
    {
      "cell_type": "markdown",
      "metadata": {
        "id": "RtmRyp_ewsuW"
      },
      "source": [
        "**Задание 3.3:** Вывод:\n",
        "\n",
        "Какие результаты у вас получились? Классифицирует ли картинки природы лучше сеть, предобученная на ImageNet, или ваша сеть из задания два получилась лучше? \n",
        "Есть ли разница между дообучением двух последних слоев сети или всех линейных слоев сети?"
      ]
    },
    {
      "cell_type": "markdown",
      "metadata": {
        "id": "MV1Bf06QxL8p"
      },
      "source": [
        " **Тут напишите ваш вывод**"
      ]
    },
    {
      "cell_type": "code",
      "metadata": {
        "id": "Y3Xn3U9MxM6n"
      },
      "source": [
        ""
      ],
      "execution_count": null,
      "outputs": []
    }
  ]
}